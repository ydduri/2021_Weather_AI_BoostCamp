{
  "nbformat": 4,
  "nbformat_minor": 0,
  "metadata": {
    "colab": {
      "provenance": [],
      "include_colab_link": true
    },
    "kernelspec": {
      "name": "python3",
      "display_name": "Python 3"
    },
    "language_info": {
      "name": "python"
    },
    "accelerator": "GPU"
  },
  "cells": [
    {
      "cell_type": "markdown",
      "metadata": {
        "id": "view-in-github",
        "colab_type": "text"
      },
      "source": [
        "<a href=\"https://colab.research.google.com/github/ydduri/2021_Weather_AI_BoostCamp/blob/main/Python/000_colab_tutorial.ipynb\" target=\"_parent\"><img src=\"https://colab.research.google.com/assets/colab-badge.svg\" alt=\"Open In Colab\"/></a>"
      ]
    },
    {
      "cell_type": "markdown",
      "metadata": {
        "id": "_pjFq5yW1_zI"
      },
      "source": [
        "# Why GPU?\n",
        "- [What’s the Difference Between a CPU and a GPU?](https://blogs.nvidia.com/blog/2009/12/16/whats-the-difference-between-a-cpu-and-a-gpu/)\n",
        "  - [video - Mythbusters Demo GPU versus CPU](https://youtu.be/-P28LKWTzrI) \n",
        "\n",
        "![CPU / GPU](https://blog.kakaocdn.net/dn/AHkqV/btqSV8Gbx7F/OjRzGSCSDxYQ7qLMSv5ph0/img.png)\n",
        "  - [image by unhochoi](https://wooono.tistory.com/207#:~:text=GPU%EB%8A%94%20%EB%8B%A8%EC%88%9C%20%EC%82%AC%EC%B9%99%EC%97%B0%EC%82%B0,%EB%B3%B5%EC%9E%A1%ED%95%9C%20%EC%97%B0%EC%82%B0%EC%9D%80%20%EA%B1%B0%EC%9D%98%20%EB%AA%BB%ED%95%9C%EB%8B%A4.&text=%EB%94%B0%EB%9D%BC%EC%84%9C%2C%20%EB%94%A5%EB%9F%AC%EB%8B%9D%20%EC%8B%9C%20GPU,%EC%9C%BC%EB%A1%9C%20%EC%B5%9C%EC%A0%81%ED%99%94%20%ED%95%A0%20%EC%88%98%20%EC%9E%88%EB%8B%A4)\n",
        "\n",
        "- 복잡한 연산은 CPU (CU-Controll Unit)\n",
        "- 여러 산술연산은 ALU(Artithmetic-Logic Unit) 많은 GPU\n",
        "\n",
        "- **인공지능 - Deep Learning 은 많은 학습 데이터, 특히 Matrix multipication을 많이 함**\n",
        "\n"
      ]
    },
    {
      "cell_type": "markdown",
      "metadata": {
        "id": "IhA84Unw06ef"
      },
      "source": [
        "# GPU 설정으로 바꾸기\n",
        "- 상단 menu bar - Edit - Notebook setting 에서 GPU 로 변경  \n",
        "\n",
        "  ![Colaboratory setting](https://user-images.githubusercontent.com/17819874/128196791-871934e5-e3f3-466d-a2e4-35ea3c7ece90.png)\n",
        "- 오늘 수업에서는 `None` 으로 두고 사용합니다. \n",
        "  - colab 에서 사용할 수 있는 자원에는 한계가 있음. 여러 파일을 열어두면, 너무 많은 리소스를 사용한다고 경고창이 뜸.\n",
        "  - [공식 FAQ - resource limits](https://research.google.com/colaboratory/faq.html#resource-limits)\n",
        "- **단, 이후 수업시에는 강사님 안내에 따라 GPU 설정으로 바꿔서 실습합니다.**\n"
      ]
    },
    {
      "cell_type": "markdown",
      "metadata": {
        "id": "hY41vZie1rYG"
      },
      "source": [
        "# Colab 사용법\n",
        "- 상단 우측 - copy to drive 클릭해서 내 드라이브로 이동한 다음에 사용하기\n",
        "  ![000_colab_tutorial](https://user-images.githubusercontent.com/17819874/127802589-a1843a22-b23f-4ff4-946e-3c404ce9fa7f.png)\n",
        "\n",
        "  - 저장된 위치 확인하기 - File - Locate in Drive\n",
        "  ![000_colab_tutorial](https://user-images.githubusercontent.com/17819874/127802618-3169bafd-a750-45f9-a0ec-849169568dfa.png)\n",
        "  - 기본적으로 Colab Notebooks 에 저장됨\n",
        "- 실습하는 파일 확인 및 에러 질문을 위해 작업하는 파일을 꼭 공개 설정해주세요. \n",
        "  - 상단 share - Anyone with link - Editor 권한\n",
        "  ![2-1  공유 하는법](https://user-images.githubusercontent.com/17819874/127802688-4fbf8f99-78e2-42db-a7fc-3d1008951856.PNG)\n",
        "  ![2-2  공유 하는법](https://user-images.githubusercontent.com/17819874/127802729-01946c08-fdd8-494e-a10e-e8a99f3a2550.png)\n",
        "  ![2-3  공유 하는법](https://user-images.githubusercontent.com/17819874/127802743-6f8e2c61-71fe-431a-94b6-a2c0a17392e5.png)"
      ]
    },
    {
      "cell_type": "markdown",
      "metadata": {
        "id": "O5rEeHGS-28v"
      },
      "source": [
        "## 코드 실행하기\n",
        "- 커서 대고 왼쪽 화살표 버튼 클릭"
      ]
    },
    {
      "cell_type": "code",
      "metadata": {
        "colab": {
          "base_uri": "https://localhost:8080/"
        },
        "id": "OxcXAZtbM5sC",
        "outputId": "36b850fc-6a3e-41b5-d6f5-b6022f9b6d8d"
      },
      "source": [
        "print(\"Hello\")"
      ],
      "execution_count": null,
      "outputs": [
        {
          "output_type": "stream",
          "text": [
            "Hello\n"
          ],
          "name": "stdout"
        }
      ]
    },
    {
      "cell_type": "code",
      "metadata": {
        "colab": {
          "base_uri": "https://localhost:8080/"
        },
        "id": "U1qzfBhWEIwA",
        "outputId": "55b8e0e6-d89c-4716-863c-0b36f4070046"
      },
      "source": [
        "from google.colab import drive\n",
        "drive.mount('/content/drive')"
      ],
      "execution_count": null,
      "outputs": [
        {
          "output_type": "stream",
          "text": [
            "Mounted at /content/drive\n"
          ],
          "name": "stdout"
        }
      ]
    },
    {
      "cell_type": "markdown",
      "metadata": {
        "id": "mEOc-yZA-1Gf"
      },
      "source": [
        "## 셀 추가 삭제\n",
        "*(mac 은 ctrl 대신 cmd 사용)*\n",
        "1. 코드 셀 위에 삽입 ctrl + M , A\n",
        "2. 코드 셀 아래에 삽입 ctrl + M, B\n",
        "3. 코드 셀 삭제 ctrl + M D\n"
      ]
    },
    {
      "cell_type": "markdown",
      "metadata": {
        "id": "3vuNGJvP4_RF"
      },
      "source": [
        "## 셀 실행\n",
        "1. 현재 커서 있는 셀만 실행 Ctrl + Enter\n",
        "2. 현재 셀 실행하고 다음 셀로 이동 Shift + Enter  \n",
        "3. 현재 셀 실행하고 다음 셀 삽입 Alt + Enter\n",
        "4. 셀 실행 중단하기 ctrl + M , I"
      ]
    },
    {
      "cell_type": "markdown",
      "metadata": {
        "id": "zckD545050-1"
      },
      "source": [
        "# 셀 타입 변경\n",
        "1. 코드 셀로 변경 ctrl + M, y\n",
        "2. 텍스트 셀(markdown) ctrl + M, m"
      ]
    },
    {
      "cell_type": "markdown",
      "metadata": {
        "id": "0WeYRLii82QN"
      },
      "source": [
        "## 유용한 사용법\n",
        "- ESC 하고 화살표로 이동 \n",
        "- 왼쪽 라인 세 개 클릭 - 목차보임\n",
        "- 폴더 모양 클릭 - 파일 내용들 보임(파일 다룰 때 합니다!)\n",
        "- 코드 실행 결과 없애기 - 셀 커서 대고 우측 점 세 개 - clear output\n",
        "  - 시각화할 때 유용"
      ]
    },
    {
      "cell_type": "markdown",
      "metadata": {
        "id": "9bnjNSwM_Vi9"
      },
      "source": [
        "## 에러 스스로 해결하기 Debugging\n",
        "- 우측 상단 RAM / DISK 로 보이면 파일이 실행될 수 있는 상태 \n",
        "- colab 으로 사용할 수 있는 자원이 한정되어있음. 화살표 클릭하고 - Manage session - TERMINATE / TERMINATE OTHER SESSION"
      ]
    },
    {
      "cell_type": "markdown",
      "metadata": {
        "id": "L_GgakDy6ziS"
      },
      "source": [
        "# 기타 명령어 (Good to Know)\n",
        "- 단축키 확인하기 : Ctrl + M , H\n",
        "- 커서 위치에서 셀 분리하기 Ctrl + M, -\n",
        "- 셀 되돌리기 Ctrl + M, Z"
      ]
    },
    {
      "cell_type": "markdown",
      "metadata": {
        "id": "4jgJ8ce26N8l"
      },
      "source": [
        "# 명령어 실행시키기 (Good to Know)\n",
        "- 명령어 앞에 `!`붙이고 실행하면 Command Line 실행됨\n",
        "\n",
        "\n"
      ]
    },
    {
      "cell_type": "markdown",
      "metadata": {
        "id": "4KiblaIh8q7C"
      },
      "source": [
        "# Advanced"
      ]
    },
    {
      "cell_type": "markdown",
      "metadata": {
        "id": "iLlCLSeK6waC"
      },
      "source": [
        "## 운영체제 확인 \n",
        "\n"
      ]
    },
    {
      "cell_type": "code",
      "metadata": {
        "id": "KVrXVZNO7VBY",
        "colab": {
          "base_uri": "https://localhost:8080/"
        },
        "outputId": "8ec61700-c93f-40c6-c68b-58189dc503b3"
      },
      "source": [
        "!cat /etc/issue.net"
      ],
      "execution_count": null,
      "outputs": [
        {
          "output_type": "stream",
          "text": [
            "Ubuntu 18.04.5 LTS\n"
          ],
          "name": "stdout"
        }
      ]
    },
    {
      "cell_type": "markdown",
      "metadata": {
        "id": "tx9PWv0h7W5Q"
      },
      "source": [
        "## 파이썬 버전체크\n"
      ]
    },
    {
      "cell_type": "code",
      "metadata": {
        "id": "TLqqKHrD7eKw",
        "colab": {
          "base_uri": "https://localhost:8080/"
        },
        "outputId": "c0984492-009d-48a3-8855-aaf896d04ec5"
      },
      "source": [
        "!python --version "
      ],
      "execution_count": null,
      "outputs": [
        {
          "output_type": "stream",
          "text": [
            "Python 3.7.11\n"
          ],
          "name": "stdout"
        }
      ]
    },
    {
      "cell_type": "markdown",
      "metadata": {
        "id": "VXOW8RAf7FJP"
      },
      "source": [
        "## CPU 사양"
      ]
    },
    {
      "cell_type": "code",
      "metadata": {
        "id": "mNkCf3_l7wMB",
        "colab": {
          "base_uri": "https://localhost:8080/"
        },
        "outputId": "1400aee3-3fbd-47b7-9121-372941eaa235"
      },
      "source": [
        "!head /proc/cpuinfo"
      ],
      "execution_count": null,
      "outputs": [
        {
          "output_type": "stream",
          "text": [
            "processor\t: 0\n",
            "vendor_id\t: GenuineIntel\n",
            "cpu family\t: 6\n",
            "model\t\t: 85\n",
            "model name\t: Intel(R) Xeon(R) CPU @ 2.00GHz\n",
            "stepping\t: 3\n",
            "microcode\t: 0x1\n",
            "cpu MHz\t\t: 2000.144\n",
            "cache size\t: 39424 KB\n",
            "physical id\t: 0\n"
          ],
          "name": "stdout"
        }
      ]
    },
    {
      "cell_type": "markdown",
      "metadata": {
        "id": "VmGslSzr73G5"
      },
      "source": [
        "## 메모리 사양"
      ]
    },
    {
      "cell_type": "code",
      "metadata": {
        "id": "lNZ-PmzO76pV",
        "colab": {
          "base_uri": "https://localhost:8080/"
        },
        "outputId": "1dc223d8-09fb-4a40-a0fa-b1fc89cc5b15"
      },
      "source": [
        "!head -n 3 /proc/meminfo"
      ],
      "execution_count": null,
      "outputs": [
        {
          "output_type": "stream",
          "text": [
            "MemTotal:       13302928 kB\n",
            "MemFree:        10672584 kB\n",
            "MemAvailable:   12526600 kB\n"
          ],
          "name": "stdout"
        }
      ]
    },
    {
      "cell_type": "markdown",
      "metadata": {
        "id": "aNj64DWv8A_g"
      },
      "source": [
        "## 디스크 사양"
      ]
    },
    {
      "cell_type": "code",
      "metadata": {
        "id": "GzwMFR3N8FYw",
        "colab": {
          "base_uri": "https://localhost:8080/"
        },
        "outputId": "edc79b16-1dcc-43d9-cda2-54133eb9d9e7"
      },
      "source": [
        "!df -h"
      ],
      "execution_count": null,
      "outputs": [
        {
          "output_type": "stream",
          "text": [
            "Filesystem      Size  Used Avail Use% Mounted on\n",
            "overlay         226G   39G  188G  18% /\n",
            "tmpfs            64M     0   64M   0% /dev\n",
            "tmpfs           6.4G     0  6.4G   0% /sys/fs/cgroup\n",
            "shm             5.9G     0  5.9G   0% /dev/shm\n",
            "tmpfs           6.4G   24K  6.4G   1% /var/colab\n",
            "/dev/sda1       233G   41G  192G  18% /etc/hosts\n",
            "tmpfs           6.4G     0  6.4G   0% /proc/acpi\n",
            "tmpfs           6.4G     0  6.4G   0% /proc/scsi\n",
            "tmpfs           6.4G     0  6.4G   0% /sys/firmware\n"
          ],
          "name": "stdout"
        }
      ]
    },
    {
      "cell_type": "markdown",
      "metadata": {
        "id": "fDN9GDN78LvR"
      },
      "source": [
        "## GPU 정보"
      ]
    },
    {
      "cell_type": "code",
      "metadata": {
        "id": "XrJTQnqv8Odp",
        "colab": {
          "base_uri": "https://localhost:8080/"
        },
        "outputId": "f6d90879-483c-45db-f847-ec06af93a16b"
      },
      "source": [
        "!nvidia-smi"
      ],
      "execution_count": null,
      "outputs": [
        {
          "output_type": "stream",
          "text": [
            "NVIDIA-SMI has failed because it couldn't communicate with the NVIDIA driver. Make sure that the latest NVIDIA driver is installed and running.\n",
            "\n"
          ],
          "name": "stdout"
        }
      ]
    },
    {
      "cell_type": "code",
      "metadata": {
        "id": "VlqIWLGg8gHz",
        "colab": {
          "base_uri": "https://localhost:8080/"
        },
        "outputId": "a41b03cf-7173-4d52-c0eb-d7ca1c37fd3e"
      },
      "source": [
        "!nvidia-smi"
      ],
      "execution_count": null,
      "outputs": [
        {
          "output_type": "stream",
          "text": [
            "Mon Aug  2 04:50:29 2021       \n",
            "+-----------------------------------------------------------------------------+\n",
            "| NVIDIA-SMI 470.42.01    Driver Version: 460.32.03    CUDA Version: 11.2     |\n",
            "|-------------------------------+----------------------+----------------------+\n",
            "| GPU  Name        Persistence-M| Bus-Id        Disp.A | Volatile Uncorr. ECC |\n",
            "| Fan  Temp  Perf  Pwr:Usage/Cap|         Memory-Usage | GPU-Util  Compute M. |\n",
            "|                               |                      |               MIG M. |\n",
            "|===============================+======================+======================|\n",
            "|   0  Tesla P100-PCIE...  Off  | 00000000:00:04.0 Off |                    0 |\n",
            "| N/A   38C    P0    27W / 250W |      0MiB / 16280MiB |      0%      Default |\n",
            "|                               |                      |                  N/A |\n",
            "+-------------------------------+----------------------+----------------------+\n",
            "                                                                               \n",
            "+-----------------------------------------------------------------------------+\n",
            "| Processes:                                                                  |\n",
            "|  GPU   GI   CI        PID   Type   Process name                  GPU Memory |\n",
            "|        ID   ID                                                   Usage      |\n",
            "|=============================================================================|\n",
            "|  No running processes found                                                 |\n",
            "+-----------------------------------------------------------------------------+\n"
          ],
          "name": "stdout"
        }
      ]
    },
    {
      "cell_type": "markdown",
      "metadata": {
        "id": "CwhTznclBGEh"
      },
      "source": [
        "## 파일 처리하기\n",
        "- 파일 배울 때 같이 배웁니다!\n"
      ]
    },
    {
      "cell_type": "markdown",
      "metadata": {
        "id": "nC7cteUyDeJX"
      },
      "source": [
        "### 파일 가져오기 - 세션이 살아있을 때만 사용가능\n",
        "- 구글 계정 연동하기"
      ]
    },
    {
      "cell_type": "code",
      "metadata": {
        "colab": {
          "base_uri": "https://localhost:8080/"
        },
        "id": "pwwsYQ4ACDg6",
        "outputId": "755295ab-21cb-4902-d424-4949bdcfd536"
      },
      "source": [
        "import os\n",
        "from google.colab import drive\n",
        "drive.mount('/content/drive')"
      ],
      "execution_count": null,
      "outputs": [
        {
          "output_type": "stream",
          "text": [
            "Mounted at /content/drive\n"
          ],
          "name": "stdout"
        }
      ]
    },
    {
      "cell_type": "markdown",
      "metadata": {
        "id": "tLtpd3TqDfI1"
      },
      "source": [
        "### 파일 업로드하기 - 세션이 살아있을 때만 사용가능\n",
        "- 왼쪽 창에 바로 안보이면 중간 아이콘 -  폴더 +  새로고침 모양 클릭하기 "
      ]
    },
    {
      "cell_type": "code",
      "metadata": {
        "id": "GtW1FR0HDyjQ"
      },
      "source": [
        "from google.colab import files\n",
        "uploaded = files.upload()"
      ],
      "execution_count": null,
      "outputs": []
    },
    {
      "cell_type": "markdown",
      "metadata": {
        "id": "hPALzzo_Ekuy"
      },
      "source": [
        "### 구글 드라이브 폴더에서 정보 가지고 오기\n",
        "- 파일 창에서 맨 우측 폴더 + 구글 드라이브 폴더 아이콘 클릭\n",
        "- drive 라고 보이면서 drive 가 보임"
      ]
    },
    {
      "cell_type": "markdown",
      "metadata": {
        "id": "8z0lXTjOI28G"
      },
      "source": [
        "## 추가 자료 \n",
        "*(현재 기준으로 바뀐 내용이 있을 수 있습니다)*\n",
        "- [Getting Started With Google Colab by towardsdatascience](https://towardsdatascience.com/getting-started-with-google-colabf2fff97f594c)\n",
        "- [Google Colab—The Beginner’s Guide by lean-in-women-in-tech-india](https://medium.com/lean-in-women-in-tech-india/google-colab-the-beginnersguide-5ad3b417dfa)\n",
        "- [Google Colab 사용하기](https://zzsza.github.io/data/2018/08/30/google-colab/)"
      ]
    }
  ]
}