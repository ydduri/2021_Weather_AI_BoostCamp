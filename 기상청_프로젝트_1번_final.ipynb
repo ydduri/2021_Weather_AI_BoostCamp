{
  "cells": [
    {
      "cell_type": "markdown",
      "metadata": {
        "id": "view-in-github",
        "colab_type": "text"
      },
      "source": [
        "<a href=\"https://colab.research.google.com/github/ydduri/2021_Weather_AI_BoostCamp/blob/main/%EA%B8%B0%EC%83%81%EC%B2%AD_%ED%94%84%EB%A1%9C%EC%A0%9D%ED%8A%B8_1%EB%B2%88_final.ipynb\" target=\"_parent\"><img src=\"https://colab.research.google.com/assets/colab-badge.svg\" alt=\"Open In Colab\"/></a>"
      ]
    },
    {
      "cell_type": "markdown",
      "metadata": {
        "id": "xzVJX_e0Yty9"
      },
      "source": [
        "# 데이터 불러오기"
      ]
    },
    {
      "cell_type": "code",
      "execution_count": null,
      "metadata": {
        "id": "9ueTFZH-S1Ds"
      },
      "outputs": [],
      "source": [
        "import scipy.io as sio\n",
        "from scipy.io import readsav\n",
        "import matplotlib.pyplot as plt"
      ]
    },
    {
      "cell_type": "code",
      "execution_count": null,
      "metadata": {
        "id": "m0Aess_6l5y0",
        "outputId": "d4333f71-554a-4e0a-f7ff-0a80805a1939"
      },
      "outputs": [
        {
          "name": "stdout",
          "output_type": "stream",
          "text": [
            "Collecting tensorflow\n",
            "  Downloading tensorflow-2.6.0-cp38-cp38-win_amd64.whl (423.2 MB)\n",
            "Requirement already satisfied: typing-extensions~=3.7.4 in c:\\users\\yd.kim\\anaconda3\\lib\\site-packages (from tensorflow) (3.7.4.2)\n",
            "Collecting keras-preprocessing~=1.1.2\n",
            "  Downloading Keras_Preprocessing-1.1.2-py2.py3-none-any.whl (42 kB)\n",
            "Collecting wheel~=0.35\n",
            "  Downloading wheel-0.37.0-py2.py3-none-any.whl (35 kB)\n",
            "Collecting keras~=2.6\n",
            "  Downloading keras-2.6.0-py2.py3-none-any.whl (1.3 MB)\n",
            "Collecting h5py~=3.1.0\n",
            "  Downloading h5py-3.1.0-cp38-cp38-win_amd64.whl (2.7 MB)\n",
            "Collecting grpcio<2.0,>=1.37.0\n",
            "  Downloading grpcio-1.39.0-cp38-cp38-win_amd64.whl (3.2 MB)\n",
            "Collecting tensorflow-estimator~=2.6\n",
            "  Downloading tensorflow_estimator-2.6.0-py2.py3-none-any.whl (462 kB)\n",
            "Requirement already satisfied: six~=1.15.0 in c:\\users\\yd.kim\\anaconda3\\lib\\site-packages (from tensorflow) (1.15.0)\n",
            "Collecting gast==0.4.0\n",
            "  Downloading gast-0.4.0-py3-none-any.whl (9.8 kB)\n",
            "Collecting numpy~=1.19.2\n",
            "  Downloading numpy-1.19.5-cp38-cp38-win_amd64.whl (13.3 MB)\n",
            "Collecting astunparse~=1.6.3\n",
            "  Downloading astunparse-1.6.3-py2.py3-none-any.whl (12 kB)\n",
            "Collecting google-pasta~=0.2\n",
            "  Downloading google_pasta-0.2.0-py3-none-any.whl (57 kB)\n",
            "Collecting absl-py~=0.10\n",
            "  Downloading absl_py-0.13.0-py3-none-any.whl (132 kB)\n",
            "Collecting clang~=5.0\n",
            "  Downloading clang-5.0.tar.gz (30 kB)\n",
            "Collecting flatbuffers~=1.12.0\n",
            "  Downloading flatbuffers-1.12-py2.py3-none-any.whl (15 kB)\n",
            "Collecting tensorboard~=2.6\n",
            "  Downloading tensorboard-2.6.0-py3-none-any.whl (5.6 MB)\n",
            "Collecting protobuf>=3.9.2\n",
            "  Downloading protobuf-3.17.3-cp38-cp38-win_amd64.whl (909 kB)\n",
            "Collecting termcolor~=1.1.0\n",
            "  Downloading termcolor-1.1.0.tar.gz (3.9 kB)\n",
            "Collecting opt-einsum~=3.3.0\n",
            "  Downloading opt_einsum-3.3.0-py3-none-any.whl (65 kB)\n",
            "Collecting wrapt~=1.12.1\n",
            "  Downloading wrapt-1.12.1.tar.gz (27 kB)\n",
            "Collecting google-auth-oauthlib<0.5,>=0.4.1\n",
            "  Downloading google_auth_oauthlib-0.4.6-py2.py3-none-any.whl (18 kB)\n",
            "Collecting google-auth<2,>=1.6.3\n",
            "  Downloading google_auth-1.35.0-py2.py3-none-any.whl (152 kB)\n",
            "Requirement already satisfied: requests<3,>=2.21.0 in c:\\users\\yd.kim\\anaconda3\\lib\\site-packages (from tensorboard~=2.6->tensorflow) (2.24.0)\n",
            "Requirement already satisfied: setuptools>=41.0.0 in c:\\users\\yd.kim\\anaconda3\\lib\\site-packages (from tensorboard~=2.6->tensorflow) (49.2.0.post20200714)\n",
            "Collecting tensorboard-plugin-wit>=1.6.0\n",
            "  Downloading tensorboard_plugin_wit-1.8.0-py3-none-any.whl (781 kB)\n",
            "Requirement already satisfied: werkzeug>=0.11.15 in c:\\users\\yd.kim\\anaconda3\\lib\\site-packages (from tensorboard~=2.6->tensorflow) (1.0.1)\n",
            "Collecting markdown>=2.6.8\n",
            "  Downloading Markdown-3.3.4-py3-none-any.whl (97 kB)\n",
            "Collecting tensorboard-data-server<0.7.0,>=0.6.0\n",
            "  Downloading tensorboard_data_server-0.6.1-py3-none-any.whl (2.4 kB)\n",
            "Collecting requests-oauthlib>=0.7.0\n",
            "  Downloading requests_oauthlib-1.3.0-py2.py3-none-any.whl (23 kB)\n",
            "Collecting rsa<5,>=3.1.4; python_version >= \"3.6\"\n",
            "  Downloading rsa-4.7.2-py3-none-any.whl (34 kB)\n",
            "Collecting cachetools<5.0,>=2.0.0\n",
            "  Downloading cachetools-4.2.2-py3-none-any.whl (11 kB)\n",
            "Collecting pyasn1-modules>=0.2.1\n",
            "  Downloading pyasn1_modules-0.2.8-py2.py3-none-any.whl (155 kB)\n",
            "Requirement already satisfied: certifi>=2017.4.17 in c:\\users\\yd.kim\\anaconda3\\lib\\site-packages (from requests<3,>=2.21.0->tensorboard~=2.6->tensorflow) (2020.6.20)\n",
            "Requirement already satisfied: idna<3,>=2.5 in c:\\users\\yd.kim\\anaconda3\\lib\\site-packages (from requests<3,>=2.21.0->tensorboard~=2.6->tensorflow) (2.10)\n",
            "Requirement already satisfied: urllib3!=1.25.0,!=1.25.1,<1.26,>=1.21.1 in c:\\users\\yd.kim\\anaconda3\\lib\\site-packages (from requests<3,>=2.21.0->tensorboard~=2.6->tensorflow) (1.25.9)\n",
            "Requirement already satisfied: chardet<4,>=3.0.2 in c:\\users\\yd.kim\\anaconda3\\lib\\site-packages (from requests<3,>=2.21.0->tensorboard~=2.6->tensorflow) (3.0.4)\n",
            "Collecting oauthlib>=3.0.0\n",
            "  Downloading oauthlib-3.1.1-py2.py3-none-any.whl (146 kB)\n",
            "Collecting pyasn1>=0.1.3\n",
            "  Downloading pyasn1-0.4.8-py2.py3-none-any.whl (77 kB)\n",
            "Building wheels for collected packages: clang, termcolor, wrapt\n",
            "  Building wheel for clang (setup.py): started\n",
            "  Building wheel for clang (setup.py): finished with status 'done'\n",
            "  Created wheel for clang: filename=clang-5.0-py3-none-any.whl size=30707 sha256=f38a1509285c0d6d7f611002c8c556a41fd3f56aeb2846d59166b41b4f70cdae\n",
            "  Stored in directory: c:\\users\\yd.kim\\appdata\\local\\pip\\cache\\wheels\\f1\\60\\77\\22b9b5887bd47801796a856f47650d9789c74dc3161a26d608\n",
            "  Building wheel for termcolor (setup.py): started\n",
            "  Building wheel for termcolor (setup.py): finished with status 'done'\n",
            "  Created wheel for termcolor: filename=termcolor-1.1.0-py3-none-any.whl size=4835 sha256=4631e35888e016ee028762561442571a177909895c2739fd6ad6246cda98494b\n",
            "  Stored in directory: c:\\users\\yd.kim\\appdata\\local\\pip\\cache\\wheels\\a0\\16\\9c\\5473df82468f958445479c59e784896fa24f4a5fc024b0f501\n",
            "  Building wheel for wrapt (setup.py): started\n",
            "  Building wheel for wrapt (setup.py): finished with status 'done'\n",
            "  Created wheel for wrapt: filename=wrapt-1.12.1-py3-none-any.whl size=19558 sha256=c0419f51ee43cb41fb674ae16f5605ebef18a8965de3f3c6934d4c4762715506\n",
            "  Stored in directory: c:\\users\\yd.kim\\appdata\\local\\pip\\cache\\wheels\\5f\\fd\\9e\\b6cf5890494cb8ef0b5eaff72e5d55a70fb56316007d6dfe73\n",
            "Successfully built clang termcolor wrapt\n",
            "Installing collected packages: numpy, keras-preprocessing, wheel, keras, h5py, grpcio, tensorflow-estimator, gast, astunparse, google-pasta, absl-py, clang, flatbuffers, pyasn1, rsa, cachetools, pyasn1-modules, google-auth, oauthlib, requests-oauthlib, google-auth-oauthlib, protobuf, tensorboard-plugin-wit, markdown, tensorboard-data-server, tensorboard, termcolor, opt-einsum, wrapt, tensorflow\n",
            "  Attempting uninstall: numpy\n",
            "    Found existing installation: numpy 1.18.5\n",
            "    Uninstalling numpy-1.18.5:\n",
            "      Successfully uninstalled numpy-1.18.5\n",
            "  Attempting uninstall: wheel\n",
            "    Found existing installation: wheel 0.34.2\n",
            "    Uninstalling wheel-0.34.2:\n",
            "      Successfully uninstalled wheel-0.34.2\n",
            "  Attempting uninstall: h5py\n",
            "    Found existing installation: h5py 2.10.0\n",
            "    Uninstalling h5py-2.10.0:\n",
            "      Successfully uninstalled h5py-2.10.0\n",
            "  Attempting uninstall: wrapt\n",
            "    Found existing installation: wrapt 1.11.2\n",
            "    Uninstalling wrapt-1.11.2:\n",
            "      Successfully uninstalled wrapt-1.11.2\n",
            "Successfully installed absl-py-0.13.0 astunparse-1.6.3 cachetools-4.2.2 clang-5.0 flatbuffers-1.12 gast-0.4.0 google-auth-1.35.0 google-auth-oauthlib-0.4.6 google-pasta-0.2.0 grpcio-1.39.0 h5py-3.1.0 keras-2.6.0 keras-preprocessing-1.1.2 markdown-3.3.4 numpy-1.19.5 oauthlib-3.1.1 opt-einsum-3.3.0 protobuf-3.17.3 pyasn1-0.4.8 pyasn1-modules-0.2.8 requests-oauthlib-1.3.0 rsa-4.7.2 tensorboard-2.6.0 tensorboard-data-server-0.6.1 tensorboard-plugin-wit-1.8.0 tensorflow-2.6.0 tensorflow-estimator-2.6.0 termcolor-1.1.0 wheel-0.37.0 wrapt-1.12.1\n"
          ]
        }
      ],
      "source": [
        "!pip install tensorflow"
      ]
    },
    {
      "cell_type": "code",
      "execution_count": null,
      "metadata": {
        "id": "5u3CAu2fl5y0",
        "outputId": "f777d206-c48c-4fc1-9d5a-c98877d00f82"
      },
      "outputs": [
        {
          "ename": "ModuleNotFoundError",
          "evalue": "No module named 'tensorflow'",
          "output_type": "error",
          "traceback": [
            "\u001b[1;31m---------------------------------------------------------------------------\u001b[0m",
            "\u001b[1;31mModuleNotFoundError\u001b[0m                       Traceback (most recent call last)",
            "\u001b[1;32m<ipython-input-1-64156d691fe5>\u001b[0m in \u001b[0;36m<module>\u001b[1;34m\u001b[0m\n\u001b[1;32m----> 1\u001b[1;33m \u001b[1;32mimport\u001b[0m \u001b[0mtensorflow\u001b[0m \u001b[1;32mas\u001b[0m \u001b[0mtf\u001b[0m\u001b[1;33m\u001b[0m\u001b[1;33m\u001b[0m\u001b[0m\n\u001b[0m",
            "\u001b[1;31mModuleNotFoundError\u001b[0m: No module named 'tensorflow'"
          ]
        }
      ],
      "source": [
        "import tensorflow as tf"
      ]
    },
    {
      "cell_type": "code",
      "execution_count": null,
      "metadata": {
        "id": "G1eg0J9X_IY2"
      },
      "outputs": [],
      "source": [
        "use_colab = True\n",
        "assert use_colab in [True, False]\n",
        "# drive 자동 마운트|"
      ]
    },
    {
      "cell_type": "code",
      "execution_count": null,
      "metadata": {
        "colab": {
          "base_uri": "https://localhost:8080/"
        },
        "id": "BCdHr8F2V1dZ",
        "outputId": "f9f3c00f-69ba-4cba-a3d7-4d33c19db433"
      },
      "outputs": [
        {
          "name": "stdout",
          "output_type": "stream",
          "text": [
            "Mounted at /content/drive\n"
          ]
        }
      ],
      "source": [
        "from google.colab import drive\n",
        "drive.mount('/content/drive')"
      ]
    },
    {
      "cell_type": "code",
      "execution_count": null,
      "metadata": {
        "id": "2cU2m0eJsT9a"
      },
      "outputs": [],
      "source": [
        "def Readsav_ary(filename, datasetname):\n",
        "    data = readsav(filename)[datasetname]\n",
        "    return data"
      ]
    },
    {
      "cell_type": "code",
      "execution_count": null,
      "metadata": {
        "id": "KqQzQckKskBs"
      },
      "outputs": [],
      "source": [
        "xx = Readsav_ary('/content/drive/MyDrive/Colab Notebooks/기상청_3주차/dtr_i300.sav', 'i_rad')\n",
        "yy = Readsav_ary('/content/drive/MyDrive/Colab Notebooks/기상청_3주차/dtr_i300.sav', 'o_rad')"
      ]
    },
    {
      "cell_type": "code",
      "execution_count": null,
      "metadata": {
        "id": "uTwRbKqLMFk0"
      },
      "outputs": [],
      "source": [
        "xx = xx.copy()\n",
        "yy = yy.copy()"
      ]
    },
    {
      "cell_type": "code",
      "execution_count": null,
      "metadata": {
        "colab": {
          "base_uri": "https://localhost:8080/"
        },
        "id": "oHZH0NGfy-UY",
        "outputId": "7d35d129-c33e-44a4-9b15-fd4ebbaa1611"
      },
      "outputs": [
        {
          "name": "stdout",
          "output_type": "stream",
          "text": [
            "(196, 271360)\n",
            "(86, 271360)\n"
          ]
        }
      ],
      "source": [
        "print(xx.shape)\n",
        "print(yy.shape)"
      ]
    },
    {
      "cell_type": "markdown",
      "metadata": {
        "id": "zyEwdONEpRCR"
      },
      "source": [
        "# Input variables\n",
        "0-38: pressure  \n",
        "39-77: temperature  \n",
        "78-116: water_vapor  \n",
        "117-155: ozone  \n",
        "156-191: cloud_fraction  \n",
        "192: forcast_time  \n",
        "193: surface_temperature  \n",
        "194: solar_constant  \n",
        "195: cosine_sloar_zenith_angle  \n",
        "\n",
        "# Output variables\n",
        "0-38: LW heating rate  \n",
        "39-77: SW heating rate  \n",
        "78-83: LW flux  \n",
        "84-85: SW flux  \n"
      ]
    },
    {
      "cell_type": "code",
      "execution_count": null,
      "metadata": {
        "id": "CRUhV2wLy-Eh"
      },
      "outputs": [],
      "source": [
        "pressure = xx[0:38]\n",
        "temperature = xx[38:78]\n",
        "water_vapor = xx[78:117]\n",
        "ozone = xx[117:156]\n",
        "cloud_fraction = xx[156:192]\n",
        "forcast_time = xx[192]\n",
        "surface_temperature = xx[193]\n",
        "solar_constant = xx[194]\n",
        "cosine_sloar_zenith_angle = xx[195]"
      ]
    },
    {
      "cell_type": "markdown",
      "metadata": {
        "id": "z0-q026bTa9y"
      },
      "source": [
        "# 데이터 시각화"
      ]
    },
    {
      "cell_type": "code",
      "execution_count": null,
      "metadata": {
        "id": "2VxzLtzFYWqI"
      },
      "outputs": [],
      "source": [
        "import matplotlib.pyplot as plt"
      ]
    },
    {
      "cell_type": "code",
      "execution_count": null,
      "metadata": {
        "colab": {
          "base_uri": "https://localhost:8080/"
        },
        "id": "_YCIwG2Wn8aK",
        "outputId": "2fb24431-1066-4448-9862-116f50fc31e7"
      },
      "outputs": [
        {
          "data": {
            "image/png": "[encoded data removed]",
            "text/plain": [
              "<Figure size 432x288 with 1 Axes>"
            ]
          },
          "metadata": {
            "needs_background": "light"
          },
          "output_type": "display_data"
        }
      ],
      "source": [
        "plt.plot(pressure[0])\n",
        "plt.show()"
      ]
    },
    {
      "cell_type": "code",
      "execution_count": null,
      "metadata": {
        "colab": {
          "base_uri": "https://localhost:8080/"
        },
        "id": "HypjCo9rv3K3",
        "outputId": "499f148a-3344-4b79-a89f-630a4e2885a9"
      },
      "outputs": [
        {
          "data": {
            "image/png": "[encoded data removed]",
            "text/plain": [
              "<Figure size 432x288 with 1 Axes>"
            ]
          },
          "metadata": {
            "needs_background": "light"
          },
          "output_type": "display_data"
        }
      ],
      "source": [
        "plt.plot(pressure[:,0])\n",
        "plt.show()"
      ]
    },
    {
      "cell_type": "code",
      "execution_count": null,
      "metadata": {
        "colab": {
          "base_uri": "https://localhost:8080/"
        },
        "id": "7n_maND7oWrJ",
        "outputId": "ad1c282c-ca2c-461d-cea3-3698b3dd91fe"
      },
      "outputs": [
        {
          "data": {
            "image/png": "[encoded data removed]",
            "text/plain": [
              "<Figure size 432x288 with 1 Axes>"
            ]
          },
          "metadata": {
            "needs_background": "light"
          },
          "output_type": "display_data"
        }
      ],
      "source": [
        "plt.plot(temperature[0])\n",
        "plt.show()"
      ]
    },
    {
      "cell_type": "code",
      "execution_count": null,
      "metadata": {
        "colab": {
          "base_uri": "https://localhost:8080/"
        },
        "id": "2aIQKbP0wF0Y",
        "outputId": "97b072e5-f6a0-48ef-fea9-e4c938b324e8"
      },
      "outputs": [
        {
          "data": {
            "image/png": "[encoded data removed]",
            "text/plain": [
              "<Figure size 432x288 with 1 Axes>"
            ]
          },
          "metadata": {
            "needs_background": "light"
          },
          "output_type": "display_data"
        }
      ],
      "source": [
        "plt.plot(temperature[:,0])\n",
        "plt.show()"
      ]
    },
    {
      "cell_type": "code",
      "execution_count": null,
      "metadata": {
        "colab": {
          "base_uri": "https://localhost:8080/"
        },
        "id": "DwA6GGYxwIk_",
        "outputId": "76baa8dc-9fc7-4a37-9bde-41a278b84f4d"
      },
      "outputs": [
        {
          "data": {
            "image/png": "[encoded data removed]",
            "text/plain": [
              "<Figure size 432x288 with 1 Axes>"
            ]
          },
          "metadata": {
            "needs_background": "light"
          },
          "output_type": "display_data"
        }
      ],
      "source": [
        "plt.plot(water_vapor[0])\n",
        "plt.show()"
      ]
    },
    {
      "cell_type": "code",
      "execution_count": null,
      "metadata": {
        "colab": {
          "base_uri": "https://localhost:8080/"
        },
        "id": "wT1Z-0MowRAh",
        "outputId": "92ed8375-4a66-45df-a9ea-b62b01b4394c"
      },
      "outputs": [
        {
          "data": {
            "image/png": "[encoded data removed]",
            "text/plain": [
              "<Figure size 432x288 with 1 Axes>"
            ]
          },
          "metadata": {
            "needs_background": "light"
          },
          "output_type": "display_data"
        }
      ],
      "source": [
        "plt.plot(water_vapor[:,0])\n",
        "plt.show()"
      ]
    },
    {
      "cell_type": "code",
      "execution_count": null,
      "metadata": {
        "colab": {
          "base_uri": "https://localhost:8080/"
        },
        "id": "lwBq6EvswTCY",
        "outputId": "04a6cd7d-731e-4c33-9394-9d231c826859"
      },
      "outputs": [
        {
          "data": {
            "image/png": "[encoded data removed]",
            "text/plain": [
              "<Figure size 432x288 with 1 Axes>"
            ]
          },
          "metadata": {
            "needs_background": "light"
          },
          "output_type": "display_data"
        }
      ],
      "source": [
        "plt.plot(ozone[0])\n",
        "plt.show()"
      ]
    },
    {
      "cell_type": "code",
      "execution_count": null,
      "metadata": {
        "colab": {
          "base_uri": "https://localhost:8080/"
        },
        "id": "5xMyOxNnwdHa",
        "outputId": "635650e9-0168-4d8f-9a74-d591ccf0b818"
      },
      "outputs": [
        {
          "data": {
            "image/png": "[encoded data removed]",
            "text/plain": [
              "<Figure size 432x288 with 1 Axes>"
            ]
          },
          "metadata": {
            "needs_background": "light"
          },
          "output_type": "display_data"
        }
      ],
      "source": [
        "plt.plot(ozone[:, 0])\n",
        "plt.show()"
      ]
    },
    {
      "cell_type": "code",
      "execution_count": null,
      "metadata": {
        "colab": {
          "base_uri": "https://localhost:8080/"
        },
        "id": "Q61Ys2CzwfoL",
        "outputId": "548bc0b6-9111-4ac8-e171-6d106664b658"
      },
      "outputs": [
        {
          "data": {
            "image/png": "[encoded data removed]",
            "text/plain": [
              "<Figure size 432x288 with 1 Axes>"
            ]
          },
          "metadata": {
            "needs_background": "light"
          },
          "output_type": "display_data"
        }
      ],
      "source": [
        "plt.plot(cloud_fraction[0])\n",
        "plt.show()"
      ]
    },
    {
      "cell_type": "code",
      "execution_count": null,
      "metadata": {
        "colab": {
          "base_uri": "https://localhost:8080/"
        },
        "id": "i3P2gKXP57ZN",
        "outputId": "e6154fd5-0b27-4bf6-e532-83e495ce6b34"
      },
      "outputs": [
        {
          "data": {
            "image/png": "[encoded data removed]",
            "text/plain": [
              "<Figure size 432x288 with 1 Axes>"
            ]
          },
          "metadata": {
            "needs_background": "light"
          },
          "output_type": "display_data"
        }
      ],
      "source": [
        "plt.plot(cloud_fraction[:,1])\n",
        "plt.show()"
      ]
    },
    {
      "cell_type": "code",
      "execution_count": null,
      "metadata": {
        "colab": {
          "base_uri": "https://localhost:8080/"
        },
        "id": "Jmw46h2M-Weh",
        "outputId": "63492fa5-9584-48bf-fcea-88f34aa6dc27"
      },
      "outputs": [
        {
          "data": {
            "text/plain": [
              "271360"
            ]
          },
          "execution_count": 19,
          "metadata": {},
          "output_type": "execute_result"
        }
      ],
      "source": [
        "len(forcast_time)"
      ]
    },
    {
      "cell_type": "code",
      "execution_count": null,
      "metadata": {
        "colab": {
          "base_uri": "https://localhost:8080/"
        },
        "id": "CMn9hc926QsW",
        "outputId": "70e6b6af-0231-495c-def4-125ef2e152bc"
      },
      "outputs": [
        {
          "data": {
            "image/png": "[encoded data removed]",
            "text/plain": [
              "<Figure size 432x288 with 1 Axes>"
            ]
          },
          "metadata": {
            "needs_background": "light"
          },
          "output_type": "display_data"
        }
      ],
      "source": [
        "plt.plot(forcast_time)\n",
        "plt.show()"
      ]
    },
    {
      "cell_type": "code",
      "execution_count": null,
      "metadata": {
        "colab": {
          "base_uri": "https://localhost:8080/"
        },
        "id": "_2lEbvYl7rRo",
        "outputId": "473de0aa-bd51-424c-c3bf-b86435ffcc06"
      },
      "outputs": [
        {
          "data": {
            "text/plain": [
              "7199"
            ]
          },
          "execution_count": 21,
          "metadata": {},
          "output_type": "execute_result"
        }
      ],
      "source": [
        "len(set(forcast_time))"
      ]
    },
    {
      "cell_type": "code",
      "execution_count": null,
      "metadata": {
        "colab": {
          "base_uri": "https://localhost:8080/"
        },
        "id": "KtjyGleG7uDq",
        "outputId": "946d2542-c886-436b-cc78-e8132ca0d618"
      },
      "outputs": [
        {
          "data": {
            "image/png": "[encoded data removed]",
            "text/plain": [
              "<Figure size 432x288 with 1 Axes>"
            ]
          },
          "metadata": {
            "needs_background": "light"
          },
          "output_type": "display_data"
        }
      ],
      "source": [
        "plt.plot(surface_temperature)\n",
        "plt.show()"
      ]
    },
    {
      "cell_type": "code",
      "execution_count": null,
      "metadata": {
        "colab": {
          "base_uri": "https://localhost:8080/"
        },
        "id": "hcQBTMlP70Iu",
        "outputId": "08a85535-638c-4cc7-daab-d926437c4d86"
      },
      "outputs": [
        {
          "data": {
            "image/png": "[encoded data removed]",
            "text/plain": [
              "<Figure size 432x288 with 1 Axes>"
            ]
          },
          "metadata": {
            "needs_background": "light"
          },
          "output_type": "display_data"
        }
      ],
      "source": [
        "plt.plot(solar_constant)\n",
        "plt.show()"
      ]
    },
    {
      "cell_type": "code",
      "execution_count": null,
      "metadata": {
        "colab": {
          "base_uri": "https://localhost:8080/"
        },
        "id": "IMzePW-8B9hg",
        "outputId": "de1804b4-3f6f-4746-d539-b3e490d475bc"
      },
      "outputs": [
        {
          "data": {
            "image/png": "[encoded data removed]",
            "text/plain": [
              "<Figure size 432x288 with 1 Axes>"
            ]
          },
          "metadata": {
            "needs_background": "light"
          },
          "output_type": "display_data"
        }
      ],
      "source": [
        "plt.plot(cosine_sloar_zenith_angle)\n",
        "plt.show()"
      ]
    },
    {
      "cell_type": "markdown",
      "metadata": {
        "id": "YXCKYtZnTjvu"
      },
      "source": [
        "# 데이터 정규화"
      ]
    },
    {
      "cell_type": "code",
      "execution_count": null,
      "metadata": {
        "id": "5Kye-02fCLhr"
      },
      "outputs": [],
      "source": [
        "import tensorflow as tf\n",
        "import numpy as np"
      ]
    },
    {
      "cell_type": "code",
      "execution_count": null,
      "metadata": {
        "id": "-_7rJLNwJAOf"
      },
      "outputs": [],
      "source": [
        "xx = np.array(xx)\n",
        "yy = np.array(yy)"
      ]
    },
    {
      "cell_type": "code",
      "execution_count": null,
      "metadata": {
        "colab": {
          "base_uri": "https://localhost:8080/"
        },
        "id": "7sMN1AdOQVJe",
        "outputId": "73ae78a2-7c0a-457f-b0bc-8aa01869d4c5"
      },
      "outputs": [
        {
          "name": "stdout",
          "output_type": "stream",
          "text": [
            "(196, 271360)\n",
            "(86, 271360)\n"
          ]
        }
      ],
      "source": [
        "print(xx.shape)\n",
        "print(yy.shape)"
      ]
    },
    {
      "cell_type": "code",
      "execution_count": null,
      "metadata": {
        "id": "3tAilufHQVN9"
      },
      "outputs": [],
      "source": [
        "min_max_list = [] # 정규화를 위해 각 변수의 최대 최소값을 저장함\n",
        "for i in xx:\n",
        "    a, b, c = np.min(i), np.max(i), np.max(i) - np.min(i) \n",
        "    min_max_list.append([a,b,c])"
      ]
    },
    {
      "cell_type": "code",
      "execution_count": null,
      "metadata": {
        "colab": {
          "base_uri": "https://localhost:8080/"
        },
        "id": "VbIoSa9-WZMt",
        "outputId": "ddd78a98-4087-4bab-8388-9181f45ea409"
      },
      "outputs": [
        {
          "data": {
            "text/plain": [
              "196"
            ]
          },
          "execution_count": 12,
          "metadata": {},
          "output_type": "execute_result"
        }
      ],
      "source": [
        "len(min_max_list)"
      ]
    },
    {
      "cell_type": "code",
      "execution_count": null,
      "metadata": {
        "colab": {
          "base_uri": "https://localhost:8080/"
        },
        "id": "vCnqr6LoZUl-",
        "outputId": "77f9fc1c-29ec-427d-b3d0-13cc7d915367"
      },
      "outputs": [
        {
          "data": {
            "text/plain": [
              "3"
            ]
          },
          "execution_count": 13,
          "metadata": {},
          "output_type": "execute_result"
        }
      ],
      "source": [
        "len(min_max_list[0])"
      ]
    },
    {
      "cell_type": "code",
      "execution_count": null,
      "metadata": {
        "id": "zj0LnDWdQVSp"
      },
      "outputs": [],
      "source": [
        "def min_max_normalize(data_set, min_max_list):\n",
        "    normalized_data_set = []\n",
        "    \n",
        "    for i in range(len(data_set)):\n",
        "        normalized_data =  (data_set[i] - min_max_list[i][0])/ min_max_list[i][2]\n",
        "        normalized_data_set.append(normalized_data)\n",
        "    \n",
        "    return normalized_data_set"
      ]
    },
    {
      "cell_type": "code",
      "execution_count": null,
      "metadata": {
        "id": "yjhpRZPSMRXG"
      },
      "outputs": [],
      "source": [
        "yy[0:78] = 86400*yy[0:78]"
      ]
    },
    {
      "cell_type": "code",
      "execution_count": null,
      "metadata": {
        "id": "3l6XMprgQVXX"
      },
      "outputs": [],
      "source": [
        "train_d = np.array(min_max_normalize(xx, min_max_list))\n",
        "label_d = yy[:]"
      ]
    },
    {
      "cell_type": "code",
      "execution_count": null,
      "metadata": {
        "colab": {
          "base_uri": "https://localhost:8080/"
        },
        "id": "_p3DZCz3QVmV",
        "outputId": "e876e71e-5799-4c00-853d-0f3aa3474375"
      },
      "outputs": [
        {
          "name": "stdout",
          "output_type": "stream",
          "text": [
            "<class 'numpy.ndarray'>\n",
            "<class 'numpy.ndarray'>\n"
          ]
        }
      ],
      "source": [
        "print(type(train_d))\n",
        "print(type(label_d))"
      ]
    },
    {
      "cell_type": "code",
      "execution_count": null,
      "metadata": {
        "id": "5NR_T6w7QVse"
      },
      "outputs": [],
      "source": [
        "train_d = train_d.transpose(1,0)\n",
        "label_d = label_d.transpose(1,0)"
      ]
    },
    {
      "cell_type": "code",
      "execution_count": null,
      "metadata": {
        "colab": {
          "base_uri": "https://localhost:8080/"
        },
        "id": "S9z1HSMDQVyh",
        "outputId": "9cdea085-5fed-40b8-d1ba-9a87ba6dd780"
      },
      "outputs": [
        {
          "name": "stdout",
          "output_type": "stream",
          "text": [
            "(271360, 196)\n",
            "(271360, 86)\n"
          ]
        }
      ],
      "source": [
        "print(train_d.shape)\n",
        "print(label_d.shape)"
      ]
    },
    {
      "cell_type": "code",
      "execution_count": null,
      "metadata": {
        "colab": {
          "base_uri": "https://localhost:8080/"
        },
        "id": "WDLBdrjEWsLH",
        "outputId": "66e870a9-29d0-4ad1-af6e-492764b3c9b8"
      },
      "outputs": [
        {
          "data": {
            "application/vnd.google.colaboratory.intrinsic+json": {
              "type": "string"
            },
            "text/plain": [
              "'\\n\\nmean_std_list =[]\\nfor i in yy:\\n    a, b = np.mean(i), np.std(i)\\n    mean_std_list.append([a,b])\\n\\ndef z_score_normalize(data_set, mean_std_list):\\n    normalized_data_set = []\\n\\n    for i in range(len(data_set)):\\n        normalized_data = (data_set[i] - mean_std_list[i][0]) / mean_std_list[i][1]\\n        normalized_data_set.append(normalized_data)\\n    return normalized_data_set\\n\\n'"
            ]
          },
          "execution_count": 20,
          "metadata": {},
          "output_type": "execute_result"
        }
      ],
      "source": [
        "###ouput을 정규화 하고 싶다면 해당 작업을 추가로 해주시면 됩니다.###\n",
        "'''\n",
        "\n",
        "mean_std_list =[]\n",
        "for i in yy:\n",
        "    a, b = np.mean(i), np.std(i)\n",
        "    mean_std_list.append([a,b])\n",
        "\n",
        "def z_score_normalize(data_set, mean_std_list):\n",
        "    normalized_data_set = []\n",
        "\n",
        "    for i in range(len(data_set)):\n",
        "        normalized_data = (data_set[i] - mean_std_list[i][0]) / mean_std_list[i][1]\n",
        "        normalized_data_set.append(normalized_data)\n",
        "    return normalized_data_set\n",
        "\n",
        "'''"
      ]
    },
    {
      "cell_type": "markdown",
      "metadata": {
        "id": "vp9IeN6c3tEh"
      },
      "source": [
        "# 데이터 분리하기"
      ]
    },
    {
      "cell_type": "code",
      "execution_count": null,
      "metadata": {
        "id": "iARP31ZB3tJG"
      },
      "outputs": [],
      "source": [
        "from sklearn.model_selection import train_test_split"
      ]
    },
    {
      "cell_type": "code",
      "execution_count": null,
      "metadata": {
        "id": "UcgqEYty3tPJ"
      },
      "outputs": [],
      "source": [
        "train_data, val_data, train_label, val_label = train_test_split(train_d, label_d, test_size = 0.2)"
      ]
    },
    {
      "cell_type": "code",
      "execution_count": null,
      "metadata": {
        "colab": {
          "base_uri": "https://localhost:8080/"
        },
        "id": "zTkR_HGp3tWV",
        "outputId": "47e7b918-2b25-42b2-99a3-5f8998483652"
      },
      "outputs": [
        {
          "name": "stdout",
          "output_type": "stream",
          "text": [
            "(217088, 196)\n",
            "(217088, 86)\n",
            "(54272, 196)\n",
            "(54272, 86)\n"
          ]
        }
      ],
      "source": [
        "print(train_data.shape)\n",
        "print(train_label.shape)\n",
        "print(val_data.shape)\n",
        "print(val_label.shape)"
      ]
    },
    {
      "cell_type": "code",
      "execution_count": null,
      "metadata": {
        "colab": {
          "base_uri": "https://localhost:8080/"
        },
        "id": "V7CLx3nQHtNS",
        "outputId": "56f3ed16-b859-4a8e-8c9c-012b71b94ea9"
      },
      "outputs": [
        {
          "name": "stdout",
          "output_type": "stream",
          "text": [
            "<BatchDataset shapes: ((None, 196), (None, 86)), types: (tf.float32, tf.float32)>\n",
            "<BatchDataset shapes: ((None, 196), (None, 86)), types: (tf.float32, tf.float32)>\n"
          ]
        }
      ],
      "source": [
        "batch_size = 256\n",
        "\n",
        "# for train\n",
        "train_dataset = tf.data.Dataset.from_tensor_slices((train_data, train_label))\n",
        "train_dataset = train_dataset.shuffle(len(train_data)).repeat().batch(batch_size=batch_size)\n",
        "print(train_dataset)\n",
        "\n",
        "# for val\n",
        "val_dataset = tf.data.Dataset.from_tensor_slices((val_data, val_label))\n",
        "val_dataset = val_dataset.batch(batch_size=batch_size)\n",
        "print(val_dataset)"
      ]
    },
    {
      "cell_type": "markdown",
      "metadata": {
        "id": "l10Y_42D5tVZ"
      },
      "source": [
        "# 모델 구성 1번"
      ]
    },
    {
      "cell_type": "code",
      "execution_count": null,
      "metadata": {
        "id": "MiusproaYf8s"
      },
      "outputs": [],
      "source": [
        "from tensorflow.keras import layers"
      ]
    },
    {
      "cell_type": "code",
      "execution_count": null,
      "metadata": {
        "id": "Y_h3wC32uccT"
      },
      "outputs": [],
      "source": [
        "input_tensor = layers.Input(shape=(196,))\n",
        "\n",
        "x = layers.Dense(256)(input_tensor)\n",
        "x = layers.BatchNormalization()(x)\n",
        "x = layers.Activation('relu')(x)\n",
        "\n",
        "x = layers.Dense(512)(x)\n",
        "x = layers.BatchNormalization()(x)\n",
        "x = layers.Activation('relu')(x)\n",
        "\n",
        "x = layers.Dense(256)(x)\n",
        "x = layers.BatchNormalization()(x)\n",
        "x = layers.Activation('relu')(x)\n",
        "# x = layers.Dropout(0.3)(x)\n",
        "\n",
        "x = layers.Dense(128)(x)\n",
        "x = layers.BatchNormalization()(x)\n",
        "x = layers.Activation('relu')(x)\n",
        "# x = layers.Dropout(0.3)(x)\n",
        "\n",
        "output_tensor = layers.Dense(86)(x)\n",
        "\n",
        "model = tf.keras.Model(input_tensor, output_tensor)"
      ]
    },
    {
      "cell_type": "code",
      "execution_count": null,
      "metadata": {
        "colab": {
          "base_uri": "https://localhost:8080/"
        },
        "id": "9uNJbbWJui_Y",
        "outputId": "189ae1b7-f209-40ae-9b8a-f7dc145f33e9"
      },
      "outputs": [
        {
          "name": "stdout",
          "output_type": "stream",
          "text": [
            "Model: \"model\"\n",
            "_________________________________________________________________\n",
            "Layer (type)                 Output Shape              Param #   \n",
            "=================================================================\n",
            "input_1 (InputLayer)         [(None, 196)]             0         \n",
            "_________________________________________________________________\n",
            "dense (Dense)                (None, 256)               50432     \n",
            "_________________________________________________________________\n",
            "batch_normalization (BatchNo (None, 256)               1024      \n",
            "_________________________________________________________________\n",
            "activation (Activation)      (None, 256)               0         \n",
            "_________________________________________________________________\n",
            "dense_1 (Dense)              (None, 512)               131584    \n",
            "_________________________________________________________________\n",
            "batch_normalization_1 (Batch (None, 512)               2048      \n",
            "_________________________________________________________________\n",
            "activation_1 (Activation)    (None, 512)               0         \n",
            "_________________________________________________________________\n",
            "dense_2 (Dense)              (None, 256)               131328    \n",
            "_________________________________________________________________\n",
            "batch_normalization_2 (Batch (None, 256)               1024      \n",
            "_________________________________________________________________\n",
            "activation_2 (Activation)    (None, 256)               0         \n",
            "_________________________________________________________________\n",
            "dropout (Dropout)            (None, 256)               0         \n",
            "_________________________________________________________________\n",
            "dense_3 (Dense)              (None, 128)               32896     \n",
            "_________________________________________________________________\n",
            "batch_normalization_3 (Batch (None, 128)               512       \n",
            "_________________________________________________________________\n",
            "activation_3 (Activation)    (None, 128)               0         \n",
            "_________________________________________________________________\n",
            "dropout_1 (Dropout)          (None, 128)               0         \n",
            "_________________________________________________________________\n",
            "dense_4 (Dense)              (None, 86)                11094     \n",
            "=================================================================\n",
            "Total params: 361,942\n",
            "Trainable params: 359,638\n",
            "Non-trainable params: 2,304\n",
            "_________________________________________________________________\n"
          ]
        }
      ],
      "source": [
        "model.summary()"
      ]
    },
    {
      "cell_type": "markdown",
      "metadata": {
        "id": "FmCv4N_QVo1i"
      },
      "source": [
        "# 모델 구성 2번"
      ]
    },
    {
      "cell_type": "code",
      "execution_count": null,
      "metadata": {
        "id": "AC9qAAuwYhdk"
      },
      "outputs": [],
      "source": [
        "from tensorflow.keras import layers"
      ]
    },
    {
      "cell_type": "code",
      "execution_count": null,
      "metadata": {
        "id": "AxBhrz8GVvXM"
      },
      "outputs": [],
      "source": [
        "input_tensor = layers.Input(shape=(196,))\n",
        "\n",
        "x = layers.Dense(196, activation='relu')(input_tensor)\n",
        "x = tf.reshape(x, [-1, 14, 14, 1])\n",
        "\n",
        "x = layers.Conv2D(16, 3)(x)\n",
        "x = layers.BatchNormalization()(x)\n",
        "x = layers.Activation('relu')(x)\n",
        "\n",
        "x = x = layers.Conv2D(32, 3)(x)\n",
        "x = layers.BatchNormalization()(x)\n",
        "x = layers.Activation('relu')(x)\n",
        "\n",
        "x = layers.Flatten()(x)\n",
        "\n",
        "x = layers.Dense(512)(x)\n",
        "x = layers.BatchNormalization()(x)\n",
        "x = layers.Activation('relu')(x)\n",
        "\n",
        "x = layers.Dense(256)(x)\n",
        "x = layers.BatchNormalization()(x)\n",
        "x = layers.Activation('relu')(x)\n",
        "\n",
        "output_tensor = layers.Dense(86)(x)\n",
        "\n",
        "model = tf.keras.Model(input_tensor, output_tensor)"
      ]
    },
    {
      "cell_type": "code",
      "execution_count": null,
      "metadata": {
        "id": "rz_L7fqoVwd9"
      },
      "outputs": [],
      "source": [
        "model.summary()"
      ]
    },
    {
      "cell_type": "markdown",
      "metadata": {
        "id": "dhg0IsNtVyI1"
      },
      "source": [
        "# 모델 구성 3번"
      ]
    },
    {
      "cell_type": "code",
      "execution_count": null,
      "metadata": {
        "id": "QXmM476_YjcJ"
      },
      "outputs": [],
      "source": [
        "from tensorflow.keras import layers"
      ]
    },
    {
      "cell_type": "code",
      "execution_count": null,
      "metadata": {
        "id": "gn47zmtB6DQR"
      },
      "outputs": [],
      "source": [
        "input_tensor = layers.Input(shape=(196,))\n",
        "\n",
        "x = layers.Dense(196, activation='relu')(input_tensor)\n",
        "x = tf.reshape(x, [-1, 196, 1])\n",
        "\n",
        "x = layers.Conv1D(16, 9, padding='same')(x)\n",
        "x = layers.BatchNormalization()(x)\n",
        "x = layers.Activation('relu')(x)\n",
        "x = layers.Conv1D(16, 9, strides=2, padding='same')(x)\n",
        "x = layers.BatchNormalization()(x)\n",
        "skip_1 = layers.Activation('relu')(x)\n",
        "\n",
        "x = layers.Conv1D(32, 9, padding='same')(skip_1)\n",
        "x = layers.BatchNormalization()(x)\n",
        "x = layers.Activation('relu')(x)\n",
        "x = tf.concat([x, skip_1], -1)\n",
        "x = layers.Conv1D(32, 9, strides=2, padding='same')(x)\n",
        "x = layers.BatchNormalization()(x)\n",
        "skip_2 = layers.Activation('relu')(x)\n",
        "\n",
        "\n",
        "x = layers.Conv1D(64, 9, padding='same')(skip_2)\n",
        "x = layers.BatchNormalization()(x)\n",
        "x = layers.Activation('relu')(x)\n",
        "x = layers.Conv1D(64, 9, padding='same')(x)\n",
        "x = layers.BatchNormalization()(x)\n",
        "x = layers.Activation('relu')(x)\n",
        "x = tf.concat([x, skip_2], -1)\n",
        "x = layers.Conv1D(64, 9, strides=2, padding='same')(x)\n",
        "x = layers.BatchNormalization()(x)\n",
        "x = layers.Activation('relu')(x)\n",
        "x = layers.Dropout(0.3)(x)\n",
        "\n",
        "x = layers.Flatten()(x)\n",
        "\n",
        "x = layers.Dense(512)(x)\n",
        "x = layers.BatchNormalization()(x)\n",
        "x = layers.Activation('relu')(x)\n",
        "x = layers.Dense(256)(x)\n",
        "x = layers.BatchNormalization()(x)\n",
        "x = layers.Activation('relu')(x)\n",
        "\n",
        "output_tensor = layers.Dense(86)(x)\n",
        "\n",
        "model = tf.keras.Model(input_tensor, output_tensor)"
      ]
    },
    {
      "cell_type": "code",
      "execution_count": null,
      "metadata": {
        "colab": {
          "base_uri": "https://localhost:8080/"
        },
        "id": "oC_qUEL97bOP",
        "outputId": "a3759b6e-8b10-47d9-9508-d58a8bfe0908"
      },
      "outputs": [
        {
          "name": "stdout",
          "output_type": "stream",
          "text": [
            "Model: \"model\"\n",
            "__________________________________________________________________________________________________\n",
            "Layer (type)                    Output Shape         Param #     Connected to                     \n",
            "==================================================================================================\n",
            "input_1 (InputLayer)            [(None, 196)]        0                                            \n",
            "__________________________________________________________________________________________________\n",
            "dense (Dense)                   (None, 196)          38612       input_1[0][0]                    \n",
            "__________________________________________________________________________________________________\n",
            "tf.reshape (TFOpLambda)         (None, 196, 1)       0           dense[0][0]                      \n",
            "__________________________________________________________________________________________________\n",
            "conv1d (Conv1D)                 (None, 196, 16)      160         tf.reshape[0][0]                 \n",
            "__________________________________________________________________________________________________\n",
            "batch_normalization (BatchNorma (None, 196, 16)      64          conv1d[0][0]                     \n",
            "__________________________________________________________________________________________________\n",
            "activation (Activation)         (None, 196, 16)      0           batch_normalization[0][0]        \n",
            "__________________________________________________________________________________________________\n",
            "conv1d_1 (Conv1D)               (None, 98, 16)       2320        activation[0][0]                 \n",
            "__________________________________________________________________________________________________\n",
            "batch_normalization_1 (BatchNor (None, 98, 16)       64          conv1d_1[0][0]                   \n",
            "__________________________________________________________________________________________________\n",
            "activation_1 (Activation)       (None, 98, 16)       0           batch_normalization_1[0][0]      \n",
            "__________________________________________________________________________________________________\n",
            "conv1d_2 (Conv1D)               (None, 98, 32)       4640        activation_1[0][0]               \n",
            "__________________________________________________________________________________________________\n",
            "batch_normalization_2 (BatchNor (None, 98, 32)       128         conv1d_2[0][0]                   \n",
            "__________________________________________________________________________________________________\n",
            "activation_2 (Activation)       (None, 98, 32)       0           batch_normalization_2[0][0]      \n",
            "__________________________________________________________________________________________________\n",
            "tf.concat (TFOpLambda)          (None, 98, 48)       0           activation_2[0][0]               \n",
            "                                                                 activation_1[0][0]               \n",
            "__________________________________________________________________________________________________\n",
            "conv1d_3 (Conv1D)               (None, 49, 32)       13856       tf.concat[0][0]                  \n",
            "__________________________________________________________________________________________________\n",
            "batch_normalization_3 (BatchNor (None, 49, 32)       128         conv1d_3[0][0]                   \n",
            "__________________________________________________________________________________________________\n",
            "activation_3 (Activation)       (None, 49, 32)       0           batch_normalization_3[0][0]      \n",
            "__________________________________________________________________________________________________\n",
            "conv1d_4 (Conv1D)               (None, 49, 64)       18496       activation_3[0][0]               \n",
            "__________________________________________________________________________________________________\n",
            "batch_normalization_4 (BatchNor (None, 49, 64)       256         conv1d_4[0][0]                   \n",
            "__________________________________________________________________________________________________\n",
            "activation_4 (Activation)       (None, 49, 64)       0           batch_normalization_4[0][0]      \n",
            "__________________________________________________________________________________________________\n",
            "conv1d_5 (Conv1D)               (None, 49, 64)       36928       activation_4[0][0]               \n",
            "__________________________________________________________________________________________________\n",
            "batch_normalization_5 (BatchNor (None, 49, 64)       256         conv1d_5[0][0]                   \n",
            "__________________________________________________________________________________________________\n",
            "activation_5 (Activation)       (None, 49, 64)       0           batch_normalization_5[0][0]      \n",
            "__________________________________________________________________________________________________\n",
            "tf.concat_1 (TFOpLambda)        (None, 49, 96)       0           activation_5[0][0]               \n",
            "                                                                 activation_3[0][0]               \n",
            "__________________________________________________________________________________________________\n",
            "conv1d_6 (Conv1D)               (None, 25, 64)       55360       tf.concat_1[0][0]                \n",
            "__________________________________________________________________________________________________\n",
            "batch_normalization_6 (BatchNor (None, 25, 64)       256         conv1d_6[0][0]                   \n",
            "__________________________________________________________________________________________________\n",
            "activation_6 (Activation)       (None, 25, 64)       0           batch_normalization_6[0][0]      \n",
            "__________________________________________________________________________________________________\n",
            "dropout (Dropout)               (None, 25, 64)       0           activation_6[0][0]               \n",
            "__________________________________________________________________________________________________\n",
            "flatten (Flatten)               (None, 1600)         0           dropout[0][0]                    \n",
            "__________________________________________________________________________________________________\n",
            "dense_1 (Dense)                 (None, 512)          819712      flatten[0][0]                    \n",
            "__________________________________________________________________________________________________\n",
            "batch_normalization_7 (BatchNor (None, 512)          2048        dense_1[0][0]                    \n",
            "__________________________________________________________________________________________________\n",
            "activation_7 (Activation)       (None, 512)          0           batch_normalization_7[0][0]      \n",
            "__________________________________________________________________________________________________\n",
            "dense_2 (Dense)                 (None, 256)          131328      activation_7[0][0]               \n",
            "__________________________________________________________________________________________________\n",
            "batch_normalization_8 (BatchNor (None, 256)          1024        dense_2[0][0]                    \n",
            "__________________________________________________________________________________________________\n",
            "activation_8 (Activation)       (None, 256)          0           batch_normalization_8[0][0]      \n",
            "__________________________________________________________________________________________________\n",
            "dense_3 (Dense)                 (None, 86)           22102       activation_8[0][0]               \n",
            "==================================================================================================\n",
            "Total params: 1,147,738\n",
            "Trainable params: 1,145,626\n",
            "Non-trainable params: 2,112\n",
            "__________________________________________________________________________________________________\n"
          ]
        }
      ],
      "source": [
        "model.summary()"
      ]
    },
    {
      "cell_type": "markdown",
      "metadata": {
        "id": "8kONHCACXJO4"
      },
      "source": [
        "# 모델 학습시키기"
      ]
    },
    {
      "cell_type": "code",
      "execution_count": null,
      "metadata": {
        "id": "pgZGulHzYQwZ"
      },
      "outputs": [],
      "source": [
        "from tensorflow.keras.callbacks import EarlyStopping\n",
        "import os"
      ]
    },
    {
      "cell_type": "code",
      "execution_count": null,
      "metadata": {
        "id": "wry4Sd6Q-CLC"
      },
      "outputs": [],
      "source": [
        "# the save point\n",
        "if use_colab:\n",
        "    checkpoint_dir ='./drive/My Drive/train_ckpt/weather'\n",
        "    if not os.path.isdir(checkpoint_dir):\n",
        "        os.makedirs(checkpoint_dir)\n",
        "else:\n",
        "    checkpoint_dir = 'weather'\n",
        "\n",
        "cp_callback = tf.keras.callbacks.ModelCheckpoint(checkpoint_dir,\n",
        "                                                 save_weights_only=True,\n",
        "                                                 monitor='val_loss',\n",
        "                                                 mode='auto',\n",
        "                                                 save_best_only=True,\n",
        "                                                 verbose=1)"
      ]
    },
    {
      "cell_type": "code",
      "execution_count": null,
      "metadata": {
        "id": "N8cXCT3q_COe"
      },
      "outputs": [],
      "source": [
        "cos_decay = tf.keras.experimental.CosineDecay(1e-3, 300)\n",
        "lr_callback = tf.keras.callbacks.LearningRateScheduler(cos_decay, verbose=1)\n",
        "\n",
        "es_callback = EarlyStopping(monitor= 'val_loss', patience=30)"
      ]
    },
    {
      "cell_type": "code",
      "execution_count": null,
      "metadata": {
        "id": "yQhmLQ9q_N_o"
      },
      "outputs": [],
      "source": [
        "loss=tf.keras.losses.MeanSquaredError()\n",
        "optimizer=tf.keras.optimizers.Adam(learning_rate=1e-3)\n",
        "metrics=tf.keras.metrics.RootMeanSquaredError(name='RMSE')\n",
        "\n",
        "model.compile(loss=loss, optimizer=optimizer, metrics=[metrics])"
      ]
    },
    {
      "cell_type": "code",
      "execution_count": null,
      "metadata": {
        "colab": {
          "base_uri": "https://localhost:8080/"
        },
        "id": "clMVzT1n_yGM",
        "outputId": "f2106494-8c42-4909-b515-1b094f2b75ea"
      },
      "outputs": [
        {
          "name": "stdout",
          "output_type": "stream",
          "text": [
            "Epoch 1/300\n",
            "\n",
            "Epoch 00001: LearningRateScheduler setting learning rate to tf.Tensor(0.001, shape=(), dtype=float32).\n",
            "848/848 [==============================] - 67s 40ms/step - loss: 5967.6758 - RMSE: 77.2507 - val_loss: 977.3599 - val_RMSE: 31.2628\n",
            "\n",
            "Epoch 00001: val_loss improved from inf to 977.35986, saving model to ./drive/My Drive/train_ckpt/weather\n",
            "Epoch 2/300\n",
            "\n",
            "Epoch 00002: LearningRateScheduler setting learning rate to tf.Tensor(0.0009999726, shape=(), dtype=float32).\n",
            "848/848 [==============================] - 34s 40ms/step - loss: 301.8084 - RMSE: 17.3726 - val_loss: 78.7641 - val_RMSE: 8.8749\n",
            "\n",
            "Epoch 00002: val_loss improved from 977.35986 to 78.76408, saving model to ./drive/My Drive/train_ckpt/weather\n",
            "Epoch 3/300\n",
            "\n",
            "Epoch 00003: LearningRateScheduler setting learning rate to tf.Tensor(0.0009998904, shape=(), dtype=float32).\n",
            "848/848 [==============================] - 34s 40ms/step - loss: 28.5769 - RMSE: 5.3457 - val_loss: 16.0427 - val_RMSE: 4.0053\n",
            "\n",
            "Epoch 00003: val_loss improved from 78.76408 to 16.04273, saving model to ./drive/My Drive/train_ckpt/weather\n",
            "Epoch 4/300\n",
            "\n",
            "Epoch 00004: LearningRateScheduler setting learning rate to tf.Tensor(0.0009997532, shape=(), dtype=float32).\n",
            "848/848 [==============================] - 34s 40ms/step - loss: 15.0257 - RMSE: 3.8763 - val_loss: 13.1040 - val_RMSE: 3.6199\n",
            "\n",
            "Epoch 00004: val_loss improved from 16.04273 to 13.10397, saving model to ./drive/My Drive/train_ckpt/weather\n",
            "Epoch 5/300\n",
            "\n",
            "Epoch 00005: LearningRateScheduler setting learning rate to tf.Tensor(0.0009995615, shape=(), dtype=float32).\n",
            "848/848 [==============================] - 34s 40ms/step - loss: 12.5874 - RMSE: 3.5479 - val_loss: 17.3734 - val_RMSE: 4.1681\n",
            "\n",
            "Epoch 00005: val_loss did not improve from 13.10397\n",
            "Epoch 6/300\n",
            "\n",
            "Epoch 00006: LearningRateScheduler setting learning rate to tf.Tensor(0.0009993148, shape=(), dtype=float32).\n",
            "848/848 [==============================] - 34s 40ms/step - loss: 10.8405 - RMSE: 3.2925 - val_loss: 7.7084 - val_RMSE: 2.7764\n",
            "\n",
            "Epoch 00006: val_loss improved from 13.10397 to 7.70842, saving model to ./drive/My Drive/train_ckpt/weather\n",
            "Epoch 7/300\n",
            "\n",
            "Epoch 00007: LearningRateScheduler setting learning rate to tf.Tensor(0.0009990134, shape=(), dtype=float32).\n",
            "848/848 [==============================] - 34s 40ms/step - loss: 10.0574 - RMSE: 3.1713 - val_loss: 8.1119 - val_RMSE: 2.8481\n",
            "\n",
            "Epoch 00007: val_loss did not improve from 7.70842\n",
            "Epoch 8/300\n",
            "\n",
            "Epoch 00008: LearningRateScheduler setting learning rate to tf.Tensor(0.0009986573, shape=(), dtype=float32).\n",
            "848/848 [==============================] - 34s 40ms/step - loss: 9.5240 - RMSE: 3.0861 - val_loss: 6.9284 - val_RMSE: 2.6322\n",
            "\n",
            "Epoch 00008: val_loss improved from 7.70842 to 6.92840, saving model to ./drive/My Drive/train_ckpt/weather\n",
            "Epoch 9/300\n",
            "\n",
            "Epoch 00009: LearningRateScheduler setting learning rate to tf.Tensor(0.0009982465, shape=(), dtype=float32).\n",
            "848/848 [==============================] - 34s 40ms/step - loss: 8.9095 - RMSE: 2.9849 - val_loss: 8.4302 - val_RMSE: 2.9035\n",
            "\n",
            "Epoch 00009: val_loss did not improve from 6.92840\n",
            "Epoch 10/300\n",
            "\n",
            "Epoch 00010: LearningRateScheduler setting learning rate to tf.Tensor(0.000997781, shape=(), dtype=float32).\n",
            "848/848 [==============================] - 34s 40ms/step - loss: 8.3925 - RMSE: 2.8970 - val_loss: 6.4969 - val_RMSE: 2.5489\n",
            "\n",
            "Epoch 00010: val_loss improved from 6.92840 to 6.49689, saving model to ./drive/My Drive/train_ckpt/weather\n",
            "Epoch 11/300\n",
            "\n",
            "Epoch 00011: LearningRateScheduler setting learning rate to tf.Tensor(0.000997261, shape=(), dtype=float32).\n",
            "848/848 [==============================] - 34s 40ms/step - loss: 7.8386 - RMSE: 2.7997 - val_loss: 6.4734 - val_RMSE: 2.5443\n",
            "\n",
            "Epoch 00011: val_loss improved from 6.49689 to 6.47335, saving model to ./drive/My Drive/train_ckpt/weather\n",
            "Epoch 12/300\n",
            "\n",
            "Epoch 00012: LearningRateScheduler setting learning rate to tf.Tensor(0.0009966864, shape=(), dtype=float32).\n",
            "848/848 [==============================] - 34s 40ms/step - loss: 7.4012 - RMSE: 2.7205 - val_loss: 8.0209 - val_RMSE: 2.8321\n",
            "\n",
            "Epoch 00012: val_loss did not improve from 6.47335\n",
            "Epoch 13/300\n",
            "\n",
            "Epoch 00013: LearningRateScheduler setting learning rate to tf.Tensor(0.0009960574, shape=(), dtype=float32).\n",
            "848/848 [==============================] - 34s 40ms/step - loss: 6.9112 - RMSE: 2.6289 - val_loss: 5.5635 - val_RMSE: 2.3587\n",
            "\n",
            "Epoch 00013: val_loss improved from 6.47335 to 5.56352, saving model to ./drive/My Drive/train_ckpt/weather\n",
            "Epoch 14/300\n",
            "\n",
            "Epoch 00014: LearningRateScheduler setting learning rate to tf.Tensor(0.000995374, shape=(), dtype=float32).\n",
            "848/848 [==============================] - 34s 40ms/step - loss: 6.7365 - RMSE: 2.5955 - val_loss: 6.3987 - val_RMSE: 2.5296\n",
            "\n",
            "Epoch 00014: val_loss did not improve from 5.56352\n",
            "Epoch 15/300\n",
            "\n",
            "Epoch 00015: LearningRateScheduler setting learning rate to tf.Tensor(0.0009946362, shape=(), dtype=float32).\n",
            "848/848 [==============================] - 34s 40ms/step - loss: 6.5172 - RMSE: 2.5529 - val_loss: 7.1328 - val_RMSE: 2.6707\n",
            "\n",
            "Epoch 00015: val_loss did not improve from 5.56352\n",
            "Epoch 16/300\n",
            "\n",
            "Epoch 00016: LearningRateScheduler setting learning rate to tf.Tensor(0.0009938442, shape=(), dtype=float32).\n",
            "848/848 [==============================] - 34s 40ms/step - loss: 6.1515 - RMSE: 2.4802 - val_loss: 8.0296 - val_RMSE: 2.8337\n",
            "\n",
            "Epoch 00016: val_loss did not improve from 5.56352\n",
            "Epoch 17/300\n",
            "\n",
            "Epoch 00017: LearningRateScheduler setting learning rate to tf.Tensor(0.000992998, shape=(), dtype=float32).\n",
            "848/848 [==============================] - 34s 40ms/step - loss: 5.9861 - RMSE: 2.4467 - val_loss: 5.1490 - val_RMSE: 2.2691\n",
            "\n",
            "Epoch 00017: val_loss improved from 5.56352 to 5.14897, saving model to ./drive/My Drive/train_ckpt/weather\n",
            "Epoch 18/300\n",
            "\n",
            "Epoch 00018: LearningRateScheduler setting learning rate to tf.Tensor(0.0009920979, shape=(), dtype=float32).\n",
            "848/848 [==============================] - 34s 40ms/step - loss: 5.7415 - RMSE: 2.3961 - val_loss: 5.9618 - val_RMSE: 2.4417\n",
            "\n",
            "Epoch 00018: val_loss did not improve from 5.14897\n",
            "Epoch 19/300\n",
            "\n",
            "Epoch 00019: LearningRateScheduler setting learning rate to tf.Tensor(0.0009911436, shape=(), dtype=float32).\n",
            "848/848 [==============================] - 34s 40ms/step - loss: 5.7080 - RMSE: 2.3891 - val_loss: 5.2476 - val_RMSE: 2.2908\n",
            "\n",
            "Epoch 00019: val_loss did not improve from 5.14897\n",
            "Epoch 20/300\n",
            "\n",
            "Epoch 00020: LearningRateScheduler setting learning rate to tf.Tensor(0.0009901356, shape=(), dtype=float32).\n",
            "848/848 [==============================] - 34s 40ms/step - loss: 5.4928 - RMSE: 2.3437 - val_loss: 5.1814 - val_RMSE: 2.2763\n",
            "\n",
            "Epoch 00020: val_loss did not improve from 5.14897\n",
            "Epoch 21/300\n",
            "\n",
            "Epoch 00021: LearningRateScheduler setting learning rate to tf.Tensor(0.0009890739, shape=(), dtype=float32).\n",
            "848/848 [==============================] - 34s 40ms/step - loss: 5.5532 - RMSE: 2.3565 - val_loss: 4.7644 - val_RMSE: 2.1827\n",
            "\n",
            "Epoch 00021: val_loss improved from 5.14897 to 4.76438, saving model to ./drive/My Drive/train_ckpt/weather\n",
            "Epoch 22/300\n",
            "\n",
            "Epoch 00022: LearningRateScheduler setting learning rate to tf.Tensor(0.0009879584, shape=(), dtype=float32).\n",
            "848/848 [==============================] - 34s 40ms/step - loss: 5.2927 - RMSE: 2.3006 - val_loss: 5.5358 - val_RMSE: 2.3528\n",
            "\n",
            "Epoch 00022: val_loss did not improve from 4.76438\n",
            "Epoch 23/300\n",
            "\n",
            "Epoch 00023: LearningRateScheduler setting learning rate to tf.Tensor(0.0009867895, shape=(), dtype=float32).\n",
            "848/848 [==============================] - 34s 40ms/step - loss: 5.2150 - RMSE: 2.2836 - val_loss: 4.6117 - val_RMSE: 2.1475\n",
            "\n",
            "Epoch 00023: val_loss improved from 4.76438 to 4.61167, saving model to ./drive/My Drive/train_ckpt/weather\n",
            "Epoch 24/300\n",
            "\n",
            "Epoch 00024: LearningRateScheduler setting learning rate to tf.Tensor(0.0009855672, shape=(), dtype=float32).\n",
            "848/848 [==============================] - 34s 40ms/step - loss: 5.0432 - RMSE: 2.2457 - val_loss: 4.1247 - val_RMSE: 2.0309\n",
            "\n",
            "Epoch 00024: val_loss improved from 4.61167 to 4.12474, saving model to ./drive/My Drive/train_ckpt/weather\n",
            "Epoch 25/300\n",
            "\n",
            "Epoch 00025: LearningRateScheduler setting learning rate to tf.Tensor(0.0009842915, shape=(), dtype=float32).\n",
            "848/848 [==============================] - 34s 40ms/step - loss: 4.9607 - RMSE: 2.2273 - val_loss: 4.7353 - val_RMSE: 2.1761\n",
            "\n",
            "Epoch 00025: val_loss did not improve from 4.12474\n",
            "Epoch 26/300\n",
            "\n",
            "Epoch 00026: LearningRateScheduler setting learning rate to tf.Tensor(0.0009829629, shape=(), dtype=float32).\n",
            "848/848 [==============================] - 34s 40ms/step - loss: 4.9504 - RMSE: 2.2249 - val_loss: 4.0493 - val_RMSE: 2.0123\n",
            "\n",
            "Epoch 00026: val_loss improved from 4.12474 to 4.04930, saving model to ./drive/My Drive/train_ckpt/weather\n",
            "Epoch 27/300\n",
            "\n",
            "Epoch 00027: LearningRateScheduler setting learning rate to tf.Tensor(0.0009815813, shape=(), dtype=float32).\n",
            "848/848 [==============================] - 34s 40ms/step - loss: 4.7643 - RMSE: 2.1827 - val_loss: 12.4219 - val_RMSE: 3.5245\n",
            "\n",
            "Epoch 00027: val_loss did not improve from 4.04930\n",
            "Epoch 28/300\n",
            "\n",
            "Epoch 00028: LearningRateScheduler setting learning rate to tf.Tensor(0.0009801469, shape=(), dtype=float32).\n",
            "848/848 [==============================] - 34s 40ms/step - loss: 4.7761 - RMSE: 2.1854 - val_loss: 4.6776 - val_RMSE: 2.1628\n",
            "\n",
            "Epoch 00028: val_loss did not improve from 4.04930\n",
            "Epoch 29/300\n",
            "\n",
            "Epoch 00029: LearningRateScheduler setting learning rate to tf.Tensor(0.0009786598, shape=(), dtype=float32).\n",
            "848/848 [==============================] - 34s 40ms/step - loss: 4.6098 - RMSE: 2.1470 - val_loss: 4.8579 - val_RMSE: 2.2041\n",
            "\n",
            "Epoch 00029: val_loss did not improve from 4.04930\n",
            "Epoch 30/300\n",
            "\n",
            "Epoch 00030: LearningRateScheduler setting learning rate to tf.Tensor(0.0009771202, shape=(), dtype=float32).\n",
            "848/848 [==============================] - 34s 40ms/step - loss: 4.6518 - RMSE: 2.1568 - val_loss: 4.3054 - val_RMSE: 2.0750\n",
            "\n",
            "Epoch 00030: val_loss did not improve from 4.04930\n",
            "Epoch 31/300\n",
            "\n",
            "Epoch 00031: LearningRateScheduler setting learning rate to tf.Tensor(0.00097552827, shape=(), dtype=float32).\n",
            "848/848 [==============================] - 34s 40ms/step - loss: 4.5819 - RMSE: 2.1405 - val_loss: 4.0541 - val_RMSE: 2.0135\n",
            "\n",
            "Epoch 00031: val_loss did not improve from 4.04930\n",
            "Epoch 32/300\n",
            "\n",
            "Epoch 00032: LearningRateScheduler setting learning rate to tf.Tensor(0.00097388425, shape=(), dtype=float32).\n",
            "848/848 [==============================] - 34s 40ms/step - loss: 4.5123 - RMSE: 2.1242 - val_loss: 4.2239 - val_RMSE: 2.0552\n",
            "\n",
            "Epoch 00032: val_loss did not improve from 4.04930\n",
            "Epoch 33/300\n",
            "\n",
            "Epoch 00033: LearningRateScheduler setting learning rate to tf.Tensor(0.0009721882, shape=(), dtype=float32).\n",
            "848/848 [==============================] - 35s 41ms/step - loss: 4.4909 - RMSE: 2.1192 - val_loss: 3.9435 - val_RMSE: 1.9858\n",
            "\n",
            "Epoch 00033: val_loss improved from 4.04930 to 3.94350, saving model to ./drive/My Drive/train_ckpt/weather\n",
            "Epoch 34/300\n",
            "\n",
            "Epoch 00034: LearningRateScheduler setting learning rate to tf.Tensor(0.00097044045, shape=(), dtype=float32).\n",
            "848/848 [==============================] - 35s 41ms/step - loss: 4.4013 - RMSE: 2.0979 - val_loss: 4.3352 - val_RMSE: 2.0821\n",
            "\n",
            "Epoch 00034: val_loss did not improve from 3.94350\n",
            "Epoch 35/300\n",
            "\n",
            "Epoch 00035: LearningRateScheduler setting learning rate to tf.Tensor(0.000968641, shape=(), dtype=float32).\n",
            "848/848 [==============================] - 35s 41ms/step - loss: 4.3634 - RMSE: 2.0889 - val_loss: 4.1425 - val_RMSE: 2.0353\n",
            "\n",
            "Epoch 00035: val_loss did not improve from 3.94350\n",
            "Epoch 36/300\n",
            "\n",
            "Epoch 00036: LearningRateScheduler setting learning rate to tf.Tensor(0.00096679025, shape=(), dtype=float32).\n",
            "848/848 [==============================] - 34s 40ms/step - loss: 4.2901 - RMSE: 2.0713 - val_loss: 4.9263 - val_RMSE: 2.2195\n",
            "\n",
            "Epoch 00036: val_loss did not improve from 3.94350\n",
            "Epoch 37/300\n",
            "\n",
            "Epoch 00037: LearningRateScheduler setting learning rate to tf.Tensor(0.00096488826, shape=(), dtype=float32).\n",
            "848/848 [==============================] - 34s 40ms/step - loss: 4.2683 - RMSE: 2.0660 - val_loss: 4.4282 - val_RMSE: 2.1043\n",
            "\n",
            "Epoch 00037: val_loss did not improve from 3.94350\n",
            "Epoch 38/300\n",
            "\n",
            "Epoch 00038: LearningRateScheduler setting learning rate to tf.Tensor(0.0009629354, shape=(), dtype=float32).\n",
            "848/848 [==============================] - 34s 40ms/step - loss: 4.2051 - RMSE: 2.0506 - val_loss: 3.6761 - val_RMSE: 1.9173\n",
            "\n",
            "Epoch 00038: val_loss improved from 3.94350 to 3.67614, saving model to ./drive/My Drive/train_ckpt/weather\n",
            "Epoch 39/300\n",
            "\n",
            "Epoch 00039: LearningRateScheduler setting learning rate to tf.Tensor(0.0009609316, shape=(), dtype=float32).\n",
            "848/848 [==============================] - 34s 40ms/step - loss: 4.1209 - RMSE: 2.0300 - val_loss: 3.8452 - val_RMSE: 1.9609\n",
            "\n",
            "Epoch 00039: val_loss did not improve from 3.67614\n",
            "Epoch 40/300\n",
            "\n",
            "Epoch 00040: LearningRateScheduler setting learning rate to tf.Tensor(0.0009588774, shape=(), dtype=float32).\n",
            "848/848 [==============================] - 34s 40ms/step - loss: 4.1318 - RMSE: 2.0327 - val_loss: 5.0619 - val_RMSE: 2.2499\n",
            "\n",
            "Epoch 00040: val_loss did not improve from 3.67614\n",
            "Epoch 41/300\n",
            "\n",
            "Epoch 00041: LearningRateScheduler setting learning rate to tf.Tensor(0.0009567727, shape=(), dtype=float32).\n",
            "848/848 [==============================] - 34s 40ms/step - loss: 4.1175 - RMSE: 2.0292 - val_loss: 3.9748 - val_RMSE: 1.9937\n",
            "\n",
            "Epoch 00041: val_loss did not improve from 3.67614\n",
            "Epoch 42/300\n",
            "\n",
            "Epoch 00042: LearningRateScheduler setting learning rate to tf.Tensor(0.0009546181, shape=(), dtype=float32).\n",
            "848/848 [==============================] - 34s 41ms/step - loss: 4.1034 - RMSE: 2.0257 - val_loss: 4.7299 - val_RMSE: 2.1748\n",
            "\n",
            "Epoch 00042: val_loss did not improve from 3.67614\n",
            "Epoch 43/300\n",
            "\n",
            "Epoch 00043: LearningRateScheduler setting learning rate to tf.Tensor(0.0009524136, shape=(), dtype=float32).\n",
            "848/848 [==============================] - 35s 41ms/step - loss: 4.0609 - RMSE: 2.0152 - val_loss: 3.5695 - val_RMSE: 1.8893\n",
            "\n",
            "Epoch 00043: val_loss improved from 3.67614 to 3.56949, saving model to ./drive/My Drive/train_ckpt/weather\n",
            "Epoch 44/300\n",
            "\n",
            "Epoch 00044: LearningRateScheduler setting learning rate to tf.Tensor(0.00095015945, shape=(), dtype=float32).\n",
            "848/848 [==============================] - 34s 41ms/step - loss: 3.9712 - RMSE: 1.9928 - val_loss: 3.4513 - val_RMSE: 1.8578\n",
            "\n",
            "Epoch 00044: val_loss improved from 3.56949 to 3.45132, saving model to ./drive/My Drive/train_ckpt/weather\n",
            "Epoch 45/300\n",
            "\n",
            "Epoch 00045: LearningRateScheduler setting learning rate to tf.Tensor(0.00094785594, shape=(), dtype=float32).\n",
            "848/848 [==============================] - 34s 40ms/step - loss: 3.9340 - RMSE: 1.9834 - val_loss: 3.7426 - val_RMSE: 1.9346\n",
            "\n",
            "Epoch 00045: val_loss did not improve from 3.45132\n",
            "Epoch 46/300\n",
            "\n",
            "Epoch 00046: LearningRateScheduler setting learning rate to tf.Tensor(0.0009455033, shape=(), dtype=float32).\n",
            "848/848 [==============================] - 34s 40ms/step - loss: 3.9505 - RMSE: 1.9876 - val_loss: 3.5602 - val_RMSE: 1.8869\n",
            "\n",
            "Epoch 00046: val_loss did not improve from 3.45132\n",
            "Epoch 47/300\n",
            "\n",
            "Epoch 00047: LearningRateScheduler setting learning rate to tf.Tensor(0.0009431018, shape=(), dtype=float32).\n",
            "848/848 [==============================] - 34s 40ms/step - loss: 3.8964 - RMSE: 1.9739 - val_loss: 3.5187 - val_RMSE: 1.8758\n",
            "\n",
            "Epoch 00047: val_loss did not improve from 3.45132\n",
            "Epoch 48/300\n",
            "\n",
            "Epoch 00048: LearningRateScheduler setting learning rate to tf.Tensor(0.0009406518, shape=(), dtype=float32).\n",
            "848/848 [==============================] - 35s 41ms/step - loss: 3.8606 - RMSE: 1.9649 - val_loss: 3.6441 - val_RMSE: 1.9089\n",
            "\n",
            "Epoch 00048: val_loss did not improve from 3.45132\n",
            "Epoch 49/300\n",
            "\n",
            "Epoch 00049: LearningRateScheduler setting learning rate to tf.Tensor(0.0009381534, shape=(), dtype=float32).\n",
            "848/848 [==============================] - 35s 41ms/step - loss: 3.8847 - RMSE: 1.9710 - val_loss: 3.7457 - val_RMSE: 1.9354\n",
            "\n",
            "Epoch 00049: val_loss did not improve from 3.45132\n",
            "Epoch 50/300\n",
            "\n",
            "Epoch 00050: LearningRateScheduler setting learning rate to tf.Tensor(0.000935607, shape=(), dtype=float32).\n",
            "848/848 [==============================] - 34s 41ms/step - loss: 3.8299 - RMSE: 1.9570 - val_loss: 3.7498 - val_RMSE: 1.9364\n",
            "\n",
            "Epoch 00050: val_loss did not improve from 3.45132\n",
            "Epoch 51/300\n",
            "\n",
            "Epoch 00051: LearningRateScheduler setting learning rate to tf.Tensor(0.00093301275, shape=(), dtype=float32).\n",
            "848/848 [==============================] - 34s 41ms/step - loss: 3.7980 - RMSE: 1.9488 - val_loss: 3.4476 - val_RMSE: 1.8568\n",
            "\n",
            "Epoch 00051: val_loss improved from 3.45132 to 3.44760, saving model to ./drive/My Drive/train_ckpt/weather\n",
            "Epoch 52/300\n",
            "\n",
            "Epoch 00052: LearningRateScheduler setting learning rate to tf.Tensor(0.0009303711, shape=(), dtype=float32).\n",
            "848/848 [==============================] - 34s 41ms/step - loss: 3.7811 - RMSE: 1.9445 - val_loss: 3.9654 - val_RMSE: 1.9913\n",
            "\n",
            "Epoch 00052: val_loss did not improve from 3.44760\n",
            "Epoch 53/300\n",
            "\n",
            "Epoch 00053: LearningRateScheduler setting learning rate to tf.Tensor(0.0009276822, shape=(), dtype=float32).\n",
            "848/848 [==============================] - 35s 41ms/step - loss: 3.7060 - RMSE: 1.9251 - val_loss: 3.8340 - val_RMSE: 1.9581\n",
            "\n",
            "Epoch 00053: val_loss did not improve from 3.44760\n",
            "Epoch 54/300\n",
            "\n",
            "Epoch 00054: LearningRateScheduler setting learning rate to tf.Tensor(0.00092494633, shape=(), dtype=float32).\n",
            "848/848 [==============================] - 34s 40ms/step - loss: 3.7039 - RMSE: 1.9245 - val_loss: 3.4724 - val_RMSE: 1.8634\n",
            "\n",
            "Epoch 00054: val_loss did not improve from 3.44760\n",
            "Epoch 55/300\n",
            "\n",
            "Epoch 00055: LearningRateScheduler setting learning rate to tf.Tensor(0.000922164, shape=(), dtype=float32).\n",
            "848/848 [==============================] - 34s 40ms/step - loss: 3.6940 - RMSE: 1.9220 - val_loss: 4.3003 - val_RMSE: 2.0737\n",
            "\n",
            "Epoch 00055: val_loss did not improve from 3.44760\n",
            "Epoch 56/300\n",
            "\n",
            "Epoch 00056: LearningRateScheduler setting learning rate to tf.Tensor(0.0009193353, shape=(), dtype=float32).\n",
            "848/848 [==============================] - 34s 40ms/step - loss: 3.6651 - RMSE: 1.9144 - val_loss: 3.2667 - val_RMSE: 1.8074\n",
            "\n",
            "Epoch 00056: val_loss improved from 3.44760 to 3.26674, saving model to ./drive/My Drive/train_ckpt/weather\n",
            "Epoch 57/300\n",
            "\n",
            "Epoch 00057: LearningRateScheduler setting learning rate to tf.Tensor(0.0009164607, shape=(), dtype=float32).\n",
            "848/848 [==============================] - 34s 41ms/step - loss: 3.6373 - RMSE: 1.9072 - val_loss: 3.5052 - val_RMSE: 1.8722\n",
            "\n",
            "Epoch 00057: val_loss did not improve from 3.26674\n",
            "Epoch 58/300\n",
            "\n",
            "Epoch 00058: LearningRateScheduler setting learning rate to tf.Tensor(0.00091354037, shape=(), dtype=float32).\n",
            "848/848 [==============================] - 34s 40ms/step - loss: 3.6151 - RMSE: 1.9013 - val_loss: 3.2747 - val_RMSE: 1.8096\n",
            "\n",
            "Epoch 00058: val_loss did not improve from 3.26674\n",
            "Epoch 59/300\n",
            "\n",
            "Epoch 00059: LearningRateScheduler setting learning rate to tf.Tensor(0.0009105747, shape=(), dtype=float32).\n",
            "848/848 [==============================] - 34s 40ms/step - loss: 3.6286 - RMSE: 1.9049 - val_loss: 3.3806 - val_RMSE: 1.8386\n",
            "\n",
            "Epoch 00059: val_loss did not improve from 3.26674\n",
            "Epoch 60/300\n",
            "\n",
            "Epoch 00060: LearningRateScheduler setting learning rate to tf.Tensor(0.00090756395, shape=(), dtype=float32).\n",
            "848/848 [==============================] - 34s 40ms/step - loss: 3.5851 - RMSE: 1.8934 - val_loss: 3.5937 - val_RMSE: 1.8957\n",
            "\n",
            "Epoch 00060: val_loss did not improve from 3.26674\n",
            "Epoch 61/300\n",
            "\n",
            "Epoch 00061: LearningRateScheduler setting learning rate to tf.Tensor(0.0009045085, shape=(), dtype=float32).\n",
            "848/848 [==============================] - 34s 40ms/step - loss: 3.5825 - RMSE: 1.8927 - val_loss: 3.0817 - val_RMSE: 1.7555\n",
            "\n",
            "Epoch 00061: val_loss improved from 3.26674 to 3.08175, saving model to ./drive/My Drive/train_ckpt/weather\n",
            "Epoch 62/300\n",
            "\n",
            "Epoch 00062: LearningRateScheduler setting learning rate to tf.Tensor(0.0009014088, shape=(), dtype=float32).\n",
            "848/848 [==============================] - 34s 40ms/step - loss: 3.5371 - RMSE: 1.8807 - val_loss: 3.1506 - val_RMSE: 1.7750\n",
            "\n",
            "Epoch 00062: val_loss did not improve from 3.08175\n",
            "Epoch 63/300\n",
            "\n",
            "Epoch 00063: LearningRateScheduler setting learning rate to tf.Tensor(0.00089826505, shape=(), dtype=float32).\n",
            "848/848 [==============================] - 34s 40ms/step - loss: 3.5397 - RMSE: 1.8814 - val_loss: 5.3459 - val_RMSE: 2.3121\n",
            "\n",
            "Epoch 00063: val_loss did not improve from 3.08175\n",
            "Epoch 64/300\n",
            "\n",
            "Epoch 00064: LearningRateScheduler setting learning rate to tf.Tensor(0.0008950776, shape=(), dtype=float32).\n",
            "848/848 [==============================] - 34s 41ms/step - loss: 3.5253 - RMSE: 1.8776 - val_loss: 3.1916 - val_RMSE: 1.7865\n",
            "\n",
            "Epoch 00064: val_loss did not improve from 3.08175\n",
            "Epoch 65/300\n",
            "\n",
            "Epoch 00065: LearningRateScheduler setting learning rate to tf.Tensor(0.0008918468, shape=(), dtype=float32).\n",
            "848/848 [==============================] - 34s 40ms/step - loss: 3.4928 - RMSE: 1.8689 - val_loss: 3.3204 - val_RMSE: 1.8222\n",
            "\n",
            "Epoch 00065: val_loss did not improve from 3.08175\n",
            "Epoch 66/300\n",
            "\n",
            "Epoch 00066: LearningRateScheduler setting learning rate to tf.Tensor(0.000888573, shape=(), dtype=float32).\n",
            "848/848 [==============================] - 34s 40ms/step - loss: 3.4940 - RMSE: 1.8692 - val_loss: 3.4233 - val_RMSE: 1.8502\n",
            "\n",
            "Epoch 00066: val_loss did not improve from 3.08175\n",
            "Epoch 67/300\n",
            "\n",
            "Epoch 00067: LearningRateScheduler setting learning rate to tf.Tensor(0.0008852567, shape=(), dtype=float32).\n",
            "848/848 [==============================] - 35s 41ms/step - loss: 3.4419 - RMSE: 1.8552 - val_loss: 3.2545 - val_RMSE: 1.8040\n",
            "\n",
            "Epoch 00067: val_loss did not improve from 3.08175\n",
            "Epoch 68/300\n",
            "\n",
            "Epoch 00068: LearningRateScheduler setting learning rate to tf.Tensor(0.0008818981, shape=(), dtype=float32).\n",
            "848/848 [==============================] - 34s 40ms/step - loss: 3.4706 - RMSE: 1.8629 - val_loss: 3.4028 - val_RMSE: 1.8447\n",
            "\n",
            "Epoch 00068: val_loss did not improve from 3.08175\n",
            "Epoch 69/300\n",
            "\n",
            "Epoch 00069: LearningRateScheduler setting learning rate to tf.Tensor(0.00087849755, shape=(), dtype=float32).\n",
            "848/848 [==============================] - 34s 41ms/step - loss: 3.4143 - RMSE: 1.8478 - val_loss: 3.3729 - val_RMSE: 1.8365\n",
            "\n",
            "Epoch 00069: val_loss did not improve from 3.08175\n",
            "Epoch 70/300\n",
            "\n",
            "Epoch 00070: LearningRateScheduler setting learning rate to tf.Tensor(0.0008750556, shape=(), dtype=float32).\n",
            "848/848 [==============================] - 34s 40ms/step - loss: 3.3921 - RMSE: 1.8418 - val_loss: 3.3727 - val_RMSE: 1.8365\n",
            "\n",
            "Epoch 00070: val_loss did not improve from 3.08175\n",
            "Epoch 71/300\n",
            "\n",
            "Epoch 00071: LearningRateScheduler setting learning rate to tf.Tensor(0.0008715724, shape=(), dtype=float32).\n",
            "848/848 [==============================] - 35s 41ms/step - loss: 3.3929 - RMSE: 1.8420 - val_loss: 3.3564 - val_RMSE: 1.8321\n",
            "\n",
            "Epoch 00071: val_loss did not improve from 3.08175\n",
            "Epoch 72/300\n",
            "\n",
            "Epoch 00072: LearningRateScheduler setting learning rate to tf.Tensor(0.0008680486, shape=(), dtype=float32).\n",
            "848/848 [==============================] - 34s 40ms/step - loss: 3.3758 - RMSE: 1.8373 - val_loss: 3.1269 - val_RMSE: 1.7683\n",
            "\n",
            "Epoch 00072: val_loss did not improve from 3.08175\n",
            "Epoch 73/300\n",
            "\n",
            "Epoch 00073: LearningRateScheduler setting learning rate to tf.Tensor(0.00086448435, shape=(), dtype=float32).\n",
            "848/848 [==============================] - 34s 40ms/step - loss: 3.3785 - RMSE: 1.8381 - val_loss: 3.1966 - val_RMSE: 1.7879\n",
            "\n",
            "Epoch 00073: val_loss did not improve from 3.08175\n",
            "Epoch 74/300\n",
            "\n",
            "Epoch 00074: LearningRateScheduler setting learning rate to tf.Tensor(0.0008608802, shape=(), dtype=float32).\n",
            "848/848 [==============================] - 35s 41ms/step - loss: 3.3369 - RMSE: 1.8267 - val_loss: 3.0050 - val_RMSE: 1.7335\n",
            "\n",
            "Epoch 00074: val_loss improved from 3.08175 to 3.00501, saving model to ./drive/My Drive/train_ckpt/weather\n",
            "Epoch 75/300\n",
            "\n",
            "Epoch 00075: LearningRateScheduler setting learning rate to tf.Tensor(0.0008572364, shape=(), dtype=float32).\n",
            "848/848 [==============================] - 35s 41ms/step - loss: 3.3194 - RMSE: 1.8219 - val_loss: 3.5928 - val_RMSE: 1.8955\n",
            "\n",
            "Epoch 00075: val_loss did not improve from 3.00501\n",
            "Epoch 76/300\n",
            "\n",
            "Epoch 00076: LearningRateScheduler setting learning rate to tf.Tensor(0.0008535535, shape=(), dtype=float32).\n",
            "848/848 [==============================] - 34s 41ms/step - loss: 3.3259 - RMSE: 1.8237 - val_loss: 3.1577 - val_RMSE: 1.7770\n",
            "\n",
            "Epoch 00076: val_loss did not improve from 3.00501\n",
            "Epoch 77/300\n",
            "\n",
            "Epoch 00077: LearningRateScheduler setting learning rate to tf.Tensor(0.00084983173, shape=(), dtype=float32).\n",
            "848/848 [==============================] - 34s 41ms/step - loss: 3.2735 - RMSE: 1.8093 - val_loss: 3.1964 - val_RMSE: 1.7878\n",
            "\n",
            "Epoch 00077: val_loss did not improve from 3.00501\n",
            "Epoch 78/300\n",
            "\n",
            "Epoch 00078: LearningRateScheduler setting learning rate to tf.Tensor(0.00084607163, shape=(), dtype=float32).\n",
            "848/848 [==============================] - 35s 41ms/step - loss: 3.3015 - RMSE: 1.8170 - val_loss: 3.2580 - val_RMSE: 1.8050\n",
            "\n",
            "Epoch 00078: val_loss did not improve from 3.00501\n",
            "Epoch 79/300\n",
            "\n",
            "Epoch 00079: LearningRateScheduler setting learning rate to tf.Tensor(0.00084227364, shape=(), dtype=float32).\n",
            "848/848 [==============================] - 34s 41ms/step - loss: 3.2909 - RMSE: 1.8141 - val_loss: 3.2666 - val_RMSE: 1.8074\n",
            "\n",
            "Epoch 00079: val_loss did not improve from 3.00501\n",
            "Epoch 80/300\n",
            "\n",
            "Epoch 00080: LearningRateScheduler setting learning rate to tf.Tensor(0.000838438, shape=(), dtype=float32).\n",
            "848/848 [==============================] - 35s 41ms/step - loss: 3.2463 - RMSE: 1.8017 - val_loss: 3.1028 - val_RMSE: 1.7615\n",
            "\n",
            "Epoch 00080: val_loss did not improve from 3.00501\n",
            "Epoch 81/300\n",
            "\n",
            "Epoch 00081: LearningRateScheduler setting learning rate to tf.Tensor(0.0008345653, shape=(), dtype=float32).\n",
            "848/848 [==============================] - 35s 41ms/step - loss: 3.2804 - RMSE: 1.8112 - val_loss: 3.0232 - val_RMSE: 1.7387\n",
            "\n",
            "Epoch 00081: val_loss did not improve from 3.00501\n",
            "Epoch 82/300\n",
            "\n",
            "Epoch 00082: LearningRateScheduler setting learning rate to tf.Tensor(0.000830656, shape=(), dtype=float32).\n",
            "848/848 [==============================] - 35s 41ms/step - loss: 3.2172 - RMSE: 1.7937 - val_loss: 3.2436 - val_RMSE: 1.8010\n",
            "\n",
            "Epoch 00082: val_loss did not improve from 3.00501\n",
            "Epoch 83/300\n",
            "\n",
            "Epoch 00083: LearningRateScheduler setting learning rate to tf.Tensor(0.0008267103, shape=(), dtype=float32).\n",
            "848/848 [==============================] - 35s 41ms/step - loss: 3.2208 - RMSE: 1.7947 - val_loss: 3.0948 - val_RMSE: 1.7592\n",
            "\n",
            "Epoch 00083: val_loss did not improve from 3.00501\n",
            "Epoch 84/300\n",
            "\n",
            "Epoch 00084: LearningRateScheduler setting learning rate to tf.Tensor(0.0008227289, shape=(), dtype=float32).\n",
            "848/848 [==============================] - 35s 41ms/step - loss: 3.2259 - RMSE: 1.7961 - val_loss: 3.1265 - val_RMSE: 1.7682\n",
            "\n",
            "Epoch 00084: val_loss did not improve from 3.00501\n",
            "Epoch 85/300\n",
            "\n",
            "Epoch 00085: LearningRateScheduler setting learning rate to tf.Tensor(0.00081871205, shape=(), dtype=float32).\n",
            "848/848 [==============================] - 35s 41ms/step - loss: 3.2422 - RMSE: 1.8006 - val_loss: 2.8403 - val_RMSE: 1.6853\n",
            "\n",
            "Epoch 00085: val_loss improved from 3.00501 to 2.84033, saving model to ./drive/My Drive/train_ckpt/weather\n",
            "Epoch 86/300\n",
            "\n",
            "Epoch 00086: LearningRateScheduler setting learning rate to tf.Tensor(0.0008146602, shape=(), dtype=float32).\n",
            "848/848 [==============================] - 35s 41ms/step - loss: 3.1671 - RMSE: 1.7796 - val_loss: 3.5219 - val_RMSE: 1.8767\n",
            "\n",
            "Epoch 00086: val_loss did not improve from 2.84033\n",
            "Epoch 87/300\n",
            "\n",
            "Epoch 00087: LearningRateScheduler setting learning rate to tf.Tensor(0.000810574, shape=(), dtype=float32).\n",
            "848/848 [==============================] - 35s 41ms/step - loss: 3.1811 - RMSE: 1.7836 - val_loss: 3.0074 - val_RMSE: 1.7342\n",
            "\n",
            "Epoch 00087: val_loss did not improve from 2.84033\n",
            "Epoch 88/300\n",
            "\n",
            "Epoch 00088: LearningRateScheduler setting learning rate to tf.Tensor(0.0008064536, shape=(), dtype=float32).\n",
            "848/848 [==============================] - 35s 41ms/step - loss: 3.1401 - RMSE: 1.7720 - val_loss: 2.8283 - val_RMSE: 1.6818\n",
            "\n",
            "Epoch 00088: val_loss improved from 2.84033 to 2.82833, saving model to ./drive/My Drive/train_ckpt/weather\n",
            "Epoch 89/300\n",
            "\n",
            "Epoch 00089: LearningRateScheduler setting learning rate to tf.Tensor(0.0008022996, shape=(), dtype=float32).\n",
            "848/848 [==============================] - 35s 41ms/step - loss: 3.1508 - RMSE: 1.7750 - val_loss: 3.6421 - val_RMSE: 1.9084\n",
            "\n",
            "Epoch 00089: val_loss did not improve from 2.82833\n",
            "Epoch 90/300\n",
            "\n",
            "Epoch 00090: LearningRateScheduler setting learning rate to tf.Tensor(0.0007981124, shape=(), dtype=float32).\n",
            "848/848 [==============================] - 35s 41ms/step - loss: 3.1613 - RMSE: 1.7780 - val_loss: 2.7970 - val_RMSE: 1.6724\n",
            "\n",
            "Epoch 00090: val_loss improved from 2.82833 to 2.79696, saving model to ./drive/My Drive/train_ckpt/weather\n",
            "Epoch 91/300\n",
            "\n",
            "Epoch 00091: LearningRateScheduler setting learning rate to tf.Tensor(0.00079389266, shape=(), dtype=float32).\n",
            "848/848 [==============================] - 35s 41ms/step - loss: 3.1189 - RMSE: 1.7660 - val_loss: 2.8169 - val_RMSE: 1.6784\n",
            "\n",
            "Epoch 00091: val_loss did not improve from 2.79696\n",
            "Epoch 92/300\n",
            "\n",
            "Epoch 00092: LearningRateScheduler setting learning rate to tf.Tensor(0.0007896406, shape=(), dtype=float32).\n",
            "848/848 [==============================] - 35s 41ms/step - loss: 3.1196 - RMSE: 1.7662 - val_loss: 3.0216 - val_RMSE: 1.7383\n",
            "\n",
            "Epoch 00092: val_loss did not improve from 2.79696\n",
            "Epoch 93/300\n",
            "\n",
            "Epoch 00093: LearningRateScheduler setting learning rate to tf.Tensor(0.0007853568, shape=(), dtype=float32).\n",
            "848/848 [==============================] - 35s 41ms/step - loss: 3.1348 - RMSE: 1.7705 - val_loss: 3.1128 - val_RMSE: 1.7643\n",
            "\n",
            "Epoch 00093: val_loss did not improve from 2.79696\n",
            "Epoch 94/300\n",
            "\n",
            "Epoch 00094: LearningRateScheduler setting learning rate to tf.Tensor(0.00078104174, shape=(), dtype=float32).\n",
            "848/848 [==============================] - 35s 41ms/step - loss: 3.1348 - RMSE: 1.7705 - val_loss: 2.9613 - val_RMSE: 1.7208\n",
            "\n",
            "Epoch 00094: val_loss did not improve from 2.79696\n",
            "Epoch 95/300\n",
            "\n",
            "Epoch 00095: LearningRateScheduler setting learning rate to tf.Tensor(0.0007766958, shape=(), dtype=float32).\n",
            "848/848 [==============================] - 35s 41ms/step - loss: 3.1211 - RMSE: 1.7667 - val_loss: 2.7896 - val_RMSE: 1.6702\n",
            "\n",
            "Epoch 00095: val_loss improved from 2.79696 to 2.78965, saving model to ./drive/My Drive/train_ckpt/weather\n",
            "Epoch 96/300\n",
            "\n",
            "Epoch 00096: LearningRateScheduler setting learning rate to tf.Tensor(0.00077231956, shape=(), dtype=float32).\n",
            "848/848 [==============================] - 34s 41ms/step - loss: 3.0665 - RMSE: 1.7512 - val_loss: 2.9255 - val_RMSE: 1.7104\n",
            "\n",
            "Epoch 00096: val_loss did not improve from 2.78965\n",
            "Epoch 97/300\n",
            "\n",
            "Epoch 00097: LearningRateScheduler setting learning rate to tf.Tensor(0.00076791336, shape=(), dtype=float32).\n",
            "848/848 [==============================] - 35s 41ms/step - loss: 3.0658 - RMSE: 1.7509 - val_loss: 2.8837 - val_RMSE: 1.6981\n",
            "\n",
            "Epoch 00097: val_loss did not improve from 2.78965\n",
            "Epoch 98/300\n",
            "\n",
            "Epoch 00098: LearningRateScheduler setting learning rate to tf.Tensor(0.00076347793, shape=(), dtype=float32).\n",
            "848/848 [==============================] - 35s 41ms/step - loss: 3.0641 - RMSE: 1.7505 - val_loss: 2.8907 - val_RMSE: 1.7002\n",
            "\n",
            "Epoch 00098: val_loss did not improve from 2.78965\n",
            "Epoch 99/300\n",
            "\n",
            "Epoch 00099: LearningRateScheduler setting learning rate to tf.Tensor(0.0007590136, shape=(), dtype=float32).\n",
            "848/848 [==============================] - 35s 41ms/step - loss: 3.0421 - RMSE: 1.7442 - val_loss: 2.8862 - val_RMSE: 1.6989\n",
            "\n",
            "Epoch 00099: val_loss did not improve from 2.78965\n",
            "Epoch 100/300\n",
            "\n",
            "Epoch 00100: LearningRateScheduler setting learning rate to tf.Tensor(0.0007545207, shape=(), dtype=float32).\n",
            "848/848 [==============================] - 35s 41ms/step - loss: 3.0521 - RMSE: 1.7470 - val_loss: 2.9237 - val_RMSE: 1.7099\n",
            "\n",
            "Epoch 00100: val_loss did not improve from 2.78965\n",
            "Epoch 101/300\n",
            "\n",
            "Epoch 00101: LearningRateScheduler setting learning rate to tf.Tensor(0.00075, shape=(), dtype=float32).\n",
            "848/848 [==============================] - 35s 41ms/step - loss: 3.0201 - RMSE: 1.7378 - val_loss: 2.7992 - val_RMSE: 1.6731\n",
            "\n",
            "Epoch 00101: val_loss did not improve from 2.78965\n",
            "Epoch 102/300\n",
            "\n",
            "Epoch 00102: LearningRateScheduler setting learning rate to tf.Tensor(0.0007454519, shape=(), dtype=float32).\n",
            "848/848 [==============================] - 35s 41ms/step - loss: 3.0299 - RMSE: 1.7407 - val_loss: 2.8754 - val_RMSE: 1.6957\n",
            "\n",
            "Epoch 00102: val_loss did not improve from 2.78965\n",
            "Epoch 103/300\n",
            "\n",
            "Epoch 00103: LearningRateScheduler setting learning rate to tf.Tensor(0.0007408768, shape=(), dtype=float32).\n",
            "848/848 [==============================] - 34s 41ms/step - loss: 3.0323 - RMSE: 1.7413 - val_loss: 2.7809 - val_RMSE: 1.6676\n",
            "\n",
            "Epoch 00103: val_loss improved from 2.78965 to 2.78093, saving model to ./drive/My Drive/train_ckpt/weather\n",
            "Epoch 104/300\n",
            "\n",
            "Epoch 00104: LearningRateScheduler setting learning rate to tf.Tensor(0.0007362754, shape=(), dtype=float32).\n",
            "848/848 [==============================] - 34s 41ms/step - loss: 3.0085 - RMSE: 1.7345 - val_loss: 2.8514 - val_RMSE: 1.6886\n",
            "\n",
            "Epoch 00104: val_loss did not improve from 2.78093\n",
            "Epoch 105/300\n",
            "\n",
            "Epoch 00105: LearningRateScheduler setting learning rate to tf.Tensor(0.00073164806, shape=(), dtype=float32).\n",
            "848/848 [==============================] - 35s 41ms/step - loss: 2.9966 - RMSE: 1.7311 - val_loss: 2.8742 - val_RMSE: 1.6953\n",
            "\n",
            "Epoch 00105: val_loss did not improve from 2.78093\n",
            "Epoch 106/300\n",
            "\n",
            "Epoch 00106: LearningRateScheduler setting learning rate to tf.Tensor(0.00072699535, shape=(), dtype=float32).\n",
            "848/848 [==============================] - 35s 41ms/step - loss: 2.9815 - RMSE: 1.7267 - val_loss: 3.1631 - val_RMSE: 1.7785\n",
            "\n",
            "Epoch 00106: val_loss did not improve from 2.78093\n",
            "Epoch 107/300\n",
            "\n",
            "Epoch 00107: LearningRateScheduler setting learning rate to tf.Tensor(0.0007223176, shape=(), dtype=float32).\n",
            "848/848 [==============================] - 35s 41ms/step - loss: 3.0446 - RMSE: 1.7449 - val_loss: 2.7959 - val_RMSE: 1.6721\n",
            "\n",
            "Epoch 00107: val_loss did not improve from 2.78093\n",
            "Epoch 108/300\n",
            "\n",
            "Epoch 00108: LearningRateScheduler setting learning rate to tf.Tensor(0.0007176156, shape=(), dtype=float32).\n",
            "848/848 [==============================] - 34s 40ms/step - loss: 2.9508 - RMSE: 1.7178 - val_loss: 2.6913 - val_RMSE: 1.6405\n",
            "\n",
            "Epoch 00108: val_loss improved from 2.78093 to 2.69129, saving model to ./drive/My Drive/train_ckpt/weather\n",
            "Epoch 109/300\n",
            "\n",
            "Epoch 00109: LearningRateScheduler setting learning rate to tf.Tensor(0.00071288965, shape=(), dtype=float32).\n",
            "848/848 [==============================] - 35s 41ms/step - loss: 2.9448 - RMSE: 1.7160 - val_loss: 3.3486 - val_RMSE: 1.8299\n",
            "\n",
            "Epoch 00109: val_loss did not improve from 2.69129\n",
            "Epoch 110/300\n",
            "\n",
            "Epoch 00110: LearningRateScheduler setting learning rate to tf.Tensor(0.00070814043, shape=(), dtype=float32).\n",
            "848/848 [==============================] - 35s 41ms/step - loss: 2.9841 - RMSE: 1.7275 - val_loss: 2.7582 - val_RMSE: 1.6608\n",
            "\n",
            "Epoch 00110: val_loss did not improve from 2.69129\n",
            "Epoch 111/300\n",
            "\n",
            "Epoch 00111: LearningRateScheduler setting learning rate to tf.Tensor(0.00070336834, shape=(), dtype=float32).\n",
            "848/848 [==============================] - 34s 41ms/step - loss: 2.9321 - RMSE: 1.7123 - val_loss: 2.7996 - val_RMSE: 1.6732\n",
            "\n",
            "Epoch 00111: val_loss did not improve from 2.69129\n",
            "Epoch 112/300\n",
            "\n",
            "Epoch 00112: LearningRateScheduler setting learning rate to tf.Tensor(0.000698574, shape=(), dtype=float32).\n",
            "848/848 [==============================] - 35s 41ms/step - loss: 2.9538 - RMSE: 1.7187 - val_loss: 3.0242 - val_RMSE: 1.7390\n",
            "\n",
            "Epoch 00112: val_loss did not improve from 2.69129\n",
            "Epoch 113/300\n",
            "\n",
            "Epoch 00113: LearningRateScheduler setting learning rate to tf.Tensor(0.0006937578, shape=(), dtype=float32).\n",
            "848/848 [==============================] - 34s 41ms/step - loss: 2.9629 - RMSE: 1.7213 - val_loss: 2.7061 - val_RMSE: 1.6450\n",
            "\n",
            "Epoch 00113: val_loss did not improve from 2.69129\n",
            "Epoch 114/300\n",
            "\n",
            "Epoch 00114: LearningRateScheduler setting learning rate to tf.Tensor(0.00068892044, shape=(), dtype=float32).\n",
            "848/848 [==============================] - 35s 41ms/step - loss: 2.9327 - RMSE: 1.7125 - val_loss: 2.7527 - val_RMSE: 1.6591\n",
            "\n",
            "Epoch 00114: val_loss did not improve from 2.69129\n",
            "Epoch 115/300\n",
            "\n",
            "Epoch 00115: LearningRateScheduler setting learning rate to tf.Tensor(0.00068406225, shape=(), dtype=float32).\n",
            "848/848 [==============================] - 35s 41ms/step - loss: 2.9039 - RMSE: 1.7041 - val_loss: 2.8173 - val_RMSE: 1.6785\n",
            "\n",
            "Epoch 00115: val_loss did not improve from 2.69129\n",
            "Epoch 116/300\n",
            "\n",
            "Epoch 00116: LearningRateScheduler setting learning rate to tf.Tensor(0.000679184, shape=(), dtype=float32).\n",
            "848/848 [==============================] - 34s 41ms/step - loss: 2.9216 - RMSE: 1.7093 - val_loss: 2.7196 - val_RMSE: 1.6491\n",
            "\n",
            "Epoch 00116: val_loss did not improve from 2.69129\n",
            "Epoch 117/300\n",
            "\n",
            "Epoch 00117: LearningRateScheduler setting learning rate to tf.Tensor(0.00067428604, shape=(), dtype=float32).\n",
            "848/848 [==============================] - 34s 41ms/step - loss: 2.9047 - RMSE: 1.7043 - val_loss: 4.1771 - val_RMSE: 2.0438\n",
            "\n",
            "Epoch 00117: val_loss did not improve from 2.69129\n",
            "Epoch 118/300\n",
            "\n",
            "Epoch 00118: LearningRateScheduler setting learning rate to tf.Tensor(0.000669369, shape=(), dtype=float32).\n",
            "848/848 [==============================] - 35s 41ms/step - loss: 2.9048 - RMSE: 1.7043 - val_loss: 2.8029 - val_RMSE: 1.6742\n",
            "\n",
            "Epoch 00118: val_loss did not improve from 2.69129\n",
            "Epoch 119/300\n",
            "\n",
            "Epoch 00119: LearningRateScheduler setting learning rate to tf.Tensor(0.00066443335, shape=(), dtype=float32).\n",
            "848/848 [==============================] - 35s 41ms/step - loss: 2.8956 - RMSE: 1.7017 - val_loss: 2.6705 - val_RMSE: 1.6342\n",
            "\n",
            "Epoch 00119: val_loss improved from 2.69129 to 2.67051, saving model to ./drive/My Drive/train_ckpt/weather\n",
            "Epoch 120/300\n",
            "\n",
            "Epoch 00120: LearningRateScheduler setting learning rate to tf.Tensor(0.00065947964, shape=(), dtype=float32).\n",
            "848/848 [==============================] - 35s 41ms/step - loss: 2.8995 - RMSE: 1.7028 - val_loss: 2.7673 - val_RMSE: 1.6635\n",
            "\n",
            "Epoch 00120: val_loss did not improve from 2.67051\n",
            "Epoch 121/300\n",
            "\n",
            "Epoch 00121: LearningRateScheduler setting learning rate to tf.Tensor(0.0006545085, shape=(), dtype=float32).\n",
            "848/848 [==============================] - 35s 41ms/step - loss: 2.8733 - RMSE: 1.6951 - val_loss: 2.6926 - val_RMSE: 1.6409\n",
            "\n",
            "Epoch 00121: val_loss did not improve from 2.67051\n",
            "Epoch 122/300\n",
            "\n",
            "Epoch 00122: LearningRateScheduler setting learning rate to tf.Tensor(0.0006495204, shape=(), dtype=float32).\n",
            "848/848 [==============================] - 35s 41ms/step - loss: 2.8707 - RMSE: 1.6943 - val_loss: 2.6901 - val_RMSE: 1.6402\n",
            "\n",
            "Epoch 00122: val_loss did not improve from 2.67051\n",
            "Epoch 123/300\n",
            "\n",
            "Epoch 00123: LearningRateScheduler setting learning rate to tf.Tensor(0.0006445159, shape=(), dtype=float32).\n",
            "848/848 [==============================] - 35s 41ms/step - loss: 2.8647 - RMSE: 1.6926 - val_loss: 2.7836 - val_RMSE: 1.6684\n",
            "\n",
            "Epoch 00123: val_loss did not improve from 2.67051\n",
            "Epoch 124/300\n",
            "\n",
            "Epoch 00124: LearningRateScheduler setting learning rate to tf.Tensor(0.00063949556, shape=(), dtype=float32).\n",
            "848/848 [==============================] - 35s 41ms/step - loss: 2.8463 - RMSE: 1.6871 - val_loss: 2.6804 - val_RMSE: 1.6372\n",
            "\n",
            "Epoch 00124: val_loss did not improve from 2.67051\n",
            "Epoch 125/300\n",
            "\n",
            "Epoch 00125: LearningRateScheduler setting learning rate to tf.Tensor(0.00063445995, shape=(), dtype=float32).\n",
            "848/848 [==============================] - 35s 41ms/step - loss: 2.8408 - RMSE: 1.6855 - val_loss: 2.6451 - val_RMSE: 1.6264\n",
            "\n",
            "Epoch 00125: val_loss improved from 2.67051 to 2.64512, saving model to ./drive/My Drive/train_ckpt/weather\n",
            "Epoch 126/300\n",
            "\n",
            "Epoch 00126: LearningRateScheduler setting learning rate to tf.Tensor(0.00062940957, shape=(), dtype=float32).\n",
            "848/848 [==============================] - 35s 41ms/step - loss: 2.8283 - RMSE: 1.6817 - val_loss: 2.8003 - val_RMSE: 1.6734\n",
            "\n",
            "Epoch 00126: val_loss did not improve from 2.64512\n",
            "Epoch 127/300\n",
            "\n",
            "Epoch 00127: LearningRateScheduler setting learning rate to tf.Tensor(0.00062434503, shape=(), dtype=float32).\n",
            "848/848 [==============================] - 35s 41ms/step - loss: 2.8197 - RMSE: 1.6792 - val_loss: 2.6716 - val_RMSE: 1.6345\n",
            "\n",
            "Epoch 00127: val_loss did not improve from 2.64512\n",
            "Epoch 128/300\n",
            "\n",
            "Epoch 00128: LearningRateScheduler setting learning rate to tf.Tensor(0.00061926676, shape=(), dtype=float32).\n",
            "848/848 [==============================] - 35s 41ms/step - loss: 2.8472 - RMSE: 1.6874 - val_loss: 2.9511 - val_RMSE: 1.7179\n",
            "\n",
            "Epoch 00128: val_loss did not improve from 2.64512\n",
            "Epoch 129/300\n",
            "\n",
            "Epoch 00129: LearningRateScheduler setting learning rate to tf.Tensor(0.0006141754, shape=(), dtype=float32).\n",
            "848/848 [==============================] - 35s 41ms/step - loss: 2.8150 - RMSE: 1.6778 - val_loss: 2.6674 - val_RMSE: 1.6332\n",
            "\n",
            "Epoch 00129: val_loss did not improve from 2.64512\n",
            "Epoch 130/300\n",
            "\n",
            "Epoch 00130: LearningRateScheduler setting learning rate to tf.Tensor(0.00060907163, shape=(), dtype=float32).\n",
            "848/848 [==============================] - 35s 41ms/step - loss: 2.8246 - RMSE: 1.6806 - val_loss: 2.8176 - val_RMSE: 1.6786\n",
            "\n",
            "Epoch 00130: val_loss did not improve from 2.64512\n",
            "Epoch 131/300\n",
            "\n",
            "Epoch 00131: LearningRateScheduler setting learning rate to tf.Tensor(0.0006039558, shape=(), dtype=float32).\n",
            "848/848 [==============================] - 35s 41ms/step - loss: 2.7874 - RMSE: 1.6696 - val_loss: 2.6137 - val_RMSE: 1.6167\n",
            "\n",
            "Epoch 00131: val_loss improved from 2.64512 to 2.61367, saving model to ./drive/My Drive/train_ckpt/weather\n",
            "Epoch 132/300\n",
            "\n",
            "Epoch 00132: LearningRateScheduler setting learning rate to tf.Tensor(0.0005988287, shape=(), dtype=float32).\n",
            "848/848 [==============================] - 35s 42ms/step - loss: 2.8262 - RMSE: 1.6811 - val_loss: 2.7408 - val_RMSE: 1.6555\n",
            "\n",
            "Epoch 00132: val_loss did not improve from 2.61367\n",
            "Epoch 133/300\n",
            "\n",
            "Epoch 00133: LearningRateScheduler setting learning rate to tf.Tensor(0.00059369067, shape=(), dtype=float32).\n",
            "848/848 [==============================] - 35s 41ms/step - loss: 2.8046 - RMSE: 1.6747 - val_loss: 2.6384 - val_RMSE: 1.6243\n",
            "\n",
            "Epoch 00133: val_loss did not improve from 2.61367\n",
            "Epoch 134/300\n",
            "\n",
            "Epoch 00134: LearningRateScheduler setting learning rate to tf.Tensor(0.0005885424, shape=(), dtype=float32).\n",
            "848/848 [==============================] - 35s 41ms/step - loss: 2.7842 - RMSE: 1.6686 - val_loss: 2.7025 - val_RMSE: 1.6439\n",
            "\n",
            "Epoch 00134: val_loss did not improve from 2.61367\n",
            "Epoch 135/300\n",
            "\n",
            "Epoch 00135: LearningRateScheduler setting learning rate to tf.Tensor(0.0005833844, shape=(), dtype=float32).\n",
            "848/848 [==============================] - 35s 42ms/step - loss: 2.7848 - RMSE: 1.6688 - val_loss: 2.7787 - val_RMSE: 1.6670\n",
            "\n",
            "Epoch 00135: val_loss did not improve from 2.61367\n",
            "Epoch 136/300\n",
            "\n",
            "Epoch 00136: LearningRateScheduler setting learning rate to tf.Tensor(0.00057821727, shape=(), dtype=float32).\n",
            "848/848 [==============================] - 35s 41ms/step - loss: 2.7501 - RMSE: 1.6583 - val_loss: 2.6338 - val_RMSE: 1.6229\n",
            "\n",
            "Epoch 00136: val_loss did not improve from 2.61367\n",
            "Epoch 137/300\n",
            "\n",
            "Epoch 00137: LearningRateScheduler setting learning rate to tf.Tensor(0.0005730415, shape=(), dtype=float32).\n",
            "848/848 [==============================] - 35s 41ms/step - loss: 2.7663 - RMSE: 1.6632 - val_loss: 3.0282 - val_RMSE: 1.7402\n",
            "\n",
            "Epoch 00137: val_loss did not improve from 2.61367\n",
            "Epoch 138/300\n",
            "\n",
            "Epoch 00138: LearningRateScheduler setting learning rate to tf.Tensor(0.00056785776, shape=(), dtype=float32).\n",
            "848/848 [==============================] - 35s 41ms/step - loss: 2.7845 - RMSE: 1.6687 - val_loss: 2.8138 - val_RMSE: 1.6774\n",
            "\n",
            "Epoch 00138: val_loss did not improve from 2.61367\n",
            "Epoch 139/300\n",
            "\n",
            "Epoch 00139: LearningRateScheduler setting learning rate to tf.Tensor(0.00056266657, shape=(), dtype=float32).\n",
            "848/848 [==============================] - 35s 41ms/step - loss: 2.7817 - RMSE: 1.6678 - val_loss: 2.7910 - val_RMSE: 1.6706\n",
            "\n",
            "Epoch 00139: val_loss did not improve from 2.61367\n",
            "Epoch 140/300\n",
            "\n",
            "Epoch 00140: LearningRateScheduler setting learning rate to tf.Tensor(0.00055746856, shape=(), dtype=float32).\n",
            "848/848 [==============================] - 35s 41ms/step - loss: 2.7495 - RMSE: 1.6582 - val_loss: 2.5572 - val_RMSE: 1.5991\n",
            "\n",
            "Epoch 00140: val_loss improved from 2.61367 to 2.55720, saving model to ./drive/My Drive/train_ckpt/weather\n",
            "Epoch 141/300\n",
            "\n",
            "Epoch 00141: LearningRateScheduler setting learning rate to tf.Tensor(0.0005522642, shape=(), dtype=float32).\n",
            "848/848 [==============================] - 35s 41ms/step - loss: 2.7611 - RMSE: 1.6617 - val_loss: 2.7908 - val_RMSE: 1.6706\n",
            "\n",
            "Epoch 00141: val_loss did not improve from 2.55720\n",
            "Epoch 142/300\n",
            "\n",
            "Epoch 00142: LearningRateScheduler setting learning rate to tf.Tensor(0.0005470542, shape=(), dtype=float32).\n",
            "848/848 [==============================] - 35s 41ms/step - loss: 2.7457 - RMSE: 1.6570 - val_loss: 2.5912 - val_RMSE: 1.6097\n",
            "\n",
            "Epoch 00142: val_loss did not improve from 2.55720\n",
            "Epoch 143/300\n",
            "\n",
            "Epoch 00143: LearningRateScheduler setting learning rate to tf.Tensor(0.000541839, shape=(), dtype=float32).\n",
            "848/848 [==============================] - 35s 41ms/step - loss: 2.7220 - RMSE: 1.6498 - val_loss: 2.6718 - val_RMSE: 1.6346\n",
            "\n",
            "Epoch 00143: val_loss did not improve from 2.55720\n",
            "Epoch 144/300\n",
            "\n",
            "Epoch 00144: LearningRateScheduler setting learning rate to tf.Tensor(0.0005366191, shape=(), dtype=float32).\n",
            "848/848 [==============================] - 35s 41ms/step - loss: 2.7242 - RMSE: 1.6505 - val_loss: 2.7445 - val_RMSE: 1.6566\n",
            "\n",
            "Epoch 00144: val_loss did not improve from 2.55720\n",
            "Epoch 145/300\n",
            "\n",
            "Epoch 00145: LearningRateScheduler setting learning rate to tf.Tensor(0.00053139526, shape=(), dtype=float32).\n",
            "848/848 [==============================] - 35s 42ms/step - loss: 2.7369 - RMSE: 1.6543 - val_loss: 2.6374 - val_RMSE: 1.6240\n",
            "\n",
            "Epoch 00145: val_loss did not improve from 2.55720\n",
            "Epoch 146/300\n",
            "\n",
            "Epoch 00146: LearningRateScheduler setting learning rate to tf.Tensor(0.00052616803, shape=(), dtype=float32).\n",
            "848/848 [==============================] - 35s 41ms/step - loss: 2.7081 - RMSE: 1.6456 - val_loss: 2.5506 - val_RMSE: 1.5971\n",
            "\n",
            "Epoch 00146: val_loss improved from 2.55720 to 2.55057, saving model to ./drive/My Drive/train_ckpt/weather\n",
            "Epoch 147/300\n",
            "\n",
            "Epoch 00147: LearningRateScheduler setting learning rate to tf.Tensor(0.00052093784, shape=(), dtype=float32).\n",
            "848/848 [==============================] - 35s 41ms/step - loss: 2.6956 - RMSE: 1.6418 - val_loss: 3.0208 - val_RMSE: 1.7380\n",
            "\n",
            "Epoch 00147: val_loss did not improve from 2.55057\n",
            "Epoch 148/300\n",
            "\n",
            "Epoch 00148: LearningRateScheduler setting learning rate to tf.Tensor(0.0005157054, shape=(), dtype=float32).\n",
            "848/848 [==============================] - 35s 42ms/step - loss: 2.7107 - RMSE: 1.6464 - val_loss: 2.6556 - val_RMSE: 1.6296\n",
            "\n",
            "Epoch 00148: val_loss did not improve from 2.55057\n",
            "Epoch 149/300\n",
            "\n",
            "Epoch 00149: LearningRateScheduler setting learning rate to tf.Tensor(0.0005104712, shape=(), dtype=float32).\n",
            "848/848 [==============================] - 35s 42ms/step - loss: 2.7083 - RMSE: 1.6457 - val_loss: 2.5342 - val_RMSE: 1.5919\n",
            "\n",
            "Epoch 00149: val_loss improved from 2.55057 to 2.53416, saving model to ./drive/My Drive/train_ckpt/weather\n",
            "Epoch 150/300\n",
            "\n",
            "Epoch 00150: LearningRateScheduler setting learning rate to tf.Tensor(0.00050523586, shape=(), dtype=float32).\n",
            "848/848 [==============================] - 35s 42ms/step - loss: 2.7103 - RMSE: 1.6463 - val_loss: 2.5723 - val_RMSE: 1.6038\n",
            "\n",
            "Epoch 00150: val_loss did not improve from 2.53416\n",
            "Epoch 151/300\n",
            "\n",
            "Epoch 00151: LearningRateScheduler setting learning rate to tf.Tensor(0.00049999997, shape=(), dtype=float32).\n",
            "848/848 [==============================] - 35s 41ms/step - loss: 2.7085 - RMSE: 1.6458 - val_loss: 2.6431 - val_RMSE: 1.6257\n",
            "\n",
            "Epoch 00151: val_loss did not improve from 2.53416\n",
            "Epoch 152/300\n",
            "\n",
            "Epoch 00152: LearningRateScheduler setting learning rate to tf.Tensor(0.0004947641, shape=(), dtype=float32).\n",
            "848/848 [==============================] - 35s 41ms/step - loss: 2.6789 - RMSE: 1.6367 - val_loss: 2.6448 - val_RMSE: 1.6263\n",
            "\n",
            "Epoch 00152: val_loss did not improve from 2.53416\n",
            "Epoch 153/300\n",
            "\n",
            "Epoch 00153: LearningRateScheduler setting learning rate to tf.Tensor(0.0004895288, shape=(), dtype=float32).\n",
            "848/848 [==============================] - 35s 42ms/step - loss: 2.6903 - RMSE: 1.6402 - val_loss: 2.5279 - val_RMSE: 1.5899\n",
            "\n",
            "Epoch 00153: val_loss improved from 2.53416 to 2.52787, saving model to ./drive/My Drive/train_ckpt/weather\n",
            "Epoch 154/300\n",
            "\n",
            "Epoch 00154: LearningRateScheduler setting learning rate to tf.Tensor(0.0004842946, shape=(), dtype=float32).\n",
            "848/848 [==============================] - 35s 41ms/step - loss: 2.6698 - RMSE: 1.6340 - val_loss: 2.6478 - val_RMSE: 1.6272\n",
            "\n",
            "Epoch 00154: val_loss did not improve from 2.52787\n",
            "Epoch 155/300\n",
            "\n",
            "Epoch 00155: LearningRateScheduler setting learning rate to tf.Tensor(0.0004790622, shape=(), dtype=float32).\n",
            "848/848 [==============================] - 35s 42ms/step - loss: 2.6612 - RMSE: 1.6313 - val_loss: 2.5541 - val_RMSE: 1.5982\n",
            "\n",
            "Epoch 00155: val_loss did not improve from 2.52787\n",
            "Epoch 156/300\n",
            "\n",
            "Epoch 00156: LearningRateScheduler setting learning rate to tf.Tensor(0.00047383207, shape=(), dtype=float32).\n",
            "848/848 [==============================] - 35s 42ms/step - loss: 2.6554 - RMSE: 1.6295 - val_loss: 2.6097 - val_RMSE: 1.6155\n",
            "\n",
            "Epoch 00156: val_loss did not improve from 2.52787\n",
            "Epoch 157/300\n",
            "\n",
            "Epoch 00157: LearningRateScheduler setting learning rate to tf.Tensor(0.0004686048, shape=(), dtype=float32).\n",
            "848/848 [==============================] - 36s 42ms/step - loss: 2.6588 - RMSE: 1.6306 - val_loss: 3.1627 - val_RMSE: 1.7784\n",
            "\n",
            "Epoch 00157: val_loss did not improve from 2.52787\n",
            "Epoch 158/300\n",
            "\n",
            "Epoch 00158: LearningRateScheduler setting learning rate to tf.Tensor(0.0004633809, shape=(), dtype=float32).\n",
            "848/848 [==============================] - 35s 42ms/step - loss: 2.6330 - RMSE: 1.6227 - val_loss: 2.6098 - val_RMSE: 1.6155\n",
            "\n",
            "Epoch 00158: val_loss did not improve from 2.52787\n",
            "Epoch 159/300\n",
            "\n",
            "Epoch 00159: LearningRateScheduler setting learning rate to tf.Tensor(0.0004581611, shape=(), dtype=float32).\n",
            "848/848 [==============================] - 35s 41ms/step - loss: 2.6391 - RMSE: 1.6245 - val_loss: 2.6318 - val_RMSE: 1.6223\n",
            "\n",
            "Epoch 00159: val_loss did not improve from 2.52787\n",
            "Epoch 160/300\n",
            "\n",
            "Epoch 00160: LearningRateScheduler setting learning rate to tf.Tensor(0.00045294588, shape=(), dtype=float32).\n",
            "848/848 [==============================] - 36s 42ms/step - loss: 2.6534 - RMSE: 1.6289 - val_loss: 2.5835 - val_RMSE: 1.6073\n",
            "\n",
            "Epoch 00160: val_loss did not improve from 2.52787\n",
            "Epoch 161/300\n",
            "\n",
            "Epoch 00161: LearningRateScheduler setting learning rate to tf.Tensor(0.0004477357, shape=(), dtype=float32).\n",
            "848/848 [==============================] - 35s 42ms/step - loss: 2.6348 - RMSE: 1.6232 - val_loss: 2.5469 - val_RMSE: 1.5959\n",
            "\n",
            "Epoch 00161: val_loss did not improve from 2.52787\n",
            "Epoch 162/300\n",
            "\n",
            "Epoch 00162: LearningRateScheduler setting learning rate to tf.Tensor(0.00044253137, shape=(), dtype=float32).\n",
            "848/848 [==============================] - 35s 41ms/step - loss: 2.6420 - RMSE: 1.6254 - val_loss: 2.5296 - val_RMSE: 1.5905\n",
            "\n",
            "Epoch 00162: val_loss did not improve from 2.52787\n",
            "Epoch 163/300\n",
            "\n",
            "Epoch 00163: LearningRateScheduler setting learning rate to tf.Tensor(0.00043733336, shape=(), dtype=float32).\n",
            "848/848 [==============================] - 35s 42ms/step - loss: 2.6115 - RMSE: 1.6160 - val_loss: 2.5275 - val_RMSE: 1.5898\n",
            "\n",
            "Epoch 00163: val_loss improved from 2.52787 to 2.52755, saving model to ./drive/My Drive/train_ckpt/weather\n",
            "Epoch 164/300\n",
            "\n",
            "Epoch 00164: LearningRateScheduler setting learning rate to tf.Tensor(0.00043214223, shape=(), dtype=float32).\n",
            "848/848 [==============================] - 35s 42ms/step - loss: 2.6180 - RMSE: 1.6180 - val_loss: 3.8654 - val_RMSE: 1.9661\n",
            "\n",
            "Epoch 00164: val_loss did not improve from 2.52755\n",
            "Epoch 165/300\n",
            "\n",
            "Epoch 00165: LearningRateScheduler setting learning rate to tf.Tensor(0.00042695843, shape=(), dtype=float32).\n",
            "848/848 [==============================] - 35s 42ms/step - loss: 2.6234 - RMSE: 1.6197 - val_loss: 2.5024 - val_RMSE: 1.5819\n",
            "\n",
            "Epoch 00165: val_loss improved from 2.52755 to 2.50241, saving model to ./drive/My Drive/train_ckpt/weather\n",
            "Epoch 166/300\n",
            "\n",
            "Epoch 00166: LearningRateScheduler setting learning rate to tf.Tensor(0.00042178275, shape=(), dtype=float32).\n",
            "848/848 [==============================] - 36s 42ms/step - loss: 2.5964 - RMSE: 1.6113 - val_loss: 2.4590 - val_RMSE: 1.5681\n",
            "\n",
            "Epoch 00166: val_loss improved from 2.50241 to 2.45899, saving model to ./drive/My Drive/train_ckpt/weather\n",
            "Epoch 167/300\n",
            "\n",
            "Epoch 00167: LearningRateScheduler setting learning rate to tf.Tensor(0.00041661563, shape=(), dtype=float32).\n",
            "848/848 [==============================] - 36s 42ms/step - loss: 2.6032 - RMSE: 1.6134 - val_loss: 3.3000 - val_RMSE: 1.8166\n",
            "\n",
            "Epoch 00167: val_loss did not improve from 2.45899\n",
            "Epoch 168/300\n",
            "\n",
            "Epoch 00168: LearningRateScheduler setting learning rate to tf.Tensor(0.00041145761, shape=(), dtype=float32).\n",
            "848/848 [==============================] - 35s 42ms/step - loss: 2.6284 - RMSE: 1.6212 - val_loss: 2.5776 - val_RMSE: 1.6055\n",
            "\n",
            "Epoch 00168: val_loss did not improve from 2.45899\n",
            "Epoch 169/300\n",
            "\n",
            "Epoch 00169: LearningRateScheduler setting learning rate to tf.Tensor(0.00040630935, shape=(), dtype=float32).\n",
            "848/848 [==============================] - 35s 42ms/step - loss: 2.5930 - RMSE: 1.6103 - val_loss: 2.7436 - val_RMSE: 1.6564\n",
            "\n",
            "Epoch 00169: val_loss did not improve from 2.45899\n",
            "Epoch 170/300\n",
            "\n",
            "Epoch 00170: LearningRateScheduler setting learning rate to tf.Tensor(0.0004011713, shape=(), dtype=float32).\n",
            "848/848 [==============================] - 35s 41ms/step - loss: 2.5809 - RMSE: 1.6065 - val_loss: 2.6203 - val_RMSE: 1.6187\n",
            "\n",
            "Epoch 00170: val_loss did not improve from 2.45899\n",
            "Epoch 171/300\n",
            "\n",
            "Epoch 00171: LearningRateScheduler setting learning rate to tf.Tensor(0.00039604417, shape=(), dtype=float32).\n",
            "848/848 [==============================] - 35s 41ms/step - loss: 2.5733 - RMSE: 1.6042 - val_loss: 2.5049 - val_RMSE: 1.5827\n",
            "\n",
            "Epoch 00171: val_loss did not improve from 2.45899\n",
            "Epoch 172/300\n",
            "\n",
            "Epoch 00172: LearningRateScheduler setting learning rate to tf.Tensor(0.0003909284, shape=(), dtype=float32).\n",
            "848/848 [==============================] - 36s 42ms/step - loss: 2.5841 - RMSE: 1.6075 - val_loss: 2.5193 - val_RMSE: 1.5872\n",
            "\n",
            "Epoch 00172: val_loss did not improve from 2.45899\n",
            "Epoch 173/300\n",
            "\n",
            "Epoch 00173: LearningRateScheduler setting learning rate to tf.Tensor(0.0003858246, shape=(), dtype=float32).\n",
            "848/848 [==============================] - 35s 42ms/step - loss: 2.5873 - RMSE: 1.6085 - val_loss: 2.4719 - val_RMSE: 1.5722\n",
            "\n",
            "Epoch 00173: val_loss did not improve from 2.45899\n",
            "Epoch 174/300\n",
            "\n",
            "Epoch 00174: LearningRateScheduler setting learning rate to tf.Tensor(0.00038073328, shape=(), dtype=float32).\n",
            "848/848 [==============================] - 35s 41ms/step - loss: 2.5511 - RMSE: 1.5972 - val_loss: 2.6165 - val_RMSE: 1.6176\n",
            "\n",
            "Epoch 00174: val_loss did not improve from 2.45899\n",
            "Epoch 175/300\n",
            "\n",
            "Epoch 00175: LearningRateScheduler setting learning rate to tf.Tensor(0.00037565507, shape=(), dtype=float32).\n",
            "848/848 [==============================] - 35s 41ms/step - loss: 2.5655 - RMSE: 1.6017 - val_loss: 2.4540 - val_RMSE: 1.5665\n",
            "\n",
            "Epoch 00175: val_loss improved from 2.45899 to 2.45395, saving model to ./drive/My Drive/train_ckpt/weather\n",
            "Epoch 176/300\n",
            "\n",
            "Epoch 00176: LearningRateScheduler setting learning rate to tf.Tensor(0.00037059054, shape=(), dtype=float32).\n",
            "848/848 [==============================] - 35s 42ms/step - loss: 2.5535 - RMSE: 1.5980 - val_loss: 2.4856 - val_RMSE: 1.5766\n",
            "\n",
            "Epoch 00176: val_loss did not improve from 2.45395\n",
            "Epoch 177/300\n",
            "\n",
            "Epoch 00177: LearningRateScheduler setting learning rate to tf.Tensor(0.00036554012, shape=(), dtype=float32).\n",
            "848/848 [==============================] - 35s 42ms/step - loss: 2.5643 - RMSE: 1.6013 - val_loss: 2.5415 - val_RMSE: 1.5942\n",
            "\n",
            "Epoch 00177: val_loss did not improve from 2.45395\n",
            "Epoch 178/300\n",
            "\n",
            "Epoch 00178: LearningRateScheduler setting learning rate to tf.Tensor(0.00036050452, shape=(), dtype=float32).\n",
            "848/848 [==============================] - 35s 42ms/step - loss: 2.5651 - RMSE: 1.6016 - val_loss: 2.5353 - val_RMSE: 1.5923\n",
            "\n",
            "Epoch 00178: val_loss did not improve from 2.45395\n",
            "Epoch 179/300\n",
            "\n",
            "Epoch 00179: LearningRateScheduler setting learning rate to tf.Tensor(0.00035548414, shape=(), dtype=float32).\n",
            "848/848 [==============================] - 35s 41ms/step - loss: 2.5551 - RMSE: 1.5985 - val_loss: 2.4972 - val_RMSE: 1.5803\n",
            "\n",
            "Epoch 00179: val_loss did not improve from 2.45395\n",
            "Epoch 180/300\n",
            "\n",
            "Epoch 00180: LearningRateScheduler setting learning rate to tf.Tensor(0.0003504796, shape=(), dtype=float32).\n",
            "848/848 [==============================] - 35s 42ms/step - loss: 2.5506 - RMSE: 1.5971 - val_loss: 2.5315 - val_RMSE: 1.5911\n",
            "\n",
            "Epoch 00180: val_loss did not improve from 2.45395\n",
            "Epoch 181/300\n",
            "\n",
            "Epoch 00181: LearningRateScheduler setting learning rate to tf.Tensor(0.00034549143, shape=(), dtype=float32).\n",
            "848/848 [==============================] - 35s 42ms/step - loss: 2.5415 - RMSE: 1.5942 - val_loss: 2.4750 - val_RMSE: 1.5732\n",
            "\n",
            "Epoch 00181: val_loss did not improve from 2.45395\n",
            "Epoch 182/300\n",
            "\n",
            "Epoch 00182: LearningRateScheduler setting learning rate to tf.Tensor(0.00034052032, shape=(), dtype=float32).\n",
            "848/848 [==============================] - 35s 42ms/step - loss: 2.5341 - RMSE: 1.5919 - val_loss: 2.4662 - val_RMSE: 1.5704\n",
            "\n",
            "Epoch 00182: val_loss did not improve from 2.45395\n",
            "Epoch 183/300\n",
            "\n",
            "Epoch 00183: LearningRateScheduler setting learning rate to tf.Tensor(0.00033556664, shape=(), dtype=float32).\n",
            "848/848 [==============================] - 36s 42ms/step - loss: 2.5431 - RMSE: 1.5947 - val_loss: 2.4236 - val_RMSE: 1.5568\n",
            "\n",
            "Epoch 00183: val_loss improved from 2.45395 to 2.42361, saving model to ./drive/My Drive/train_ckpt/weather\n",
            "Epoch 184/300\n",
            "\n",
            "Epoch 00184: LearningRateScheduler setting learning rate to tf.Tensor(0.00033063104, shape=(), dtype=float32).\n",
            "848/848 [==============================] - 36s 43ms/step - loss: 2.5201 - RMSE: 1.5875 - val_loss: 2.4930 - val_RMSE: 1.5789\n",
            "\n",
            "Epoch 00184: val_loss did not improve from 2.42361\n",
            "Epoch 185/300\n",
            "\n",
            "Epoch 00185: LearningRateScheduler setting learning rate to tf.Tensor(0.00032571398, shape=(), dtype=float32).\n",
            "848/848 [==============================] - 36s 42ms/step - loss: 2.5150 - RMSE: 1.5859 - val_loss: 2.4729 - val_RMSE: 1.5725\n",
            "\n",
            "Epoch 00185: val_loss did not improve from 2.42361\n",
            "Epoch 186/300\n",
            "\n",
            "Epoch 00186: LearningRateScheduler setting learning rate to tf.Tensor(0.000320816, shape=(), dtype=float32).\n",
            "848/848 [==============================] - 35s 42ms/step - loss: 2.5234 - RMSE: 1.5885 - val_loss: 2.4419 - val_RMSE: 1.5627\n",
            "\n",
            "Epoch 00186: val_loss did not improve from 2.42361\n",
            "Epoch 187/300\n",
            "\n",
            "Epoch 00187: LearningRateScheduler setting learning rate to tf.Tensor(0.0003159377, shape=(), dtype=float32).\n",
            "848/848 [==============================] - 35s 41ms/step - loss: 2.5168 - RMSE: 1.5865 - val_loss: 2.4843 - val_RMSE: 1.5762\n",
            "\n",
            "Epoch 00187: val_loss did not improve from 2.42361\n",
            "Epoch 188/300\n",
            "\n",
            "Epoch 00188: LearningRateScheduler setting learning rate to tf.Tensor(0.0003110796, shape=(), dtype=float32).\n",
            "848/848 [==============================] - 36s 42ms/step - loss: 2.5170 - RMSE: 1.5865 - val_loss: 2.4302 - val_RMSE: 1.5589\n",
            "\n",
            "Epoch 00188: val_loss did not improve from 2.42361\n",
            "Epoch 189/300\n",
            "\n",
            "Epoch 00189: LearningRateScheduler setting learning rate to tf.Tensor(0.00030624223, shape=(), dtype=float32).\n",
            "848/848 [==============================] - 35s 42ms/step - loss: 2.4914 - RMSE: 1.5784 - val_loss: 2.4479 - val_RMSE: 1.5646\n",
            "\n",
            "Epoch 00189: val_loss did not improve from 2.42361\n",
            "Epoch 190/300\n",
            "\n",
            "Epoch 00190: LearningRateScheduler setting learning rate to tf.Tensor(0.00030142604, shape=(), dtype=float32).\n",
            "848/848 [==============================] - 35s 41ms/step - loss: 2.5041 - RMSE: 1.5824 - val_loss: 2.4523 - val_RMSE: 1.5660\n",
            "\n",
            "Epoch 00190: val_loss did not improve from 2.42361\n",
            "Epoch 191/300\n",
            "\n",
            "Epoch 00191: LearningRateScheduler setting learning rate to tf.Tensor(0.00029663168, shape=(), dtype=float32).\n",
            "848/848 [==============================] - 36s 42ms/step - loss: 2.4941 - RMSE: 1.5793 - val_loss: 2.4493 - val_RMSE: 1.5650\n",
            "\n",
            "Epoch 00191: val_loss did not improve from 2.42361\n",
            "Epoch 192/300\n",
            "\n",
            "Epoch 00192: LearningRateScheduler setting learning rate to tf.Tensor(0.00029185961, shape=(), dtype=float32).\n",
            "848/848 [==============================] - 36s 42ms/step - loss: 2.5008 - RMSE: 1.5814 - val_loss: 2.4153 - val_RMSE: 1.5541\n",
            "\n",
            "Epoch 00192: val_loss improved from 2.42361 to 2.41533, saving model to ./drive/My Drive/train_ckpt/weather\n",
            "Epoch 193/300\n",
            "\n",
            "Epoch 00193: LearningRateScheduler setting learning rate to tf.Tensor(0.00028711034, shape=(), dtype=float32).\n",
            "848/848 [==============================] - 35s 42ms/step - loss: 2.4838 - RMSE: 1.5760 - val_loss: 2.4347 - val_RMSE: 1.5604\n",
            "\n",
            "Epoch 00193: val_loss did not improve from 2.41533\n",
            "Epoch 194/300\n",
            "\n",
            "Epoch 00194: LearningRateScheduler setting learning rate to tf.Tensor(0.00028238448, shape=(), dtype=float32).\n",
            "848/848 [==============================] - 35s 42ms/step - loss: 2.4966 - RMSE: 1.5801 - val_loss: 2.6709 - val_RMSE: 1.6343\n",
            "\n",
            "Epoch 00194: val_loss did not improve from 2.41533\n",
            "Epoch 195/300\n",
            "\n",
            "Epoch 00195: LearningRateScheduler setting learning rate to tf.Tensor(0.00027768244, shape=(), dtype=float32).\n",
            "848/848 [==============================] - 35s 42ms/step - loss: 2.4753 - RMSE: 1.5733 - val_loss: 2.4119 - val_RMSE: 1.5530\n",
            "\n",
            "Epoch 00195: val_loss improved from 2.41533 to 2.41194, saving model to ./drive/My Drive/train_ckpt/weather\n",
            "Epoch 196/300\n",
            "\n",
            "Epoch 00196: LearningRateScheduler setting learning rate to tf.Tensor(0.00027300484, shape=(), dtype=float32).\n",
            "848/848 [==============================] - 35s 42ms/step - loss: 2.4687 - RMSE: 1.5712 - val_loss: 2.4641 - val_RMSE: 1.5698\n",
            "\n",
            "Epoch 00196: val_loss did not improve from 2.41194\n",
            "Epoch 197/300\n",
            "\n",
            "Epoch 00197: LearningRateScheduler setting learning rate to tf.Tensor(0.000268352, shape=(), dtype=float32).\n",
            "848/848 [==============================] - 35s 41ms/step - loss: 2.4729 - RMSE: 1.5726 - val_loss: 2.4906 - val_RMSE: 1.5782\n",
            "\n",
            "Epoch 00197: val_loss did not improve from 2.41194\n",
            "Epoch 198/300\n",
            "\n",
            "Epoch 00198: LearningRateScheduler setting learning rate to tf.Tensor(0.00026372465, shape=(), dtype=float32).\n",
            "848/848 [==============================] - 35s 41ms/step - loss: 2.4651 - RMSE: 1.5701 - val_loss: 2.4136 - val_RMSE: 1.5536\n",
            "\n",
            "Epoch 00198: val_loss did not improve from 2.41194\n",
            "Epoch 199/300\n",
            "\n",
            "Epoch 00199: LearningRateScheduler setting learning rate to tf.Tensor(0.0002591231, shape=(), dtype=float32).\n",
            "848/848 [==============================] - 35s 42ms/step - loss: 2.4705 - RMSE: 1.5718 - val_loss: 2.4164 - val_RMSE: 1.5545\n",
            "\n",
            "Epoch 00199: val_loss did not improve from 2.41194\n",
            "Epoch 200/300\n",
            "\n",
            "Epoch 00200: LearningRateScheduler setting learning rate to tf.Tensor(0.00025454804, shape=(), dtype=float32).\n",
            "848/848 [==============================] - 36s 42ms/step - loss: 2.4571 - RMSE: 1.5675 - val_loss: 2.4846 - val_RMSE: 1.5763\n",
            "\n",
            "Epoch 00200: val_loss did not improve from 2.41194\n",
            "Epoch 201/300\n",
            "\n",
            "Epoch 00201: LearningRateScheduler setting learning rate to tf.Tensor(0.00024999998, shape=(), dtype=float32).\n",
            "848/848 [==============================] - 36s 42ms/step - loss: 2.4522 - RMSE: 1.5659 - val_loss: 2.3832 - val_RMSE: 1.5437\n",
            "\n",
            "Epoch 00201: val_loss improved from 2.41194 to 2.38316, saving model to ./drive/My Drive/train_ckpt/weather\n",
            "Epoch 202/300\n",
            "\n",
            "Epoch 00202: LearningRateScheduler setting learning rate to tf.Tensor(0.00024547923, shape=(), dtype=float32).\n",
            "848/848 [==============================] - 36s 42ms/step - loss: 2.4531 - RMSE: 1.5662 - val_loss: 2.4770 - val_RMSE: 1.5738\n",
            "\n",
            "Epoch 00202: val_loss did not improve from 2.38316\n",
            "Epoch 203/300\n",
            "\n",
            "Epoch 00203: LearningRateScheduler setting learning rate to tf.Tensor(0.00024098651, shape=(), dtype=float32).\n",
            "848/848 [==============================] - 35s 42ms/step - loss: 2.4441 - RMSE: 1.5634 - val_loss: 2.4278 - val_RMSE: 1.5581\n",
            "\n",
            "Epoch 00203: val_loss did not improve from 2.38316\n",
            "Epoch 204/300\n",
            "\n",
            "Epoch 00204: LearningRateScheduler setting learning rate to tf.Tensor(0.00023652209, shape=(), dtype=float32).\n",
            "848/848 [==============================] - 36s 42ms/step - loss: 2.4398 - RMSE: 1.5620 - val_loss: 2.3941 - val_RMSE: 1.5473\n",
            "\n",
            "Epoch 00204: val_loss did not improve from 2.38316\n",
            "Epoch 205/300\n",
            "\n",
            "Epoch 00205: LearningRateScheduler setting learning rate to tf.Tensor(0.00023208655, shape=(), dtype=float32).\n",
            "848/848 [==============================] - 36s 43ms/step - loss: 2.4389 - RMSE: 1.5617 - val_loss: 2.3988 - val_RMSE: 1.5488\n",
            "\n",
            "Epoch 00205: val_loss did not improve from 2.38316\n",
            "Epoch 206/300\n",
            "\n",
            "Epoch 00206: LearningRateScheduler setting learning rate to tf.Tensor(0.00022768049, shape=(), dtype=float32).\n",
            "848/848 [==============================] - 35s 42ms/step - loss: 2.4477 - RMSE: 1.5645 - val_loss: 2.4342 - val_RMSE: 1.5602\n",
            "\n",
            "Epoch 00206: val_loss did not improve from 2.38316\n",
            "Epoch 207/300\n",
            "\n",
            "Epoch 00207: LearningRateScheduler setting learning rate to tf.Tensor(0.00022330419, shape=(), dtype=float32).\n",
            "848/848 [==============================] - 36s 42ms/step - loss: 2.4305 - RMSE: 1.5590 - val_loss: 2.4058 - val_RMSE: 1.5511\n",
            "\n",
            "Epoch 00207: val_loss did not improve from 2.38316\n",
            "Epoch 208/300\n",
            "\n",
            "Epoch 00208: LearningRateScheduler setting learning rate to tf.Tensor(0.00021895824, shape=(), dtype=float32).\n",
            "848/848 [==============================] - 35s 42ms/step - loss: 2.4236 - RMSE: 1.5568 - val_loss: 2.3808 - val_RMSE: 1.5430\n",
            "\n",
            "Epoch 00208: val_loss improved from 2.38316 to 2.38083, saving model to ./drive/My Drive/train_ckpt/weather\n",
            "Epoch 209/300\n",
            "\n",
            "Epoch 00209: LearningRateScheduler setting learning rate to tf.Tensor(0.00021464322, shape=(), dtype=float32).\n",
            "848/848 [==============================] - 35s 42ms/step - loss: 2.4345 - RMSE: 1.5603 - val_loss: 2.3750 - val_RMSE: 1.5411\n",
            "\n",
            "Epoch 00209: val_loss improved from 2.38083 to 2.37497, saving model to ./drive/My Drive/train_ckpt/weather\n",
            "Epoch 210/300\n",
            "\n",
            "Epoch 00210: LearningRateScheduler setting learning rate to tf.Tensor(0.00021035937, shape=(), dtype=float32).\n",
            "848/848 [==============================] - 35s 42ms/step - loss: 2.4299 - RMSE: 1.5588 - val_loss: 2.3556 - val_RMSE: 1.5348\n",
            "\n",
            "Epoch 00210: val_loss improved from 2.37497 to 2.35565, saving model to ./drive/My Drive/train_ckpt/weather\n",
            "Epoch 211/300\n",
            "\n",
            "Epoch 00211: LearningRateScheduler setting learning rate to tf.Tensor(0.00020610739, shape=(), dtype=float32).\n",
            "848/848 [==============================] - 36s 42ms/step - loss: 2.4052 - RMSE: 1.5509 - val_loss: 2.4110 - val_RMSE: 1.5527\n",
            "\n",
            "Epoch 00211: val_loss did not improve from 2.35565\n",
            "Epoch 212/300\n",
            "\n",
            "Epoch 00212: LearningRateScheduler setting learning rate to tf.Tensor(0.00020188755, shape=(), dtype=float32).\n",
            "848/848 [==============================] - 35s 42ms/step - loss: 2.4220 - RMSE: 1.5563 - val_loss: 2.3894 - val_RMSE: 1.5458\n",
            "\n",
            "Epoch 00212: val_loss did not improve from 2.35565\n",
            "Epoch 213/300\n",
            "\n",
            "Epoch 00213: LearningRateScheduler setting learning rate to tf.Tensor(0.00019770038, shape=(), dtype=float32).\n",
            "848/848 [==============================] - 36s 42ms/step - loss: 2.4195 - RMSE: 1.5555 - val_loss: 2.3896 - val_RMSE: 1.5458\n",
            "\n",
            "Epoch 00213: val_loss did not improve from 2.35565\n",
            "Epoch 214/300\n",
            "\n",
            "Epoch 00214: LearningRateScheduler setting learning rate to tf.Tensor(0.00019354648, shape=(), dtype=float32).\n",
            "848/848 [==============================] - 36s 42ms/step - loss: 2.4113 - RMSE: 1.5528 - val_loss: 2.3935 - val_RMSE: 1.5471\n",
            "\n",
            "Epoch 00214: val_loss did not improve from 2.35565\n",
            "Epoch 215/300\n",
            "\n",
            "Epoch 00215: LearningRateScheduler setting learning rate to tf.Tensor(0.00018942611, shape=(), dtype=float32).\n",
            "848/848 [==============================] - 36s 42ms/step - loss: 2.3964 - RMSE: 1.5480 - val_loss: 2.3900 - val_RMSE: 1.5459\n",
            "\n",
            "Epoch 00215: val_loss did not improve from 2.35565\n",
            "Epoch 216/300\n",
            "\n",
            "Epoch 00216: LearningRateScheduler setting learning rate to tf.Tensor(0.00018533984, shape=(), dtype=float32).\n",
            "848/848 [==============================] - 36s 42ms/step - loss: 2.3968 - RMSE: 1.5482 - val_loss: 2.3767 - val_RMSE: 1.5417\n",
            "\n",
            "Epoch 00216: val_loss did not improve from 2.35565\n",
            "Epoch 217/300\n",
            "\n",
            "Epoch 00217: LearningRateScheduler setting learning rate to tf.Tensor(0.00018128792, shape=(), dtype=float32).\n",
            "848/848 [==============================] - 35s 42ms/step - loss: 2.4016 - RMSE: 1.5497 - val_loss: 2.4406 - val_RMSE: 1.5622\n",
            "\n",
            "Epoch 00217: val_loss did not improve from 2.35565\n",
            "Epoch 218/300\n",
            "\n",
            "Epoch 00218: LearningRateScheduler setting learning rate to tf.Tensor(0.00017727114, shape=(), dtype=float32).\n",
            "848/848 [==============================] - 35s 42ms/step - loss: 2.3975 - RMSE: 1.5484 - val_loss: 2.4561 - val_RMSE: 1.5672\n",
            "\n",
            "Epoch 00218: val_loss did not improve from 2.35565\n",
            "Epoch 219/300\n",
            "\n",
            "Epoch 00219: LearningRateScheduler setting learning rate to tf.Tensor(0.00017328963, shape=(), dtype=float32).\n",
            "848/848 [==============================] - 35s 42ms/step - loss: 2.3896 - RMSE: 1.5458 - val_loss: 2.3734 - val_RMSE: 1.5406\n",
            "\n",
            "Epoch 00219: val_loss did not improve from 2.35565\n",
            "Epoch 220/300\n",
            "\n",
            "Epoch 00220: LearningRateScheduler setting learning rate to tf.Tensor(0.00016934398, shape=(), dtype=float32).\n",
            "848/848 [==============================] - 36s 42ms/step - loss: 2.3812 - RMSE: 1.5431 - val_loss: 2.4308 - val_RMSE: 1.5591\n",
            "\n",
            "Epoch 00220: val_loss did not improve from 2.35565\n",
            "Epoch 221/300\n",
            "\n",
            "Epoch 00221: LearningRateScheduler setting learning rate to tf.Tensor(0.00016543467, shape=(), dtype=float32).\n",
            "848/848 [==============================] - 36s 42ms/step - loss: 2.3795 - RMSE: 1.5426 - val_loss: 2.4121 - val_RMSE: 1.5531\n",
            "\n",
            "Epoch 00221: val_loss did not improve from 2.35565\n",
            "Epoch 222/300\n",
            "\n",
            "Epoch 00222: LearningRateScheduler setting learning rate to tf.Tensor(0.00016156194, shape=(), dtype=float32).\n",
            "848/848 [==============================] - 36s 42ms/step - loss: 2.3769 - RMSE: 1.5417 - val_loss: 2.3736 - val_RMSE: 1.5406\n",
            "\n",
            "Epoch 00222: val_loss did not improve from 2.35565\n",
            "Epoch 223/300\n",
            "\n",
            "Epoch 00223: LearningRateScheduler setting learning rate to tf.Tensor(0.00015772645, shape=(), dtype=float32).\n",
            "848/848 [==============================] - 36s 42ms/step - loss: 2.3679 - RMSE: 1.5388 - val_loss: 2.3437 - val_RMSE: 1.5309\n",
            "\n",
            "Epoch 00223: val_loss improved from 2.35565 to 2.34372, saving model to ./drive/My Drive/train_ckpt/weather\n",
            "Epoch 224/300\n",
            "\n",
            "Epoch 00224: LearningRateScheduler setting learning rate to tf.Tensor(0.00015392837, shape=(), dtype=float32).\n",
            "848/848 [==============================] - 36s 43ms/step - loss: 2.3848 - RMSE: 1.5443 - val_loss: 2.3623 - val_RMSE: 1.5370\n",
            "\n",
            "Epoch 00224: val_loss did not improve from 2.34372\n",
            "Epoch 225/300\n",
            "\n",
            "Epoch 00225: LearningRateScheduler setting learning rate to tf.Tensor(0.00015016827, shape=(), dtype=float32).\n",
            "848/848 [==============================] - 36s 42ms/step - loss: 2.3768 - RMSE: 1.5417 - val_loss: 2.3698 - val_RMSE: 1.5394\n",
            "\n",
            "Epoch 00225: val_loss did not improve from 2.34372\n",
            "Epoch 226/300\n",
            "\n",
            "Epoch 00226: LearningRateScheduler setting learning rate to tf.Tensor(0.00014644662, shape=(), dtype=float32).\n",
            "848/848 [==============================] - 36s 42ms/step - loss: 2.3614 - RMSE: 1.5367 - val_loss: 2.4005 - val_RMSE: 1.5494\n",
            "\n",
            "Epoch 00226: val_loss did not improve from 2.34372\n",
            "Epoch 227/300\n",
            "\n",
            "Epoch 00227: LearningRateScheduler setting learning rate to tf.Tensor(0.00014276362, shape=(), dtype=float32).\n",
            "848/848 [==============================] - 36s 43ms/step - loss: 2.3771 - RMSE: 1.5418 - val_loss: 2.3332 - val_RMSE: 1.5275\n",
            "\n",
            "Epoch 00227: val_loss improved from 2.34372 to 2.33318, saving model to ./drive/My Drive/train_ckpt/weather\n",
            "Epoch 228/300\n",
            "\n",
            "Epoch 00228: LearningRateScheduler setting learning rate to tf.Tensor(0.00013911993, shape=(), dtype=float32).\n",
            "848/848 [==============================] - 37s 43ms/step - loss: 2.3669 - RMSE: 1.5385 - val_loss: 2.3943 - val_RMSE: 1.5473\n",
            "\n",
            "Epoch 00228: val_loss did not improve from 2.33318\n",
            "Epoch 229/300\n",
            "\n",
            "Epoch 00229: LearningRateScheduler setting learning rate to tf.Tensor(0.0001355157, shape=(), dtype=float32).\n",
            "848/848 [==============================] - 36s 42ms/step - loss: 2.3588 - RMSE: 1.5358 - val_loss: 2.3519 - val_RMSE: 1.5336\n",
            "\n",
            "Epoch 00229: val_loss did not improve from 2.33318\n",
            "Epoch 230/300\n",
            "\n",
            "Epoch 00230: LearningRateScheduler setting learning rate to tf.Tensor(0.00013195143, shape=(), dtype=float32).\n",
            "848/848 [==============================] - 36s 42ms/step - loss: 2.3608 - RMSE: 1.5365 - val_loss: 2.3415 - val_RMSE: 1.5302\n",
            "\n",
            "Epoch 00230: val_loss did not improve from 2.33318\n",
            "Epoch 231/300\n",
            "\n",
            "Epoch 00231: LearningRateScheduler setting learning rate to tf.Tensor(0.00012842761, shape=(), dtype=float32).\n",
            "848/848 [==============================] - 36s 42ms/step - loss: 2.3473 - RMSE: 1.5321 - val_loss: 2.3417 - val_RMSE: 1.5303\n",
            "\n",
            "Epoch 00231: val_loss did not improve from 2.33318\n",
            "Epoch 232/300\n",
            "\n",
            "Epoch 00232: LearningRateScheduler setting learning rate to tf.Tensor(0.00012494446, shape=(), dtype=float32).\n",
            "848/848 [==============================] - 36s 43ms/step - loss: 2.3492 - RMSE: 1.5327 - val_loss: 2.3549 - val_RMSE: 1.5346\n",
            "\n",
            "Epoch 00232: val_loss did not improve from 2.33318\n",
            "Epoch 233/300\n",
            "\n",
            "Epoch 00233: LearningRateScheduler setting learning rate to tf.Tensor(0.00012150244, shape=(), dtype=float32).\n",
            "848/848 [==============================] - 36s 42ms/step - loss: 2.3644 - RMSE: 1.5377 - val_loss: 2.3356 - val_RMSE: 1.5283\n",
            "\n",
            "Epoch 00233: val_loss did not improve from 2.33318\n",
            "Epoch 234/300\n",
            "\n",
            "Epoch 00234: LearningRateScheduler setting learning rate to tf.Tensor(0.00011810199, shape=(), dtype=float32).\n",
            "848/848 [==============================] - 36s 42ms/step - loss: 2.3432 - RMSE: 1.5308 - val_loss: 2.3396 - val_RMSE: 1.5296\n",
            "\n",
            "Epoch 00234: val_loss did not improve from 2.33318\n",
            "Epoch 235/300\n",
            "\n",
            "Epoch 00235: LearningRateScheduler setting learning rate to tf.Tensor(0.00011474336, shape=(), dtype=float32).\n",
            "848/848 [==============================] - 35s 42ms/step - loss: 2.3492 - RMSE: 1.5327 - val_loss: 2.3355 - val_RMSE: 1.5282\n",
            "\n",
            "Epoch 00235: val_loss did not improve from 2.33318\n",
            "Epoch 236/300\n",
            "\n",
            "Epoch 00236: LearningRateScheduler setting learning rate to tf.Tensor(0.00011142698, shape=(), dtype=float32).\n",
            "848/848 [==============================] - 36s 42ms/step - loss: 2.3411 - RMSE: 1.5301 - val_loss: 2.3428 - val_RMSE: 1.5306\n",
            "\n",
            "Epoch 00236: val_loss did not improve from 2.33318\n",
            "Epoch 237/300\n",
            "\n",
            "Epoch 00237: LearningRateScheduler setting learning rate to tf.Tensor(0.0001081532, shape=(), dtype=float32).\n",
            "848/848 [==============================] - 36s 42ms/step - loss: 2.3361 - RMSE: 1.5284 - val_loss: 2.3364 - val_RMSE: 1.5285\n",
            "\n",
            "Epoch 00237: val_loss did not improve from 2.33318\n",
            "Epoch 238/300\n",
            "\n",
            "Epoch 00238: LearningRateScheduler setting learning rate to tf.Tensor(0.00010492248, shape=(), dtype=float32).\n",
            "848/848 [==============================] - 36s 42ms/step - loss: 2.3465 - RMSE: 1.5318 - val_loss: 2.3346 - val_RMSE: 1.5279\n",
            "\n",
            "Epoch 00238: val_loss did not improve from 2.33318\n",
            "Epoch 239/300\n",
            "\n",
            "Epoch 00239: LearningRateScheduler setting learning rate to tf.Tensor(0.000101735, shape=(), dtype=float32).\n",
            "848/848 [==============================] - 35s 42ms/step - loss: 2.3262 - RMSE: 1.5252 - val_loss: 2.3388 - val_RMSE: 1.5293\n",
            "\n",
            "Epoch 00239: val_loss did not improve from 2.33318\n",
            "Epoch 240/300\n",
            "\n",
            "Epoch 00240: LearningRateScheduler setting learning rate to tf.Tensor(9.859121e-05, shape=(), dtype=float32).\n",
            "848/848 [==============================] - 36s 42ms/step - loss: 2.3281 - RMSE: 1.5258 - val_loss: 2.3387 - val_RMSE: 1.5293\n",
            "\n",
            "Epoch 00240: val_loss did not improve from 2.33318\n",
            "Epoch 241/300\n",
            "\n",
            "Epoch 00241: LearningRateScheduler setting learning rate to tf.Tensor(9.549147e-05, shape=(), dtype=float32).\n",
            "848/848 [==============================] - 36s 42ms/step - loss: 2.3261 - RMSE: 1.5252 - val_loss: 2.3273 - val_RMSE: 1.5256\n",
            "\n",
            "Epoch 00241: val_loss improved from 2.33318 to 2.32733, saving model to ./drive/My Drive/train_ckpt/weather\n",
            "Epoch 242/300\n",
            "\n",
            "Epoch 00242: LearningRateScheduler setting learning rate to tf.Tensor(9.243605e-05, shape=(), dtype=float32).\n",
            "848/848 [==============================] - 36s 43ms/step - loss: 2.3269 - RMSE: 1.5254 - val_loss: 2.3321 - val_RMSE: 1.5271\n",
            "\n",
            "Epoch 00242: val_loss did not improve from 2.32733\n",
            "Epoch 243/300\n",
            "\n",
            "Epoch 00243: LearningRateScheduler setting learning rate to tf.Tensor(8.942539e-05, shape=(), dtype=float32).\n",
            "848/848 [==============================] - 36s 43ms/step - loss: 2.3241 - RMSE: 1.5245 - val_loss: 2.3333 - val_RMSE: 1.5275\n",
            "\n",
            "Epoch 00243: val_loss did not improve from 2.32733\n",
            "Epoch 244/300\n",
            "\n",
            "Epoch 00244: LearningRateScheduler setting learning rate to tf.Tensor(8.64597e-05, shape=(), dtype=float32).\n",
            "848/848 [==============================] - 36s 43ms/step - loss: 2.3188 - RMSE: 1.5228 - val_loss: 2.3638 - val_RMSE: 1.5375\n",
            "\n",
            "Epoch 00244: val_loss did not improve from 2.32733\n",
            "Epoch 245/300\n",
            "\n",
            "Epoch 00245: LearningRateScheduler setting learning rate to tf.Tensor(8.3539344e-05, shape=(), dtype=float32).\n",
            "848/848 [==============================] - 36s 42ms/step - loss: 2.3202 - RMSE: 1.5232 - val_loss: 2.3387 - val_RMSE: 1.5293\n",
            "\n",
            "Epoch 00245: val_loss did not improve from 2.32733\n",
            "Epoch 246/300\n",
            "\n",
            "Epoch 00246: LearningRateScheduler setting learning rate to tf.Tensor(8.066473e-05, shape=(), dtype=float32).\n",
            "848/848 [==============================] - 36s 42ms/step - loss: 2.3170 - RMSE: 1.5222 - val_loss: 2.4035 - val_RMSE: 1.5503\n",
            "\n",
            "Epoch 00246: val_loss did not improve from 2.32733\n",
            "Epoch 247/300\n",
            "\n",
            "Epoch 00247: LearningRateScheduler setting learning rate to tf.Tensor(7.783601e-05, shape=(), dtype=float32).\n",
            "848/848 [==============================] - 36s 42ms/step - loss: 2.3085 - RMSE: 1.5194 - val_loss: 2.3279 - val_RMSE: 1.5257\n",
            "\n",
            "Epoch 00247: val_loss did not improve from 2.32733\n",
            "Epoch 248/300\n",
            "\n",
            "Epoch 00248: LearningRateScheduler setting learning rate to tf.Tensor(7.5053664e-05, shape=(), dtype=float32).\n",
            "848/848 [==============================] - 36s 43ms/step - loss: 2.3198 - RMSE: 1.5231 - val_loss: 2.3266 - val_RMSE: 1.5253\n",
            "\n",
            "Epoch 00248: val_loss improved from 2.32733 to 2.32656, saving model to ./drive/My Drive/train_ckpt/weather\n",
            "Epoch 249/300\n",
            "\n",
            "Epoch 00249: LearningRateScheduler setting learning rate to tf.Tensor(7.2317875e-05, shape=(), dtype=float32).\n",
            "848/848 [==============================] - 36s 43ms/step - loss: 2.3158 - RMSE: 1.5218 - val_loss: 2.3233 - val_RMSE: 1.5242\n",
            "\n",
            "Epoch 00249: val_loss improved from 2.32656 to 2.32329, saving model to ./drive/My Drive/train_ckpt/weather\n",
            "Epoch 250/300\n",
            "\n",
            "Epoch 00250: LearningRateScheduler setting learning rate to tf.Tensor(6.962896e-05, shape=(), dtype=float32).\n",
            "848/848 [==============================] - 36s 43ms/step - loss: 2.3115 - RMSE: 1.5203 - val_loss: 2.3217 - val_RMSE: 1.5237\n",
            "\n",
            "Epoch 00250: val_loss improved from 2.32329 to 2.32165, saving model to ./drive/My Drive/train_ckpt/weather\n",
            "Epoch 251/300\n",
            "\n",
            "Epoch 00251: LearningRateScheduler setting learning rate to tf.Tensor(6.698731e-05, shape=(), dtype=float32).\n",
            "848/848 [==============================] - 36s 43ms/step - loss: 2.3039 - RMSE: 1.5178 - val_loss: 2.3082 - val_RMSE: 1.5193\n",
            "\n",
            "Epoch 00251: val_loss improved from 2.32165 to 2.30819, saving model to ./drive/My Drive/train_ckpt/weather\n",
            "Epoch 252/300\n",
            "\n",
            "Epoch 00252: LearningRateScheduler setting learning rate to tf.Tensor(6.4393076e-05, shape=(), dtype=float32).\n",
            "848/848 [==============================] - 36s 43ms/step - loss: 2.3089 - RMSE: 1.5195 - val_loss: 2.3182 - val_RMSE: 1.5226\n",
            "\n",
            "Epoch 00252: val_loss did not improve from 2.30819\n",
            "Epoch 253/300\n",
            "\n",
            "Epoch 00253: LearningRateScheduler setting learning rate to tf.Tensor(6.184671e-05, shape=(), dtype=float32).\n",
            "848/848 [==============================] - 36s 43ms/step - loss: 2.2987 - RMSE: 1.5161 - val_loss: 2.3166 - val_RMSE: 1.5220\n",
            "\n",
            "Epoch 00253: val_loss did not improve from 2.30819\n",
            "Epoch 254/300\n",
            "\n",
            "Epoch 00254: LearningRateScheduler setting learning rate to tf.Tensor(5.9348287e-05, shape=(), dtype=float32).\n",
            "848/848 [==============================] - 36s 43ms/step - loss: 2.2961 - RMSE: 1.5153 - val_loss: 2.3248 - val_RMSE: 1.5247\n",
            "\n",
            "Epoch 00254: val_loss did not improve from 2.30819\n",
            "Epoch 255/300\n",
            "\n",
            "Epoch 00255: LearningRateScheduler setting learning rate to tf.Tensor(5.689821e-05, shape=(), dtype=float32).\n",
            "848/848 [==============================] - 36s 43ms/step - loss: 2.3042 - RMSE: 1.5180 - val_loss: 2.3069 - val_RMSE: 1.5188\n",
            "\n",
            "Epoch 00255: val_loss improved from 2.30819 to 2.30687, saving model to ./drive/My Drive/train_ckpt/weather\n",
            "Epoch 256/300\n",
            "\n",
            "Epoch 00256: LearningRateScheduler setting learning rate to tf.Tensor(5.4496708e-05, shape=(), dtype=float32).\n",
            "848/848 [==============================] - 36s 43ms/step - loss: 2.2999 - RMSE: 1.5165 - val_loss: 2.3152 - val_RMSE: 1.5216\n",
            "\n",
            "Epoch 00256: val_loss did not improve from 2.30687\n",
            "Epoch 257/300\n",
            "\n",
            "Epoch 00257: LearningRateScheduler setting learning rate to tf.Tensor(5.2144052e-05, shape=(), dtype=float32).\n",
            "848/848 [==============================] - 36s 43ms/step - loss: 2.2927 - RMSE: 1.5142 - val_loss: 2.3258 - val_RMSE: 1.5251\n",
            "\n",
            "Epoch 00257: val_loss did not improve from 2.30687\n",
            "Epoch 258/300\n",
            "\n",
            "Epoch 00258: LearningRateScheduler setting learning rate to tf.Tensor(4.98406e-05, shape=(), dtype=float32).\n",
            "848/848 [==============================] - 36s 42ms/step - loss: 2.2917 - RMSE: 1.5138 - val_loss: 2.3070 - val_RMSE: 1.5189\n",
            "\n",
            "Epoch 00258: val_loss did not improve from 2.30687\n",
            "Epoch 259/300\n",
            "\n",
            "Epoch 00259: LearningRateScheduler setting learning rate to tf.Tensor(4.7586444e-05, shape=(), dtype=float32).\n",
            "848/848 [==============================] - 36s 43ms/step - loss: 2.2930 - RMSE: 1.5143 - val_loss: 2.3210 - val_RMSE: 1.5235\n",
            "\n",
            "Epoch 00259: val_loss did not improve from 2.30687\n",
            "Epoch 260/300\n",
            "\n",
            "Epoch 00260: LearningRateScheduler setting learning rate to tf.Tensor(4.5381934e-05, shape=(), dtype=float32).\n",
            "848/848 [==============================] - 36s 43ms/step - loss: 2.2893 - RMSE: 1.5131 - val_loss: 2.3189 - val_RMSE: 1.5228\n",
            "\n",
            "Epoch 00260: val_loss did not improve from 2.30687\n",
            "Epoch 261/300\n",
            "\n",
            "Epoch 00261: LearningRateScheduler setting learning rate to tf.Tensor(4.3227257e-05, shape=(), dtype=float32).\n",
            "848/848 [==============================] - 36s 42ms/step - loss: 2.2849 - RMSE: 1.5116 - val_loss: 2.3249 - val_RMSE: 1.5248\n",
            "\n",
            "Epoch 00261: val_loss did not improve from 2.30687\n",
            "Epoch 262/300\n",
            "\n",
            "Epoch 00262: LearningRateScheduler setting learning rate to tf.Tensor(4.1122647e-05, shape=(), dtype=float32).\n",
            "848/848 [==============================] - 36s 42ms/step - loss: 2.2852 - RMSE: 1.5117 - val_loss: 2.3235 - val_RMSE: 1.5243\n",
            "\n",
            "Epoch 00262: val_loss did not improve from 2.30687\n",
            "Epoch 263/300\n",
            "\n",
            "Epoch 00263: LearningRateScheduler setting learning rate to tf.Tensor(3.9068433e-05, shape=(), dtype=float32).\n",
            "848/848 [==============================] - 36s 43ms/step - loss: 2.2898 - RMSE: 1.5132 - val_loss: 2.3040 - val_RMSE: 1.5179\n",
            "\n",
            "Epoch 00263: val_loss improved from 2.30687 to 2.30398, saving model to ./drive/My Drive/train_ckpt/weather\n",
            "Epoch 264/300\n",
            "\n",
            "Epoch 00264: LearningRateScheduler setting learning rate to tf.Tensor(3.7064703e-05, shape=(), dtype=float32).\n",
            "848/848 [==============================] - 36s 42ms/step - loss: 2.2823 - RMSE: 1.5107 - val_loss: 2.3071 - val_RMSE: 1.5189\n",
            "\n",
            "Epoch 00264: val_loss did not improve from 2.30398\n",
            "Epoch 265/300\n",
            "\n",
            "Epoch 00265: LearningRateScheduler setting learning rate to tf.Tensor(3.5111727e-05, shape=(), dtype=float32).\n",
            "848/848 [==============================] - 36s 43ms/step - loss: 2.2855 - RMSE: 1.5118 - val_loss: 2.3134 - val_RMSE: 1.5210\n",
            "\n",
            "Epoch 00265: val_loss did not improve from 2.30398\n",
            "Epoch 266/300\n",
            "\n",
            "Epoch 00266: LearningRateScheduler setting learning rate to tf.Tensor(3.3209773e-05, shape=(), dtype=float32).\n",
            "848/848 [==============================] - 36s 43ms/step - loss: 2.2836 - RMSE: 1.5111 - val_loss: 2.3282 - val_RMSE: 1.5259\n",
            "\n",
            "Epoch 00266: val_loss did not improve from 2.30398\n",
            "Epoch 267/300\n",
            "\n",
            "Epoch 00267: LearningRateScheduler setting learning rate to tf.Tensor(3.1358988e-05, shape=(), dtype=float32).\n",
            "848/848 [==============================] - 36s 43ms/step - loss: 2.2790 - RMSE: 1.5096 - val_loss: 2.3663 - val_RMSE: 1.5383\n",
            "\n",
            "Epoch 00267: val_loss did not improve from 2.30398\n",
            "Epoch 268/300\n",
            "\n",
            "Epoch 00268: LearningRateScheduler setting learning rate to tf.Tensor(2.9559613e-05, shape=(), dtype=float32).\n",
            "848/848 [==============================] - 36s 43ms/step - loss: 2.2801 - RMSE: 1.5100 - val_loss: 2.3082 - val_RMSE: 1.5193\n",
            "\n",
            "Epoch 00268: val_loss did not improve from 2.30398\n",
            "Epoch 269/300\n",
            "\n",
            "Epoch 00269: LearningRateScheduler setting learning rate to tf.Tensor(2.7811797e-05, shape=(), dtype=float32).\n",
            "848/848 [==============================] - 36s 43ms/step - loss: 2.2733 - RMSE: 1.5077 - val_loss: 2.3044 - val_RMSE: 1.5180\n",
            "\n",
            "Epoch 00269: val_loss did not improve from 2.30398\n",
            "Epoch 270/300\n",
            "\n",
            "Epoch 00270: LearningRateScheduler setting learning rate to tf.Tensor(2.6115777e-05, shape=(), dtype=float32).\n",
            "848/848 [==============================] - 36s 43ms/step - loss: 2.2795 - RMSE: 1.5098 - val_loss: 2.3034 - val_RMSE: 1.5177\n",
            "\n",
            "Epoch 00270: val_loss improved from 2.30398 to 2.30335, saving model to ./drive/My Drive/train_ckpt/weather\n",
            "Epoch 271/300\n",
            "\n",
            "Epoch 00271: LearningRateScheduler setting learning rate to tf.Tensor(2.4471761e-05, shape=(), dtype=float32).\n",
            "848/848 [==============================] - 36s 43ms/step - loss: 2.2750 - RMSE: 1.5083 - val_loss: 2.3106 - val_RMSE: 1.5201\n",
            "\n",
            "Epoch 00271: val_loss did not improve from 2.30335\n",
            "Epoch 272/300\n",
            "\n",
            "Epoch 00272: LearningRateScheduler setting learning rate to tf.Tensor(2.287984e-05, shape=(), dtype=float32).\n",
            "848/848 [==============================] - 36s 43ms/step - loss: 2.2749 - RMSE: 1.5083 - val_loss: 2.3075 - val_RMSE: 1.5190\n",
            "\n",
            "Epoch 00272: val_loss did not improve from 2.30335\n",
            "Epoch 273/300\n",
            "\n",
            "Epoch 00273: LearningRateScheduler setting learning rate to tf.Tensor(2.1340222e-05, shape=(), dtype=float32).\n",
            "848/848 [==============================] - 36s 42ms/step - loss: 2.2711 - RMSE: 1.5070 - val_loss: 2.3095 - val_RMSE: 1.5197\n",
            "\n",
            "Epoch 00273: val_loss did not improve from 2.30335\n",
            "Epoch 274/300\n",
            "\n",
            "Epoch 00274: LearningRateScheduler setting learning rate to tf.Tensor(1.9853116e-05, shape=(), dtype=float32).\n",
            "848/848 [==============================] - 36s 43ms/step - loss: 2.2703 - RMSE: 1.5068 - val_loss: 2.3039 - val_RMSE: 1.5179\n",
            "\n",
            "Epoch 00274: val_loss did not improve from 2.30335\n",
            "Epoch 275/300\n",
            "\n",
            "Epoch 00275: LearningRateScheduler setting learning rate to tf.Tensor(1.8418701e-05, shape=(), dtype=float32).\n",
            "848/848 [==============================] - 36s 42ms/step - loss: 2.2718 - RMSE: 1.5073 - val_loss: 2.3021 - val_RMSE: 1.5173\n",
            "\n",
            "Epoch 00275: val_loss improved from 2.30335 to 2.30212, saving model to ./drive/My Drive/train_ckpt/weather\n",
            "Epoch 276/300\n",
            "\n",
            "Epoch 00276: LearningRateScheduler setting learning rate to tf.Tensor(1.7037064e-05, shape=(), dtype=float32).\n",
            "848/848 [==============================] - 36s 43ms/step - loss: 2.2779 - RMSE: 1.5093 - val_loss: 2.3062 - val_RMSE: 1.5186\n",
            "\n",
            "Epoch 00276: val_loss did not improve from 2.30212\n",
            "Epoch 277/300\n",
            "\n",
            "Epoch 00277: LearningRateScheduler setting learning rate to tf.Tensor(1.5708387e-05, shape=(), dtype=float32).\n",
            "848/848 [==============================] - 36s 43ms/step - loss: 2.2651 - RMSE: 1.5050 - val_loss: 2.3025 - val_RMSE: 1.5174\n",
            "\n",
            "Epoch 00277: val_loss did not improve from 2.30212\n",
            "Epoch 278/300\n",
            "\n",
            "Epoch 00278: LearningRateScheduler setting learning rate to tf.Tensor(1.4432848e-05, shape=(), dtype=float32).\n",
            "848/848 [==============================] - 36s 43ms/step - loss: 2.2656 - RMSE: 1.5052 - val_loss: 2.3019 - val_RMSE: 1.5172\n",
            "\n",
            "Epoch 00278: val_loss improved from 2.30212 to 2.30186, saving model to ./drive/My Drive/train_ckpt/weather\n",
            "Epoch 279/300\n",
            "\n",
            "Epoch 00279: LearningRateScheduler setting learning rate to tf.Tensor(1.3210536e-05, shape=(), dtype=float32).\n",
            "848/848 [==============================] - 36s 43ms/step - loss: 2.2659 - RMSE: 1.5053 - val_loss: 2.3020 - val_RMSE: 1.5172\n",
            "\n",
            "Epoch 00279: val_loss did not improve from 2.30186\n",
            "Epoch 280/300\n",
            "\n",
            "Epoch 00280: LearningRateScheduler setting learning rate to tf.Tensor(1.2041629e-05, shape=(), dtype=float32).\n",
            "848/848 [==============================] - 36s 43ms/step - loss: 2.2685 - RMSE: 1.5061 - val_loss: 2.3095 - val_RMSE: 1.5197\n",
            "\n",
            "Epoch 00280: val_loss did not improve from 2.30186\n",
            "Epoch 281/300\n",
            "\n",
            "Epoch 00281: LearningRateScheduler setting learning rate to tf.Tensor(1.0926187e-05, shape=(), dtype=float32).\n",
            "848/848 [==============================] - 36s 43ms/step - loss: 2.2679 - RMSE: 1.5059 - val_loss: 2.2993 - val_RMSE: 1.5164\n",
            "\n",
            "Epoch 00281: val_loss improved from 2.30186 to 2.29934, saving model to ./drive/My Drive/train_ckpt/weather\n",
            "Epoch 282/300\n",
            "\n",
            "Epoch 00282: LearningRateScheduler setting learning rate to tf.Tensor(9.86439e-06, shape=(), dtype=float32).\n",
            "848/848 [==============================] - 36s 43ms/step - loss: 2.2659 - RMSE: 1.5053 - val_loss: 2.3006 - val_RMSE: 1.5168\n",
            "\n",
            "Epoch 00282: val_loss did not improve from 2.29934\n",
            "Epoch 283/300\n",
            "\n",
            "Epoch 00283: LearningRateScheduler setting learning rate to tf.Tensor(8.856387e-06, shape=(), dtype=float32).\n",
            "848/848 [==============================] - 36s 43ms/step - loss: 2.2671 - RMSE: 1.5057 - val_loss: 2.3021 - val_RMSE: 1.5173\n",
            "\n",
            "Epoch 00283: val_loss did not improve from 2.29934\n",
            "Epoch 284/300\n",
            "\n",
            "Epoch 00284: LearningRateScheduler setting learning rate to tf.Tensor(7.902176e-06, shape=(), dtype=float32).\n",
            "848/848 [==============================] - 36s 42ms/step - loss: 2.2557 - RMSE: 1.5019 - val_loss: 2.3025 - val_RMSE: 1.5174\n",
            "\n",
            "Epoch 00284: val_loss did not improve from 2.29934\n",
            "Epoch 285/300\n",
            "\n",
            "Epoch 00285: LearningRateScheduler setting learning rate to tf.Tensor(7.0019964e-06, shape=(), dtype=float32).\n",
            "848/848 [==============================] - 36s 43ms/step - loss: 2.2577 - RMSE: 1.5026 - val_loss: 2.2993 - val_RMSE: 1.5163\n",
            "\n",
            "Epoch 00285: val_loss improved from 2.29934 to 2.29926, saving model to ./drive/My Drive/train_ckpt/weather\n",
            "Epoch 286/300\n",
            "\n",
            "Epoch 00286: LearningRateScheduler setting learning rate to tf.Tensor(6.155819e-06, shape=(), dtype=float32).\n",
            "848/848 [==============================] - 36s 42ms/step - loss: 2.2651 - RMSE: 1.5050 - val_loss: 2.3029 - val_RMSE: 1.5175\n",
            "\n",
            "Epoch 00286: val_loss did not improve from 2.29926\n",
            "Epoch 287/300\n",
            "\n",
            "Epoch 00287: LearningRateScheduler setting learning rate to tf.Tensor(5.3638223e-06, shape=(), dtype=float32).\n",
            "848/848 [==============================] - 36s 43ms/step - loss: 2.2637 - RMSE: 1.5046 - val_loss: 2.2990 - val_RMSE: 1.5162\n",
            "\n",
            "Epoch 00287: val_loss improved from 2.29926 to 2.29898, saving model to ./drive/My Drive/train_ckpt/weather\n",
            "Epoch 288/300\n",
            "\n",
            "Epoch 00288: LearningRateScheduler setting learning rate to tf.Tensor(4.6260957e-06, shape=(), dtype=float32).\n",
            "848/848 [==============================] - 36s 43ms/step - loss: 2.2557 - RMSE: 1.5019 - val_loss: 2.3011 - val_RMSE: 1.5169\n",
            "\n",
            "Epoch 00288: val_loss did not improve from 2.29898\n",
            "Epoch 289/300\n",
            "\n",
            "Epoch 00289: LearningRateScheduler setting learning rate to tf.Tensor(3.9426386e-06, shape=(), dtype=float32).\n",
            "848/848 [==============================] - 36s 43ms/step - loss: 2.2612 - RMSE: 1.5037 - val_loss: 2.3001 - val_RMSE: 1.5166\n",
            "\n",
            "Epoch 00289: val_loss did not improve from 2.29898\n",
            "Epoch 290/300\n",
            "\n",
            "Epoch 00290: LearningRateScheduler setting learning rate to tf.Tensor(3.3136012e-06, shape=(), dtype=float32).\n",
            "848/848 [==============================] - 36s 43ms/step - loss: 2.2607 - RMSE: 1.5035 - val_loss: 2.3021 - val_RMSE: 1.5173\n",
            "\n",
            "Epoch 00290: val_loss did not improve from 2.29898\n",
            "Epoch 291/300\n",
            "\n",
            "Epoch 00291: LearningRateScheduler setting learning rate to tf.Tensor(2.7390422e-06, shape=(), dtype=float32).\n",
            "848/848 [==============================] - 36s 43ms/step - loss: 2.2592 - RMSE: 1.5031 - val_loss: 2.2997 - val_RMSE: 1.5165\n",
            "\n",
            "Epoch 00291: val_loss did not improve from 2.29898\n",
            "Epoch 292/300\n",
            "\n",
            "Epoch 00292: LearningRateScheduler setting learning rate to tf.Tensor(2.2189915e-06, shape=(), dtype=float32).\n",
            "848/848 [==============================] - 36s 43ms/step - loss: 2.2611 - RMSE: 1.5037 - val_loss: 2.3002 - val_RMSE: 1.5167\n",
            "\n",
            "Epoch 00292: val_loss did not improve from 2.29898\n",
            "Epoch 293/300\n",
            "\n",
            "Epoch 00293: LearningRateScheduler setting learning rate to tf.Tensor(1.7535688e-06, shape=(), dtype=float32).\n",
            "848/848 [==============================] - 36s 42ms/step - loss: 2.2594 - RMSE: 1.5031 - val_loss: 2.3003 - val_RMSE: 1.5167\n",
            "\n",
            "Epoch 00293: val_loss did not improve from 2.29898\n",
            "Epoch 294/300\n",
            "\n",
            "Epoch 00294: LearningRateScheduler setting learning rate to tf.Tensor(1.3427436e-06, shape=(), dtype=float32).\n",
            "848/848 [==============================] - 36s 43ms/step - loss: 2.2611 - RMSE: 1.5037 - val_loss: 2.3016 - val_RMSE: 1.5171\n",
            "\n",
            "Epoch 00294: val_loss did not improve from 2.29898\n",
            "Epoch 295/300\n",
            "\n",
            "Epoch 00295: LearningRateScheduler setting learning rate to tf.Tensor(9.866358e-07, shape=(), dtype=float32).\n",
            "848/848 [==============================] - 36s 43ms/step - loss: 2.2568 - RMSE: 1.5023 - val_loss: 2.2978 - val_RMSE: 1.5159\n",
            "\n",
            "Epoch 00295: val_loss improved from 2.29898 to 2.29781, saving model to ./drive/My Drive/train_ckpt/weather\n",
            "Epoch 296/300\n",
            "\n",
            "Epoch 00296: LearningRateScheduler setting learning rate to tf.Tensor(6.85215e-07, shape=(), dtype=float32).\n",
            "848/848 [==============================] - 36s 43ms/step - loss: 2.2579 - RMSE: 1.5026 - val_loss: 2.3009 - val_RMSE: 1.5169\n",
            "\n",
            "Epoch 00296: val_loss did not improve from 2.29781\n",
            "Epoch 297/300\n",
            "\n",
            "Epoch 00297: LearningRateScheduler setting learning rate to tf.Tensor(4.38571e-07, shape=(), dtype=float32).\n",
            "848/848 [==============================] - 36s 43ms/step - loss: 2.2544 - RMSE: 1.5015 - val_loss: 2.2976 - val_RMSE: 1.5158\n",
            "\n",
            "Epoch 00297: val_loss improved from 2.29781 to 2.29764, saving model to ./drive/My Drive/train_ckpt/weather\n",
            "Epoch 298/300\n",
            "\n",
            "Epoch 00298: LearningRateScheduler setting learning rate to tf.Tensor(2.4673344e-07, shape=(), dtype=float32).\n",
            "848/848 [==============================] - 36s 43ms/step - loss: 2.2534 - RMSE: 1.5011 - val_loss: 2.3015 - val_RMSE: 1.5171\n",
            "\n",
            "Epoch 00298: val_loss did not improve from 2.29764\n",
            "Epoch 299/300\n",
            "\n",
            "Epoch 00299: LearningRateScheduler setting learning rate to tf.Tensor(1.0964275e-07, shape=(), dtype=float32).\n",
            "848/848 [==============================] - 36s 43ms/step - loss: 2.2560 - RMSE: 1.5020 - val_loss: 2.3000 - val_RMSE: 1.5166\n",
            "\n",
            "Epoch 00299: val_loss did not improve from 2.29764\n",
            "Epoch 300/300\n",
            "\n",
            "Epoch 00300: LearningRateScheduler setting learning rate to tf.Tensor(2.7418137e-08, shape=(), dtype=float32).\n",
            "848/848 [==============================] - 37s 43ms/step - loss: 2.2597 - RMSE: 1.5032 - val_loss: 2.3029 - val_RMSE: 1.5175\n",
            "\n",
            "Epoch 00300: val_loss did not improve from 2.29764\n"
          ]
        }
      ],
      "source": [
        "max_epochs = 300\n",
        "\n",
        "history = model.fit(train_dataset, epochs=max_epochs,\n",
        "                    steps_per_epoch=len(train_data) // batch_size,\n",
        "                    validation_data=val_dataset,\n",
        "                    validation_steps=len(val_data) // batch_size,\n",
        "                    callbacks=[cp_callback,lr_callback,es_callback]\n",
        "                    )"
      ]
    },
    {
      "cell_type": "code",
      "execution_count": null,
      "metadata": {
        "colab": {
          "base_uri": "https://localhost:8080/",
          "height": 281
        },
        "id": "x0AjuElK_1vH",
        "outputId": "816d0636-28fc-4393-edae-18638f42ec85"
      },
      "outputs": [
        {
          "data": {
            "image/png": "[encoded data removed]",
            "text/plain": [
              "<Figure size 576x288 with 1 Axes>"
            ]
          },
          "metadata": {
            "needs_background": "light"
          },
          "output_type": "display_data"
        }
      ],
      "source": [
        "loss=history.history['loss']\n",
        "val_loss=history.history['val_loss']\n",
        "\n",
        "epochs_range = range(len(loss))\n",
        "\n",
        "plt.figure(figsize=(8, 4))\n",
        "plt.plot(epochs_range, loss, label='Training MSE')\n",
        "plt.plot(epochs_range, val_loss, label='Validation MSE')\n",
        "plt.legend(loc='upper right')\n",
        "plt.title('Training and Validation MSE')\n",
        "plt.show()"
      ]
    },
    {
      "cell_type": "code",
      "execution_count": null,
      "metadata": {
        "colab": {
          "base_uri": "https://localhost:8080/"
        },
        "id": "sc5TuQ87DBr8",
        "outputId": "38ba5d36-10e9-4acd-aa51-e671990d0e56"
      },
      "outputs": [
        {
          "name": "stdout",
          "output_type": "stream",
          "text": [
            "212/212 [==============================] - 2s 10ms/step - loss: 2.3029 - RMSE: 1.5175\n",
            "RMSE : 1.517540454864502\n"
          ]
        }
      ],
      "source": [
        "results = model.evaluate(val_dataset)\n",
        "print(\"RMSE :\", results[1]) # RMSE"
      ]
    },
    {
      "cell_type": "code",
      "execution_count": null,
      "metadata": {
        "id": "Q8JEUWule1VR"
      },
      "outputs": [],
      "source": [
        "model.save('weather_model_final.h5')"
      ]
    },
    {
      "cell_type": "markdown",
      "metadata": {
        "id": "aYnrqA-EGGll"
      },
      "source": [
        "# FINAL TEST"
      ]
    },
    {
      "cell_type": "code",
      "execution_count": null,
      "metadata": {
        "id": "-BEUWj_SUZ9X"
      },
      "outputs": [],
      "source": [
        "from keras.models import load_model\n",
        "model = load_model('/content/drive/MyDrive/weather_model_final.h5')"
      ]
    },
    {
      "cell_type": "code",
      "execution_count": null,
      "metadata": {
        "id": "JkCW3T3lDFYI"
      },
      "outputs": [],
      "source": [
        "raw_test_data = Readsav_ary('/content/drive/MyDrive/Colab Notebooks/기상청_3주차/dts_i300.sav', 'i_rad')\n",
        "raw_test_label = Readsav_ary('/content/drive/MyDrive/Colab Notebooks/기상청_3주차/dts_i300.sav', 'o_rad')"
      ]
    },
    {
      "cell_type": "code",
      "execution_count": null,
      "metadata": {
        "id": "pbjWbOgKGNiW"
      },
      "outputs": [],
      "source": [
        "test_data = np.array(min_max_normalize(raw_test_data, min_max_list))\n",
        "test_label = raw_test_label.copy()"
      ]
    },
    {
      "cell_type": "code",
      "execution_count": null,
      "metadata": {
        "id": "Eran2QtlNDmN"
      },
      "outputs": [],
      "source": [
        "test_label[0:78] = 86400*test_label[0:78]"
      ]
    },
    {
      "cell_type": "code",
      "execution_count": null,
      "metadata": {
        "id": "5eQc9SyBGNtI"
      },
      "outputs": [],
      "source": [
        "test_data = test_data.transpose(1,0)\n",
        "test_label = test_label.transpose(1,0)"
      ]
    },
    {
      "cell_type": "code",
      "execution_count": null,
      "metadata": {
        "colab": {
          "base_uri": "https://localhost:8080/"
        },
        "id": "0WTD0_gTGNx7",
        "outputId": "fbff106f-c8ef-47ab-a800-da7a1913343e"
      },
      "outputs": [
        {
          "name": "stdout",
          "output_type": "stream",
          "text": [
            "(135680, 196)\n",
            "(135680, 86)\n"
          ]
        }
      ],
      "source": [
        "print(test_data.shape)\n",
        "print(test_label.shape)"
      ]
    },
    {
      "cell_type": "code",
      "execution_count": null,
      "metadata": {
        "colab": {
          "base_uri": "https://localhost:8080/"
        },
        "id": "eUXIMJSWGN2q",
        "outputId": "ff635040-3fcc-4e09-9ae5-d2bef74002f6"
      },
      "outputs": [
        {
          "name": "stdout",
          "output_type": "stream",
          "text": [
            "<BatchDataset shapes: ((None, 196), (None, 86)), types: (tf.float32, tf.float32)>\n"
          ]
        }
      ],
      "source": [
        "# for real test\n",
        "batch_size =256\n",
        "test_dataset = tf.data.Dataset.from_tensor_slices((test_data, test_label))\n",
        "test_dataset = test_dataset.batch(batch_size=batch_size)\n",
        "print(test_dataset)"
      ]
    },
    {
      "cell_type": "code",
      "execution_count": null,
      "metadata": {
        "colab": {
          "base_uri": "https://localhost:8080/"
        },
        "id": "i6fVBPmAGN61",
        "outputId": "df62b131-63fd-4cd9-a6ac-6b141c242819"
      },
      "outputs": [
        {
          "name": "stdout",
          "output_type": "stream",
          "text": [
            "530/530 [==============================] - 33s 10ms/step - loss: 2.9526 - RMSE: 1.7183\n",
            "RMSE : 1.7183102369308472\n"
          ]
        }
      ],
      "source": [
        "results = model.evaluate(test_dataset)\n",
        "print(\"RMSE :\", results[1]) # RMSE"
      ]
    },
    {
      "cell_type": "code",
      "execution_count": null,
      "metadata": {
        "id": "UdukReTnXmHT"
      },
      "outputs": [],
      "source": [
        "###output을 정규화시켜줬다면 해당 작업을 추가로 해줘야합니다###\n",
        "'''\n",
        "def z_score_denormalize(data_set, mean_std_list):\n",
        "    denormalized_data_set = []\n",
        "\n",
        "    for i in range(len(data_set)):\n",
        "        denormalized_data = data_set[i] * mean_std_list[i][1] + mean_std_list[i][0]\n",
        "        denormalized_data_set.append(denormalized_data)\n",
        "\n",
        "    return denormalized_data_set\n",
        "''' "
      ]
    },
    {
      "cell_type": "code",
      "execution_count": null,
      "metadata": {
        "colab": {
          "base_uri": "https://localhost:8080/"
        },
        "id": "NcX3JTWWJhz_",
        "outputId": "8052eb54-8393-4975-b88a-91c694685c62"
      },
      "outputs": [
        {
          "name": "stdout",
          "output_type": "stream",
          "text": [
            "time : 4.198414325714111 s\n"
          ]
        }
      ],
      "source": [
        "import time\n",
        "\n",
        "start = time.time()\n",
        "predictions = model.predict(test_dataset)\n",
        "print(\"time :\", time.time() - start,'s')"
      ]
    },
    {
      "cell_type": "code",
      "execution_count": null,
      "metadata": {
        "id": "rgJ5PayRXUx1"
      },
      "outputs": [],
      "source": [
        "predictions = predictions.transpose(1,0)"
      ]
    },
    {
      "cell_type": "code",
      "execution_count": null,
      "metadata": {
        "id": "PZcSEzU2h9L5"
      },
      "outputs": [],
      "source": [
        "real_test_label = test_label[:].transpose(1,0)\n",
        "real_predictions = predictions[:]"
      ]
    },
    {
      "cell_type": "code",
      "execution_count": null,
      "metadata": {
        "colab": {
          "base_uri": "https://localhost:8080/"
        },
        "id": "HqRpfi2qiJ2X",
        "outputId": "80d94ebf-7ac2-4b2b-8c3d-d72d2dd44fee"
      },
      "outputs": [
        {
          "name": "stdout",
          "output_type": "stream",
          "text": [
            "(86, 135680)\n",
            "(86, 135680)\n"
          ]
        }
      ],
      "source": [
        "print(real_test_label.shape)\n",
        "print(real_predictions.shape)"
      ]
    },
    {
      "cell_type": "code",
      "execution_count": null,
      "metadata": {
        "id": "ZRSlEWWSi6Au"
      },
      "outputs": [],
      "source": [
        "def total_RMSE(test_label, predictions):\n",
        "    \n",
        "    error_array = test_label - predictions\n",
        "    RMSE = np.sqrt(np.mean(error_array**2))\n",
        "\n",
        "    return RMSE"
      ]
    },
    {
      "cell_type": "code",
      "execution_count": null,
      "metadata": {
        "id": "eoN1jiK0i6HE"
      },
      "outputs": [],
      "source": [
        "def LW_heating_rate_RMSE(test_label, predictions):\n",
        "    \n",
        "    error_array = test_label[0:39] - predictions[0:39]\n",
        "    RMSE = np.sqrt(np.mean(error_array**2))\n",
        "\n",
        "    return RMSE"
      ]
    },
    {
      "cell_type": "code",
      "execution_count": null,
      "metadata": {
        "id": "fQ9c44YNkD0l"
      },
      "outputs": [],
      "source": [
        "def SW_heating_rate_RMSE(test_label, predictions):\n",
        "    \n",
        "    error_array = test_label[39:78] - predictions[39:78]\n",
        "    RMSE = np.sqrt(np.mean(error_array**2))\n",
        "\n",
        "    return RMSE"
      ]
    },
    {
      "cell_type": "code",
      "execution_count": null,
      "metadata": {
        "id": "-ivaSKv-kD7G"
      },
      "outputs": [],
      "source": [
        "def LW_flux(test_label, predictions):\n",
        "    \n",
        "    error_array = test_label[78:84] - predictions[78:84]\n",
        "    RMSE = np.sqrt(np.mean(error_array**2))\n",
        "\n",
        "    return RMSE"
      ]
    },
    {
      "cell_type": "code",
      "execution_count": null,
      "metadata": {
        "id": "Agol1Y8okEAM"
      },
      "outputs": [],
      "source": [
        "def SW_flux(test_label, predictions):\n",
        "    \n",
        "    error_array = test_label[84:86] - predictions[84:86]\n",
        "    RMSE = np.sqrt(np.mean(error_array**2))\n",
        "\n",
        "    return RMSE"
      ]
    },
    {
      "cell_type": "code",
      "execution_count": null,
      "metadata": {
        "colab": {
          "base_uri": "https://localhost:8080/"
        },
        "id": "55KImXR4kEG1",
        "outputId": "a998a9ff-353c-4b6f-eb16-44ba9df268d0"
      },
      "outputs": [
        {
          "name": "stdout",
          "output_type": "stream",
          "text": [
            "total_RMSE: 1.7183113\n"
          ]
        }
      ],
      "source": [
        "print('total_RMSE:', total_RMSE(real_test_label, real_predictions))"
      ]
    },
    {
      "cell_type": "code",
      "execution_count": null,
      "metadata": {
        "colab": {
          "base_uri": "https://localhost:8080/"
        },
        "id": "OETA9JFMi6LE",
        "outputId": "8239bbb7-65d7-471d-c5ba-29155f789482"
      },
      "outputs": [
        {
          "name": "stdout",
          "output_type": "stream",
          "text": [
            "LW_heating_rate_RMSE: 1.1102979\n"
          ]
        }
      ],
      "source": [
        "print('LW_heating_rate_RMSE:',LW_heating_rate_RMSE(real_test_label, real_predictions))"
      ]
    },
    {
      "cell_type": "code",
      "execution_count": null,
      "metadata": {
        "colab": {
          "base_uri": "https://localhost:8080/"
        },
        "id": "Ps46uAegi6QL",
        "outputId": "99040eb5-faee-4baa-de3b-cf9caca188c7"
      },
      "outputs": [
        {
          "name": "stdout",
          "output_type": "stream",
          "text": [
            "SW_heating_rate_RMSE: 0.8572811\n"
          ]
        }
      ],
      "source": [
        "print('SW_heating_rate_RMSE:',SW_heating_rate_RMSE(real_test_label, real_predictions))"
      ]
    },
    {
      "cell_type": "code",
      "execution_count": null,
      "metadata": {
        "colab": {
          "base_uri": "https://localhost:8080/"
        },
        "id": "HoDpuK_wi6VU",
        "outputId": "b423c038-99a2-460b-cdf6-801332272890"
      },
      "outputs": [
        {
          "name": "stdout",
          "output_type": "stream",
          "text": [
            "LW_flux: 1.3996686\n"
          ]
        }
      ],
      "source": [
        "print('LW_flux:', LW_flux(real_test_label, real_predictions))"
      ]
    },
    {
      "cell_type": "code",
      "execution_count": null,
      "metadata": {
        "colab": {
          "base_uri": "https://localhost:8080/"
        },
        "id": "HKJ4g0xWlXPM",
        "outputId": "aaa94cee-8af3-4ec0-9fd2-c377b9c07c55"
      },
      "outputs": [
        {
          "name": "stdout",
          "output_type": "stream",
          "text": [
            "SW_flux: 9.094735\n"
          ]
        }
      ],
      "source": [
        "print('SW_flux:', SW_flux(real_test_label, real_predictions))"
      ]
    },
    {
      "cell_type": "markdown",
      "metadata": {
        "id": "sy5N8lN3Y1un"
      },
      "source": [
        "# 결과값 시각화"
      ]
    },
    {
      "cell_type": "code",
      "execution_count": null,
      "metadata": {
        "colab": {
          "base_uri": "https://localhost:8080/"
        },
        "id": "SQ-IvhCKK8G-",
        "outputId": "fcb096f0-8f94-4fc7-aa30-bd90c53937c3"
      },
      "outputs": [
        {
          "name": "stdout",
          "output_type": "stream",
          "text": [
            "Collecting mpl_scatter_density\n",
            "  Downloading mpl_scatter_density-0.7-py3-none-any.whl (655 kB)\n",
            "\u001b[?25l\r",
            "\u001b[K     |▌                               | 10 kB 23.4 MB/s eta 0:00:01\r",
            "\u001b[K     |█                               | 20 kB 27.7 MB/s eta 0:00:01\r",
            "\u001b[K     |█▌                              | 30 kB 27.6 MB/s eta 0:00:01\r",
            "\u001b[K     |██                              | 40 kB 20.1 MB/s eta 0:00:01\r",
            "\u001b[K     |██▌                             | 51 kB 14.8 MB/s eta 0:00:01\r",
            "\u001b[K     |███                             | 61 kB 12.1 MB/s eta 0:00:01\r",
            "\u001b[K     |███▌                            | 71 kB 12.6 MB/s eta 0:00:01\r",
            "\u001b[K     |████                            | 81 kB 13.9 MB/s eta 0:00:01\r",
            "\u001b[K     |████▌                           | 92 kB 14.0 MB/s eta 0:00:01\r",
            "\u001b[K     |█████                           | 102 kB 10.5 MB/s eta 0:00:01\r",
            "\u001b[K     |█████▌                          | 112 kB 10.5 MB/s eta 0:00:01\r",
            "\u001b[K     |██████                          | 122 kB 10.5 MB/s eta 0:00:01\r",
            "\u001b[K     |██████▌                         | 133 kB 10.5 MB/s eta 0:00:01\r",
            "\u001b[K     |███████                         | 143 kB 10.5 MB/s eta 0:00:01\r",
            "\u001b[K     |███████▌                        | 153 kB 10.5 MB/s eta 0:00:01\r",
            "\u001b[K     |████████                        | 163 kB 10.5 MB/s eta 0:00:01\r",
            "\u001b[K     |████████▌                       | 174 kB 10.5 MB/s eta 0:00:01\r",
            "\u001b[K     |█████████                       | 184 kB 10.5 MB/s eta 0:00:01\r",
            "\u001b[K     |█████████▌                      | 194 kB 10.5 MB/s eta 0:00:01\r",
            "\u001b[K     |██████████                      | 204 kB 10.5 MB/s eta 0:00:01\r",
            "\u001b[K     |██████████▌                     | 215 kB 10.5 MB/s eta 0:00:01\r",
            "\u001b[K     |███████████                     | 225 kB 10.5 MB/s eta 0:00:01\r",
            "\u001b[K     |███████████▌                    | 235 kB 10.5 MB/s eta 0:00:01\r",
            "\u001b[K     |████████████                    | 245 kB 10.5 MB/s eta 0:00:01\r",
            "\u001b[K     |████████████▌                   | 256 kB 10.5 MB/s eta 0:00:01\r",
            "\u001b[K     |█████████████                   | 266 kB 10.5 MB/s eta 0:00:01\r",
            "\u001b[K     |█████████████▌                  | 276 kB 10.5 MB/s eta 0:00:01\r",
            "\u001b[K     |██████████████                  | 286 kB 10.5 MB/s eta 0:00:01\r",
            "\u001b[K     |██████████████▌                 | 296 kB 10.5 MB/s eta 0:00:01\r",
            "\u001b[K     |███████████████                 | 307 kB 10.5 MB/s eta 0:00:01\r",
            "\u001b[K     |███████████████▌                | 317 kB 10.5 MB/s eta 0:00:01\r",
            "\u001b[K     |████████████████                | 327 kB 10.5 MB/s eta 0:00:01\r",
            "\u001b[K     |████████████████▌               | 337 kB 10.5 MB/s eta 0:00:01\r",
            "\u001b[K     |█████████████████               | 348 kB 10.5 MB/s eta 0:00:01\r",
            "\u001b[K     |█████████████████▌              | 358 kB 10.5 MB/s eta 0:00:01\r",
            "\u001b[K     |██████████████████              | 368 kB 10.5 MB/s eta 0:00:01\r",
            "\u001b[K     |██████████████████▌             | 378 kB 10.5 MB/s eta 0:00:01\r",
            "\u001b[K     |███████████████████             | 389 kB 10.5 MB/s eta 0:00:01\r",
            "\u001b[K     |███████████████████▌            | 399 kB 10.5 MB/s eta 0:00:01\r",
            "\u001b[K     |████████████████████            | 409 kB 10.5 MB/s eta 0:00:01\r",
            "\u001b[K     |████████████████████▌           | 419 kB 10.5 MB/s eta 0:00:01\r",
            "\u001b[K     |█████████████████████           | 430 kB 10.5 MB/s eta 0:00:01\r",
            "\u001b[K     |█████████████████████▌          | 440 kB 10.5 MB/s eta 0:00:01\r",
            "\u001b[K     |██████████████████████          | 450 kB 10.5 MB/s eta 0:00:01\r",
            "\u001b[K     |██████████████████████▌         | 460 kB 10.5 MB/s eta 0:00:01\r",
            "\u001b[K     |███████████████████████         | 471 kB 10.5 MB/s eta 0:00:01\r",
            "\u001b[K     |███████████████████████▌        | 481 kB 10.5 MB/s eta 0:00:01\r",
            "\u001b[K     |████████████████████████        | 491 kB 10.5 MB/s eta 0:00:01\r",
            "\u001b[K     |████████████████████████▌       | 501 kB 10.5 MB/s eta 0:00:01\r",
            "\u001b[K     |█████████████████████████       | 512 kB 10.5 MB/s eta 0:00:01\r",
            "\u001b[K     |█████████████████████████▌      | 522 kB 10.5 MB/s eta 0:00:01\r",
            "\u001b[K     |██████████████████████████      | 532 kB 10.5 MB/s eta 0:00:01\r",
            "\u001b[K     |██████████████████████████▌     | 542 kB 10.5 MB/s eta 0:00:01\r",
            "\u001b[K     |███████████████████████████     | 552 kB 10.5 MB/s eta 0:00:01\r",
            "\u001b[K     |███████████████████████████▌    | 563 kB 10.5 MB/s eta 0:00:01\r",
            "\u001b[K     |████████████████████████████    | 573 kB 10.5 MB/s eta 0:00:01\r",
            "\u001b[K     |████████████████████████████▌   | 583 kB 10.5 MB/s eta 0:00:01\r",
            "\u001b[K     |█████████████████████████████   | 593 kB 10.5 MB/s eta 0:00:01\r",
            "\u001b[K     |█████████████████████████████▌  | 604 kB 10.5 MB/s eta 0:00:01\r",
            "\u001b[K     |██████████████████████████████  | 614 kB 10.5 MB/s eta 0:00:01\r",
            "\u001b[K     |██████████████████████████████▌ | 624 kB 10.5 MB/s eta 0:00:01\r",
            "\u001b[K     |███████████████████████████████ | 634 kB 10.5 MB/s eta 0:00:01\r",
            "\u001b[K     |███████████████████████████████▌| 645 kB 10.5 MB/s eta 0:00:01\r",
            "\u001b[K     |████████████████████████████████| 655 kB 10.5 MB/s eta 0:00:01\r",
            "\u001b[K     |████████████████████████████████| 655 kB 10.5 MB/s \n",
            "\u001b[?25hRequirement already satisfied: numpy in /usr/local/lib/python3.7/dist-packages (from mpl_scatter_density) (1.19.5)\n",
            "Collecting fast-histogram>=0.3\n",
            "  Downloading fast_histogram-0.9-cp37-cp37m-manylinux2010_x86_64.whl (39 kB)\n",
            "Requirement already satisfied: matplotlib>=3.0 in /usr/local/lib/python3.7/dist-packages (from mpl_scatter_density) (3.2.2)\n",
            "Requirement already satisfied: cycler>=0.10 in /usr/local/lib/python3.7/dist-packages (from matplotlib>=3.0->mpl_scatter_density) (0.10.0)\n",
            "Requirement already satisfied: kiwisolver>=1.0.1 in /usr/local/lib/python3.7/dist-packages (from matplotlib>=3.0->mpl_scatter_density) (1.3.1)\n",
            "Requirement already satisfied: pyparsing!=2.0.4,!=2.1.2,!=2.1.6,>=2.0.1 in /usr/local/lib/python3.7/dist-packages (from matplotlib>=3.0->mpl_scatter_density) (2.4.7)\n",
            "Requirement already satisfied: python-dateutil>=2.1 in /usr/local/lib/python3.7/dist-packages (from matplotlib>=3.0->mpl_scatter_density) (2.8.2)\n",
            "Requirement already satisfied: six in /usr/local/lib/python3.7/dist-packages (from cycler>=0.10->matplotlib>=3.0->mpl_scatter_density) (1.15.0)\n",
            "Installing collected packages: fast-histogram, mpl-scatter-density\n",
            "Successfully installed fast-histogram-0.9 mpl-scatter-density-0.7\n"
          ]
        }
      ],
      "source": [
        "!pip install mpl_scatter_density"
      ]
    },
    {
      "cell_type": "code",
      "execution_count": null,
      "metadata": {
        "id": "ZNh3_9EhUgi_"
      },
      "outputs": [],
      "source": [
        "import warnings"
      ]
    },
    {
      "cell_type": "code",
      "execution_count": null,
      "metadata": {
        "colab": {
          "base_uri": "https://localhost:8080/",
          "height": 791
        },
        "id": "0D5QT_DOTcuL",
        "outputId": "b74b45fe-97f8-4386-d241-f780b434e317"
      },
      "outputs": [
        {
          "data": {
            "text/plain": [
              "<matplotlib.colorbar.Colorbar at 0x7f1cb4795390>"
            ]
          },
          "execution_count": 49,
          "metadata": {},
          "output_type": "execute_result"
        },
        {
          "data": {
            "image/png": "[encoded data removed]",
            "text/plain": [
              "<Figure size 1080x936 with 8 Axes>"
            ]
          },
          "metadata": {
            "needs_background": "light"
          },
          "output_type": "display_data"
        }
      ],
      "source": [
        "warnings.filterwarnings(action='ignore')\n",
        "\n",
        "import mpl_scatter_density\n",
        "from astropy.visualization import LogStretch\n",
        "from astropy.visualization.mpl_normalize import ImageNormalize\n",
        "import matplotlib.pyplot as plt\n",
        "from matplotlib.colors import ListedColormap, LinearSegmentedColormap\n",
        "from sklearn.metrics import mean_squared_error, mean_absolute_error, r2_score\n",
        "\n",
        "\n",
        "\n",
        "rainbow = LinearSegmentedColormap.from_list('rainbow', [(0, '#FFFFFF'), (0.05, '#C8BFE7'), (0.1, '#A349A4'), (0.2, '#7092BE'), (0.3, '#3F48CC'),  \\\n",
        "                                                        (0.4, '#99D9EA'), (0.5, '#00A2E8'), (0.6, '#B5E61D'), (0.65, '#22B14C'), (0.7, '#FFC90E'), \\\n",
        "                                                        (0.8, '#FFF200'), (0.999999, '#FF7F27'), (1, '#ED1C24')], N=256)\n",
        "\n",
        "norm = ImageNormalize(vmin=0, vmax=1000, stretch=LogStretch())\n",
        "fig = plt.figure(figsize=(15,13))\n",
        "\n",
        "\n",
        "ax1 = fig.add_subplot(2, 2, 1, projection='scatter_density')\n",
        "ax1.plot(np.linspace(-80,80,100), np.linspace(-80,80,100), color='black')\n",
        "density = ax1.scatter_density(real_test_label[0:39].flatten(), real_predictions[0:39].flatten(),cmap=rainbow ,norm=norm)\n",
        "ax1.set_xlim(-80, 80)\n",
        "ax1.set_ylim(-80, 80)\n",
        "ax1.set_xlabel('LW heating rate(K/day)')\n",
        "ax1.set_ylabel('LW heating rate(NN)(K/day)')\n",
        "ax1.text(0,-60,'rmse : {}'.format(mean_squared_error(real_test_label[0:39].flatten(), real_predictions[0:39].flatten())**0.5))\n",
        "ax1.text(0,-70,'r2 : {}'.format(r2_score(real_test_label[0:39].flatten(), real_predictions[0:39].flatten())))\n",
        "fig.colorbar(density, label='Number of points per pixel')\n",
        "\n",
        "\n",
        "ax2 = fig.add_subplot(2, 2, 2, projection='scatter_density')\n",
        "density = ax2.scatter_density(real_test_label[39:78].flatten(),real_predictions[39:78].flatten(),cmap=rainbow ,norm=norm)\n",
        "ax2.plot(np.linspace(0,80,100), np.linspace(0,80,100), color='black')\n",
        "ax2.set_xlim(0, 80)\n",
        "ax2.set_ylim(0, 80)\n",
        "ax2.set_xlabel('SW heating rate(K/day)')\n",
        "ax2.set_ylabel('SW heating rate(NN)(K/day)')\n",
        "ax2.text(40,10,'rmse : {}'.format(mean_squared_error(real_test_label[39:78].flatten(),real_predictions[39:78].flatten())**0.5))\n",
        "ax2.text(40,5,'r2 : {}'.format(r2_score(real_test_label[39:78].flatten(),real_predictions[39:78].flatten())))\n",
        "fig.colorbar(density, label='Number of points per pixel')\n",
        "\n",
        "\n",
        "ax3 = fig.add_subplot(2, 2, 3, projection='scatter_density')\n",
        "density = ax3.scatter_density(real_test_label[78:84].flatten(),real_predictions[78:84].flatten(),cmap=rainbow ,norm=norm)\n",
        "ax3.plot(np.linspace(100,500,100), np.linspace(100,500,100), color='black')\n",
        "ax3.set_xlim(100,500)\n",
        "ax3.set_ylim(100,500)\n",
        "ax3.set_xlabel('LW flux(W/m2)')\n",
        "ax3.set_ylabel('LW flux(NN)(W/m2)')\n",
        "ax3.text(300,150,'rmse : {}'.format(mean_squared_error(real_test_label[78:84].flatten(),real_predictions[78:84].flatten())**0.5))\n",
        "ax3.text(300,125,'r2 : {}'.format(r2_score(real_test_label[78:84].flatten(),real_predictions[78:84].flatten())))\n",
        "fig.colorbar(density, label='Number of points per pixel')\n",
        "\n",
        "\n",
        "ax4 = fig.add_subplot(2, 2, 4, projection='scatter_density')\n",
        "density = ax4.scatter_density(real_test_label[84:86].flatten(),real_predictions[84:86].flatten(),cmap=rainbow ,norm=norm)\n",
        "ax4.plot(np.linspace(0, 1200,100), np.linspace(0, 1200,100), color='black')\n",
        "ax4.set_xlim(0, 1200)\n",
        "ax4.set_ylim(0, 1200)\n",
        "ax4.set_xlabel('SW flux(W/m2)')\n",
        "ax4.set_ylabel('SW flux(NN)(W/m2)')\n",
        "ax4.text(600,160,'rmse : {}'.format(mean_squared_error(real_test_label[84:86].flatten(),real_predictions[84:86].flatten())**0.5))\n",
        "ax4.text(600,80,'r2 : {}'.format(r2_score(real_test_label[84:86].flatten(),real_predictions[84:86].flatten())))\n",
        "fig.colorbar(density, label='Number of points per pixel')"
      ]
    }
  ],
  "metadata": {
    "accelerator": "GPU",
    "colab": {
      "collapsed_sections": [
        "zyEwdONEpRCR",
        "z0-q026bTa9y",
        "YXCKYtZnTjvu"
      ],
      "provenance": [],
      "include_colab_link": true
    },
    "kernelspec": {
      "display_name": "Python 3",
      "language": "python",
      "name": "python3"
    },
    "language_info": {
      "codemirror_mode": {
        "name": "ipython",
        "version": 3
      },
      "file_extension": ".py",
      "mimetype": "text/x-python",
      "name": "python",
      "nbconvert_exporter": "python",
      "pygments_lexer": "ipython3",
      "version": "3.8.3"
    }
  },
  "nbformat": 4,
  "nbformat_minor": 0
}